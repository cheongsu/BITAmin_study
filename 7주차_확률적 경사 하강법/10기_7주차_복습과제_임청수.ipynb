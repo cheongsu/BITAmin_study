{
  "nbformat": 4,
  "nbformat_minor": 0,
  "metadata": {
    "colab": {
      "provenance": [],
      "collapsed_sections": []
    },
    "kernelspec": {
      "name": "python3",
      "display_name": "Python 3"
    },
    "language_info": {
      "name": "python"
    }
  },
  "cells": [
    {
      "cell_type": "markdown",
      "source": [
        "# 데이터불러오기"
      ],
      "metadata": {
        "id": "szoHrFfPb2hr"
      }
    },
    {
      "cell_type": "code",
      "source": [
        "#파일 직접 업로드하기\n",
        "from google.colab import files\n",
        "myfile = files.upload()"
      ],
      "metadata": {
        "colab": {
          "base_uri": "https://localhost:8080/",
          "height": 74
        },
        "id": "K9ZeExYkcOW9",
        "outputId": "6b5f5397-071e-4bde-ab64-ad34d4ed1d9a"
      },
      "execution_count": 2,
      "outputs": [
        {
          "output_type": "display_data",
          "data": {
            "text/plain": [
              "<IPython.core.display.HTML object>"
            ],
            "text/html": [
              "\n",
              "     <input type=\"file\" id=\"files-a78e7c63-6955-499a-a927-5215d7362dc4\" name=\"files[]\" multiple disabled\n",
              "        style=\"border:none\" />\n",
              "     <output id=\"result-a78e7c63-6955-499a-a927-5215d7362dc4\">\n",
              "      Upload widget is only available when the cell has been executed in the\n",
              "      current browser session. Please rerun this cell to enable.\n",
              "      </output>\n",
              "      <script>// Copyright 2017 Google LLC\n",
              "//\n",
              "// Licensed under the Apache License, Version 2.0 (the \"License\");\n",
              "// you may not use this file except in compliance with the License.\n",
              "// You may obtain a copy of the License at\n",
              "//\n",
              "//      http://www.apache.org/licenses/LICENSE-2.0\n",
              "//\n",
              "// Unless required by applicable law or agreed to in writing, software\n",
              "// distributed under the License is distributed on an \"AS IS\" BASIS,\n",
              "// WITHOUT WARRANTIES OR CONDITIONS OF ANY KIND, either express or implied.\n",
              "// See the License for the specific language governing permissions and\n",
              "// limitations under the License.\n",
              "\n",
              "/**\n",
              " * @fileoverview Helpers for google.colab Python module.\n",
              " */\n",
              "(function(scope) {\n",
              "function span(text, styleAttributes = {}) {\n",
              "  const element = document.createElement('span');\n",
              "  element.textContent = text;\n",
              "  for (const key of Object.keys(styleAttributes)) {\n",
              "    element.style[key] = styleAttributes[key];\n",
              "  }\n",
              "  return element;\n",
              "}\n",
              "\n",
              "// Max number of bytes which will be uploaded at a time.\n",
              "const MAX_PAYLOAD_SIZE = 100 * 1024;\n",
              "\n",
              "function _uploadFiles(inputId, outputId) {\n",
              "  const steps = uploadFilesStep(inputId, outputId);\n",
              "  const outputElement = document.getElementById(outputId);\n",
              "  // Cache steps on the outputElement to make it available for the next call\n",
              "  // to uploadFilesContinue from Python.\n",
              "  outputElement.steps = steps;\n",
              "\n",
              "  return _uploadFilesContinue(outputId);\n",
              "}\n",
              "\n",
              "// This is roughly an async generator (not supported in the browser yet),\n",
              "// where there are multiple asynchronous steps and the Python side is going\n",
              "// to poll for completion of each step.\n",
              "// This uses a Promise to block the python side on completion of each step,\n",
              "// then passes the result of the previous step as the input to the next step.\n",
              "function _uploadFilesContinue(outputId) {\n",
              "  const outputElement = document.getElementById(outputId);\n",
              "  const steps = outputElement.steps;\n",
              "\n",
              "  const next = steps.next(outputElement.lastPromiseValue);\n",
              "  return Promise.resolve(next.value.promise).then((value) => {\n",
              "    // Cache the last promise value to make it available to the next\n",
              "    // step of the generator.\n",
              "    outputElement.lastPromiseValue = value;\n",
              "    return next.value.response;\n",
              "  });\n",
              "}\n",
              "\n",
              "/**\n",
              " * Generator function which is called between each async step of the upload\n",
              " * process.\n",
              " * @param {string} inputId Element ID of the input file picker element.\n",
              " * @param {string} outputId Element ID of the output display.\n",
              " * @return {!Iterable<!Object>} Iterable of next steps.\n",
              " */\n",
              "function* uploadFilesStep(inputId, outputId) {\n",
              "  const inputElement = document.getElementById(inputId);\n",
              "  inputElement.disabled = false;\n",
              "\n",
              "  const outputElement = document.getElementById(outputId);\n",
              "  outputElement.innerHTML = '';\n",
              "\n",
              "  const pickedPromise = new Promise((resolve) => {\n",
              "    inputElement.addEventListener('change', (e) => {\n",
              "      resolve(e.target.files);\n",
              "    });\n",
              "  });\n",
              "\n",
              "  const cancel = document.createElement('button');\n",
              "  inputElement.parentElement.appendChild(cancel);\n",
              "  cancel.textContent = 'Cancel upload';\n",
              "  const cancelPromise = new Promise((resolve) => {\n",
              "    cancel.onclick = () => {\n",
              "      resolve(null);\n",
              "    };\n",
              "  });\n",
              "\n",
              "  // Wait for the user to pick the files.\n",
              "  const files = yield {\n",
              "    promise: Promise.race([pickedPromise, cancelPromise]),\n",
              "    response: {\n",
              "      action: 'starting',\n",
              "    }\n",
              "  };\n",
              "\n",
              "  cancel.remove();\n",
              "\n",
              "  // Disable the input element since further picks are not allowed.\n",
              "  inputElement.disabled = true;\n",
              "\n",
              "  if (!files) {\n",
              "    return {\n",
              "      response: {\n",
              "        action: 'complete',\n",
              "      }\n",
              "    };\n",
              "  }\n",
              "\n",
              "  for (const file of files) {\n",
              "    const li = document.createElement('li');\n",
              "    li.append(span(file.name, {fontWeight: 'bold'}));\n",
              "    li.append(span(\n",
              "        `(${file.type || 'n/a'}) - ${file.size} bytes, ` +\n",
              "        `last modified: ${\n",
              "            file.lastModifiedDate ? file.lastModifiedDate.toLocaleDateString() :\n",
              "                                    'n/a'} - `));\n",
              "    const percent = span('0% done');\n",
              "    li.appendChild(percent);\n",
              "\n",
              "    outputElement.appendChild(li);\n",
              "\n",
              "    const fileDataPromise = new Promise((resolve) => {\n",
              "      const reader = new FileReader();\n",
              "      reader.onload = (e) => {\n",
              "        resolve(e.target.result);\n",
              "      };\n",
              "      reader.readAsArrayBuffer(file);\n",
              "    });\n",
              "    // Wait for the data to be ready.\n",
              "    let fileData = yield {\n",
              "      promise: fileDataPromise,\n",
              "      response: {\n",
              "        action: 'continue',\n",
              "      }\n",
              "    };\n",
              "\n",
              "    // Use a chunked sending to avoid message size limits. See b/62115660.\n",
              "    let position = 0;\n",
              "    do {\n",
              "      const length = Math.min(fileData.byteLength - position, MAX_PAYLOAD_SIZE);\n",
              "      const chunk = new Uint8Array(fileData, position, length);\n",
              "      position += length;\n",
              "\n",
              "      const base64 = btoa(String.fromCharCode.apply(null, chunk));\n",
              "      yield {\n",
              "        response: {\n",
              "          action: 'append',\n",
              "          file: file.name,\n",
              "          data: base64,\n",
              "        },\n",
              "      };\n",
              "\n",
              "      let percentDone = fileData.byteLength === 0 ?\n",
              "          100 :\n",
              "          Math.round((position / fileData.byteLength) * 100);\n",
              "      percent.textContent = `${percentDone}% done`;\n",
              "\n",
              "    } while (position < fileData.byteLength);\n",
              "  }\n",
              "\n",
              "  // All done.\n",
              "  yield {\n",
              "    response: {\n",
              "      action: 'complete',\n",
              "    }\n",
              "  };\n",
              "}\n",
              "\n",
              "scope.google = scope.google || {};\n",
              "scope.google.colab = scope.google.colab || {};\n",
              "scope.google.colab._files = {\n",
              "  _uploadFiles,\n",
              "  _uploadFilesContinue,\n",
              "};\n",
              "})(self);\n",
              "</script> "
            ]
          },
          "metadata": {}
        },
        {
          "output_type": "stream",
          "name": "stdout",
          "text": [
            "Saving train.csv to train.csv\n"
          ]
        }
      ]
    },
    {
      "cell_type": "code",
      "source": [
        "import pandas as pd\n",
        "import numpy as np\n",
        "import matplotlib.pyplot as plt\n",
        "from sklearn.preprocessing import StandardScaler\n",
        "\n",
        "df = pd.read_csv('train.csv')"
      ],
      "metadata": {
        "id": "iDMvID5Lb3mR"
      },
      "execution_count": 3,
      "outputs": []
    },
    {
      "cell_type": "code",
      "source": [
        "df.info()"
      ],
      "metadata": {
        "colab": {
          "base_uri": "https://localhost:8080/"
        },
        "id": "y3nn1sF-cdDY",
        "outputId": "ed10439b-e5f4-4a54-9c1e-e9654041f4df"
      },
      "execution_count": 5,
      "outputs": [
        {
          "output_type": "stream",
          "name": "stdout",
          "text": [
            "<class 'pandas.core.frame.DataFrame'>\n",
            "RangeIndex: 891 entries, 0 to 890\n",
            "Data columns (total 11 columns):\n",
            " #   Column    Non-Null Count  Dtype  \n",
            "---  ------    --------------  -----  \n",
            " 0   Survived  891 non-null    int64  \n",
            " 1   Pclass    891 non-null    int64  \n",
            " 2   Name      891 non-null    object \n",
            " 3   Sex       891 non-null    object \n",
            " 4   Age       714 non-null    float64\n",
            " 5   SibSp     891 non-null    int64  \n",
            " 6   Parch     891 non-null    int64  \n",
            " 7   Ticket    891 non-null    object \n",
            " 8   Fare      891 non-null    float64\n",
            " 9   Cabin     204 non-null    object \n",
            " 10  Embarked  889 non-null    object \n",
            "dtypes: float64(2), int64(4), object(5)\n",
            "memory usage: 76.7+ KB\n"
          ]
        }
      ]
    },
    {
      "cell_type": "markdown",
      "source": [
        "#### df 데이터 프레임에서 Cabin, Name, Ticket 열은 제거해주세요"
      ],
      "metadata": {
        "id": "0Moc0vwecY8J"
      }
    },
    {
      "cell_type": "code",
      "source": [
        "df.drop(['Cabin','Name','Ticket'],axis=1,inplace=True)\n",
        "df.info()"
      ],
      "metadata": {
        "id": "G4a9YfMNcHI9",
        "colab": {
          "base_uri": "https://localhost:8080/"
        },
        "outputId": "809eea01-a153-43a1-cb84-1a741d5a5372"
      },
      "execution_count": 6,
      "outputs": [
        {
          "output_type": "stream",
          "name": "stdout",
          "text": [
            "<class 'pandas.core.frame.DataFrame'>\n",
            "RangeIndex: 891 entries, 0 to 890\n",
            "Data columns (total 8 columns):\n",
            " #   Column    Non-Null Count  Dtype  \n",
            "---  ------    --------------  -----  \n",
            " 0   Survived  891 non-null    int64  \n",
            " 1   Pclass    891 non-null    int64  \n",
            " 2   Sex       891 non-null    object \n",
            " 3   Age       714 non-null    float64\n",
            " 4   SibSp     891 non-null    int64  \n",
            " 5   Parch     891 non-null    int64  \n",
            " 6   Fare      891 non-null    float64\n",
            " 7   Embarked  889 non-null    object \n",
            "dtypes: float64(2), int64(4), object(2)\n",
            "memory usage: 55.8+ KB\n"
          ]
        }
      ]
    },
    {
      "cell_type": "markdown",
      "source": [
        "#### df 데이터 프레임의 모든 결측치를 제거해봅시다"
      ],
      "metadata": {
        "id": "1HpPS63gcjfE"
      }
    },
    {
      "cell_type": "code",
      "source": [
        "df.isnull().sum()"
      ],
      "metadata": {
        "colab": {
          "base_uri": "https://localhost:8080/"
        },
        "id": "PLxoCy5BdgA2",
        "outputId": "c0fb85cb-f75a-4a8a-a6a9-1b7f8f404bf2"
      },
      "execution_count": 7,
      "outputs": [
        {
          "output_type": "execute_result",
          "data": {
            "text/plain": [
              "Survived      0\n",
              "Pclass        0\n",
              "Sex           0\n",
              "Age         177\n",
              "SibSp         0\n",
              "Parch         0\n",
              "Fare          0\n",
              "Embarked      2\n",
              "dtype: int64"
            ]
          },
          "metadata": {},
          "execution_count": 7
        }
      ]
    },
    {
      "cell_type": "code",
      "source": [
        "df = df.dropna()"
      ],
      "metadata": {
        "id": "y6v6hiJtcm4W"
      },
      "execution_count": 8,
      "outputs": []
    },
    {
      "cell_type": "code",
      "source": [
        "df.isnull().sum()"
      ],
      "metadata": {
        "colab": {
          "base_uri": "https://localhost:8080/"
        },
        "id": "zw3T2ZlidmEz",
        "outputId": "1a0b7e5c-9838-4707-fe40-19271a83a0ec"
      },
      "execution_count": 9,
      "outputs": [
        {
          "output_type": "execute_result",
          "data": {
            "text/plain": [
              "Survived    0\n",
              "Pclass      0\n",
              "Sex         0\n",
              "Age         0\n",
              "SibSp       0\n",
              "Parch       0\n",
              "Fare        0\n",
              "Embarked    0\n",
              "dtype: int64"
            ]
          },
          "metadata": {},
          "execution_count": 9
        }
      ]
    },
    {
      "cell_type": "markdown",
      "source": [
        "#### 원할한 과제 진행을 위해 아래 코드 한번 실행시켜주세요"
      ],
      "metadata": {
        "id": "KIuumlZWdTfm"
      }
    },
    {
      "cell_type": "code",
      "source": [
        "df = df.reset_index(drop=True)\n",
        "df"
      ],
      "metadata": {
        "colab": {
          "base_uri": "https://localhost:8080/",
          "height": 424
        },
        "id": "Q2pu1lHVdXuh",
        "outputId": "bdcf1c34-dbf5-4bf8-a38b-c5e2e55e5406"
      },
      "execution_count": 11,
      "outputs": [
        {
          "output_type": "execute_result",
          "data": {
            "text/plain": [
              "     Survived  Pclass     Sex   Age  SibSp  Parch     Fare Embarked\n",
              "0           0       3    male  22.0      1      0   7.2500        S\n",
              "1           1       1  female  38.0      1      0  71.2833        C\n",
              "2           1       3  female  26.0      0      0   7.9250        S\n",
              "3           1       1  female  35.0      1      0  53.1000        S\n",
              "4           0       3    male  35.0      0      0   8.0500        S\n",
              "..        ...     ...     ...   ...    ...    ...      ...      ...\n",
              "707         0       3  female  39.0      0      5  29.1250        Q\n",
              "708         0       2    male  27.0      0      0  13.0000        S\n",
              "709         1       1  female  19.0      0      0  30.0000        S\n",
              "710         1       1    male  26.0      0      0  30.0000        C\n",
              "711         0       3    male  32.0      0      0   7.7500        Q\n",
              "\n",
              "[712 rows x 8 columns]"
            ],
            "text/html": [
              "\n",
              "  <div id=\"df-548e9dad-7690-4f28-82d7-2686f9eecbae\">\n",
              "    <div class=\"colab-df-container\">\n",
              "      <div>\n",
              "<style scoped>\n",
              "    .dataframe tbody tr th:only-of-type {\n",
              "        vertical-align: middle;\n",
              "    }\n",
              "\n",
              "    .dataframe tbody tr th {\n",
              "        vertical-align: top;\n",
              "    }\n",
              "\n",
              "    .dataframe thead th {\n",
              "        text-align: right;\n",
              "    }\n",
              "</style>\n",
              "<table border=\"1\" class=\"dataframe\">\n",
              "  <thead>\n",
              "    <tr style=\"text-align: right;\">\n",
              "      <th></th>\n",
              "      <th>Survived</th>\n",
              "      <th>Pclass</th>\n",
              "      <th>Sex</th>\n",
              "      <th>Age</th>\n",
              "      <th>SibSp</th>\n",
              "      <th>Parch</th>\n",
              "      <th>Fare</th>\n",
              "      <th>Embarked</th>\n",
              "    </tr>\n",
              "  </thead>\n",
              "  <tbody>\n",
              "    <tr>\n",
              "      <th>0</th>\n",
              "      <td>0</td>\n",
              "      <td>3</td>\n",
              "      <td>male</td>\n",
              "      <td>22.0</td>\n",
              "      <td>1</td>\n",
              "      <td>0</td>\n",
              "      <td>7.2500</td>\n",
              "      <td>S</td>\n",
              "    </tr>\n",
              "    <tr>\n",
              "      <th>1</th>\n",
              "      <td>1</td>\n",
              "      <td>1</td>\n",
              "      <td>female</td>\n",
              "      <td>38.0</td>\n",
              "      <td>1</td>\n",
              "      <td>0</td>\n",
              "      <td>71.2833</td>\n",
              "      <td>C</td>\n",
              "    </tr>\n",
              "    <tr>\n",
              "      <th>2</th>\n",
              "      <td>1</td>\n",
              "      <td>3</td>\n",
              "      <td>female</td>\n",
              "      <td>26.0</td>\n",
              "      <td>0</td>\n",
              "      <td>0</td>\n",
              "      <td>7.9250</td>\n",
              "      <td>S</td>\n",
              "    </tr>\n",
              "    <tr>\n",
              "      <th>3</th>\n",
              "      <td>1</td>\n",
              "      <td>1</td>\n",
              "      <td>female</td>\n",
              "      <td>35.0</td>\n",
              "      <td>1</td>\n",
              "      <td>0</td>\n",
              "      <td>53.1000</td>\n",
              "      <td>S</td>\n",
              "    </tr>\n",
              "    <tr>\n",
              "      <th>4</th>\n",
              "      <td>0</td>\n",
              "      <td>3</td>\n",
              "      <td>male</td>\n",
              "      <td>35.0</td>\n",
              "      <td>0</td>\n",
              "      <td>0</td>\n",
              "      <td>8.0500</td>\n",
              "      <td>S</td>\n",
              "    </tr>\n",
              "    <tr>\n",
              "      <th>...</th>\n",
              "      <td>...</td>\n",
              "      <td>...</td>\n",
              "      <td>...</td>\n",
              "      <td>...</td>\n",
              "      <td>...</td>\n",
              "      <td>...</td>\n",
              "      <td>...</td>\n",
              "      <td>...</td>\n",
              "    </tr>\n",
              "    <tr>\n",
              "      <th>707</th>\n",
              "      <td>0</td>\n",
              "      <td>3</td>\n",
              "      <td>female</td>\n",
              "      <td>39.0</td>\n",
              "      <td>0</td>\n",
              "      <td>5</td>\n",
              "      <td>29.1250</td>\n",
              "      <td>Q</td>\n",
              "    </tr>\n",
              "    <tr>\n",
              "      <th>708</th>\n",
              "      <td>0</td>\n",
              "      <td>2</td>\n",
              "      <td>male</td>\n",
              "      <td>27.0</td>\n",
              "      <td>0</td>\n",
              "      <td>0</td>\n",
              "      <td>13.0000</td>\n",
              "      <td>S</td>\n",
              "    </tr>\n",
              "    <tr>\n",
              "      <th>709</th>\n",
              "      <td>1</td>\n",
              "      <td>1</td>\n",
              "      <td>female</td>\n",
              "      <td>19.0</td>\n",
              "      <td>0</td>\n",
              "      <td>0</td>\n",
              "      <td>30.0000</td>\n",
              "      <td>S</td>\n",
              "    </tr>\n",
              "    <tr>\n",
              "      <th>710</th>\n",
              "      <td>1</td>\n",
              "      <td>1</td>\n",
              "      <td>male</td>\n",
              "      <td>26.0</td>\n",
              "      <td>0</td>\n",
              "      <td>0</td>\n",
              "      <td>30.0000</td>\n",
              "      <td>C</td>\n",
              "    </tr>\n",
              "    <tr>\n",
              "      <th>711</th>\n",
              "      <td>0</td>\n",
              "      <td>3</td>\n",
              "      <td>male</td>\n",
              "      <td>32.0</td>\n",
              "      <td>0</td>\n",
              "      <td>0</td>\n",
              "      <td>7.7500</td>\n",
              "      <td>Q</td>\n",
              "    </tr>\n",
              "  </tbody>\n",
              "</table>\n",
              "<p>712 rows × 8 columns</p>\n",
              "</div>\n",
              "      <button class=\"colab-df-convert\" onclick=\"convertToInteractive('df-548e9dad-7690-4f28-82d7-2686f9eecbae')\"\n",
              "              title=\"Convert this dataframe to an interactive table.\"\n",
              "              style=\"display:none;\">\n",
              "        \n",
              "  <svg xmlns=\"http://www.w3.org/2000/svg\" height=\"24px\"viewBox=\"0 0 24 24\"\n",
              "       width=\"24px\">\n",
              "    <path d=\"M0 0h24v24H0V0z\" fill=\"none\"/>\n",
              "    <path d=\"M18.56 5.44l.94 2.06.94-2.06 2.06-.94-2.06-.94-.94-2.06-.94 2.06-2.06.94zm-11 1L8.5 8.5l.94-2.06 2.06-.94-2.06-.94L8.5 2.5l-.94 2.06-2.06.94zm10 10l.94 2.06.94-2.06 2.06-.94-2.06-.94-.94-2.06-.94 2.06-2.06.94z\"/><path d=\"M17.41 7.96l-1.37-1.37c-.4-.4-.92-.59-1.43-.59-.52 0-1.04.2-1.43.59L10.3 9.45l-7.72 7.72c-.78.78-.78 2.05 0 2.83L4 21.41c.39.39.9.59 1.41.59.51 0 1.02-.2 1.41-.59l7.78-7.78 2.81-2.81c.8-.78.8-2.07 0-2.86zM5.41 20L4 18.59l7.72-7.72 1.47 1.35L5.41 20z\"/>\n",
              "  </svg>\n",
              "      </button>\n",
              "      \n",
              "  <style>\n",
              "    .colab-df-container {\n",
              "      display:flex;\n",
              "      flex-wrap:wrap;\n",
              "      gap: 12px;\n",
              "    }\n",
              "\n",
              "    .colab-df-convert {\n",
              "      background-color: #E8F0FE;\n",
              "      border: none;\n",
              "      border-radius: 50%;\n",
              "      cursor: pointer;\n",
              "      display: none;\n",
              "      fill: #1967D2;\n",
              "      height: 32px;\n",
              "      padding: 0 0 0 0;\n",
              "      width: 32px;\n",
              "    }\n",
              "\n",
              "    .colab-df-convert:hover {\n",
              "      background-color: #E2EBFA;\n",
              "      box-shadow: 0px 1px 2px rgba(60, 64, 67, 0.3), 0px 1px 3px 1px rgba(60, 64, 67, 0.15);\n",
              "      fill: #174EA6;\n",
              "    }\n",
              "\n",
              "    [theme=dark] .colab-df-convert {\n",
              "      background-color: #3B4455;\n",
              "      fill: #D2E3FC;\n",
              "    }\n",
              "\n",
              "    [theme=dark] .colab-df-convert:hover {\n",
              "      background-color: #434B5C;\n",
              "      box-shadow: 0px 1px 3px 1px rgba(0, 0, 0, 0.15);\n",
              "      filter: drop-shadow(0px 1px 2px rgba(0, 0, 0, 0.3));\n",
              "      fill: #FFFFFF;\n",
              "    }\n",
              "  </style>\n",
              "\n",
              "      <script>\n",
              "        const buttonEl =\n",
              "          document.querySelector('#df-548e9dad-7690-4f28-82d7-2686f9eecbae button.colab-df-convert');\n",
              "        buttonEl.style.display =\n",
              "          google.colab.kernel.accessAllowed ? 'block' : 'none';\n",
              "\n",
              "        async function convertToInteractive(key) {\n",
              "          const element = document.querySelector('#df-548e9dad-7690-4f28-82d7-2686f9eecbae');\n",
              "          const dataTable =\n",
              "            await google.colab.kernel.invokeFunction('convertToInteractive',\n",
              "                                                     [key], {});\n",
              "          if (!dataTable) return;\n",
              "\n",
              "          const docLinkHtml = 'Like what you see? Visit the ' +\n",
              "            '<a target=\"_blank\" href=https://colab.research.google.com/notebooks/data_table.ipynb>data table notebook</a>'\n",
              "            + ' to learn more about interactive tables.';\n",
              "          element.innerHTML = '';\n",
              "          dataTable['output_type'] = 'display_data';\n",
              "          await google.colab.output.renderOutput(dataTable, element);\n",
              "          const docLink = document.createElement('div');\n",
              "          docLink.innerHTML = docLinkHtml;\n",
              "          element.appendChild(docLink);\n",
              "        }\n",
              "      </script>\n",
              "    </div>\n",
              "  </div>\n",
              "  "
            ]
          },
          "metadata": {},
          "execution_count": 11
        }
      ]
    },
    {
      "cell_type": "markdown",
      "source": [
        "#### df 데이터 프레임을 features와 target으로 구분지읍시다\n",
        "#### target = Survived, features는 그 외 모든 변수"
      ],
      "metadata": {
        "id": "Qbt6Gwmyc_V6"
      }
    },
    {
      "cell_type": "code",
      "source": [
        "features = df.drop(['Survived'],axis=1)\n",
        "target = df[['Survived']]"
      ],
      "metadata": {
        "id": "46O8JUEScozG"
      },
      "execution_count": 15,
      "outputs": []
    },
    {
      "cell_type": "code",
      "source": [
        "target.info()"
      ],
      "metadata": {
        "colab": {
          "base_uri": "https://localhost:8080/"
        },
        "id": "2IH3eLrVene4",
        "outputId": "3b70c459-5c29-41b9-c9ab-12f01b8b58bb"
      },
      "execution_count": 16,
      "outputs": [
        {
          "output_type": "stream",
          "name": "stdout",
          "text": [
            "<class 'pandas.core.frame.DataFrame'>\n",
            "RangeIndex: 712 entries, 0 to 711\n",
            "Data columns (total 1 columns):\n",
            " #   Column    Non-Null Count  Dtype\n",
            "---  ------    --------------  -----\n",
            " 0   Survived  712 non-null    int64\n",
            "dtypes: int64(1)\n",
            "memory usage: 5.7 KB\n"
          ]
        }
      ]
    },
    {
      "cell_type": "markdown",
      "source": [
        "#### features 데이터 프레임을 카테고리형 변수(Pclass, Sex, Embarked),\n",
        "#### 연속형 변수('Age','SibSp','Parch','Fare')로 구분하여 각각\n",
        "#### features_cat, features_con 변수에 저장해주세요"
      ],
      "metadata": {
        "id": "xXqEC1Asdk7b"
      }
    },
    {
      "cell_type": "code",
      "source": [
        "features_cat = features[['Pclass','Sex','Embarked']]\n",
        "features_con = features[['Age','SibSp','Parch','Fare']]"
      ],
      "metadata": {
        "id": "XT8FK7rAdnLV"
      },
      "execution_count": 17,
      "outputs": []
    },
    {
      "cell_type": "markdown",
      "source": [
        "#### features_cat.info()를 통해 데이터의 자료형을 확인해봅시다"
      ],
      "metadata": {
        "id": "fD5c1zD3e2g8"
      }
    },
    {
      "cell_type": "code",
      "source": [
        "features_cat.info()"
      ],
      "metadata": {
        "colab": {
          "base_uri": "https://localhost:8080/"
        },
        "id": "GtuqLus1enFT",
        "outputId": "004ae025-d904-4c82-eb71-1238107caccd"
      },
      "execution_count": 20,
      "outputs": [
        {
          "output_type": "stream",
          "name": "stdout",
          "text": [
            "<class 'pandas.core.frame.DataFrame'>\n",
            "RangeIndex: 712 entries, 0 to 711\n",
            "Data columns (total 3 columns):\n",
            " #   Column    Non-Null Count  Dtype \n",
            "---  ------    --------------  ----- \n",
            " 0   Pclass    712 non-null    int64 \n",
            " 1   Sex       712 non-null    object\n",
            " 2   Embarked  712 non-null    object\n",
            "dtypes: int64(1), object(2)\n",
            "memory usage: 16.8+ KB\n"
          ]
        }
      ]
    },
    {
      "cell_type": "markdown",
      "source": [
        "#### features_cat 데이터프레임을 숫자로 인코딩합시다\n",
        "#### 그리고 features_cat의 모든 열이 int 자료형으로 지정되도록 확인합시다"
      ],
      "metadata": {
        "id": "dEWpQr2xpEC3"
      }
    },
    {
      "cell_type": "code",
      "source": [
        "from sklearn.preprocessing import LabelEncoder\n",
        "\n",
        "encoder = LabelEncoder()\n",
        "features_cat['Sex'] = encoder.fit_transform(features_cat['Sex'].values)\n",
        "features_cat['Embarked'] = encoder.fit_transform(features_cat['Embarked'].values)\n",
        "features_cat['Pclass'] = encoder.fit_transform(features_cat['Pclass'].values)\n",
        "\n",
        "features_cat.info()\n",
        "\n",
        "# labelencoding??? onehotencoding?? "
      ],
      "metadata": {
        "id": "4xhCal7hpH5r",
        "colab": {
          "base_uri": "https://localhost:8080/"
        },
        "outputId": "fcfca437-9b04-44b2-b706-09a9545ba47b"
      },
      "execution_count": 22,
      "outputs": [
        {
          "output_type": "stream",
          "name": "stdout",
          "text": [
            "<class 'pandas.core.frame.DataFrame'>\n",
            "RangeIndex: 712 entries, 0 to 711\n",
            "Data columns (total 3 columns):\n",
            " #   Column    Non-Null Count  Dtype\n",
            "---  ------    --------------  -----\n",
            " 0   Pclass    712 non-null    int64\n",
            " 1   Sex       712 non-null    int64\n",
            " 2   Embarked  712 non-null    int64\n",
            "dtypes: int64(3)\n",
            "memory usage: 16.8 KB\n"
          ]
        },
        {
          "output_type": "stream",
          "name": "stderr",
          "text": [
            "/usr/local/lib/python3.7/dist-packages/ipykernel_launcher.py:4: SettingWithCopyWarning: \n",
            "A value is trying to be set on a copy of a slice from a DataFrame.\n",
            "Try using .loc[row_indexer,col_indexer] = value instead\n",
            "\n",
            "See the caveats in the documentation: https://pandas.pydata.org/pandas-docs/stable/user_guide/indexing.html#returning-a-view-versus-a-copy\n",
            "  after removing the cwd from sys.path.\n",
            "/usr/local/lib/python3.7/dist-packages/ipykernel_launcher.py:5: SettingWithCopyWarning: \n",
            "A value is trying to be set on a copy of a slice from a DataFrame.\n",
            "Try using .loc[row_indexer,col_indexer] = value instead\n",
            "\n",
            "See the caveats in the documentation: https://pandas.pydata.org/pandas-docs/stable/user_guide/indexing.html#returning-a-view-versus-a-copy\n",
            "  \"\"\"\n",
            "/usr/local/lib/python3.7/dist-packages/ipykernel_launcher.py:6: SettingWithCopyWarning: \n",
            "A value is trying to be set on a copy of a slice from a DataFrame.\n",
            "Try using .loc[row_indexer,col_indexer] = value instead\n",
            "\n",
            "See the caveats in the documentation: https://pandas.pydata.org/pandas-docs/stable/user_guide/indexing.html#returning-a-view-versus-a-copy\n",
            "  \n"
          ]
        }
      ]
    },
    {
      "cell_type": "markdown",
      "source": [
        "#### features_con 데이터 프레임은 표준화 작업을 진행해줍시다\n",
        "#### 그리고 features_con_std 변수에 데이터 프레임 형태로 저장해줍시다"
      ],
      "metadata": {
        "id": "oIzlG9dmf1vb"
      }
    },
    {
      "cell_type": "code",
      "source": [
        "stand = StandardScaler()\n",
        "features_con_std = pd.DataFrame(stand.fit_transform(features_con),columns = features_con.columns)"
      ],
      "metadata": {
        "id": "jThMcurOgAqI"
      },
      "execution_count": 23,
      "outputs": []
    },
    {
      "cell_type": "markdown",
      "source": [
        "#### 경사 하강법 구현을 위해 적절한 데이터를 찾아보겠습니다"
      ],
      "metadata": {
        "id": "lKXgaMjkhzEb"
      }
    },
    {
      "cell_type": "code",
      "source": [
        "f, axes = plt.subplots(4, 4)\n",
        "f.set_size_inches((20, 15))\n",
        "plt.subplots_adjust(wspace = 0.3, hspace = 0.3)\n",
        "\n",
        "col_lis = list(features_con_std.columns)\n",
        "for i in range(4):\n",
        "  for j in range(4):\n",
        "    axes[i,j].scatter(features_con_std[col_lis[i]],features_con_std[col_lis[j]],s = 4)\n",
        "    axes[i,j].set_xlabel(col_lis[i])\n",
        "    axes[i,j].set_ylabel(col_lis[j])\n",
        "\n",
        "plt.show()"
      ],
      "metadata": {
        "colab": {
          "base_uri": "https://localhost:8080/",
          "height": 482
        },
        "id": "IoBlx6tQhJ72",
        "outputId": "e27933a3-ba01-41ea-d029-5aefc1805fd2"
      },
      "execution_count": 24,
      "outputs": [
        {
          "output_type": "display_data",
          "data": {
            "text/plain": [
              "<Figure size 1440x1080 with 16 Axes>"
            ],
            "image/png": "[encoded data removed]"
          },
          "metadata": {
            "needs_background": "light"
          }
        }
      ]
    },
    {
      "cell_type": "markdown",
      "source": [
        "#### 앞으로의 실습에서 features_con_std 데이터 프레임의 \n",
        "#### x = Age, y = Fare를 사용해보도록 합시다"
      ],
      "metadata": {
        "id": "GJt6uRdPh3vV"
      }
    },
    {
      "cell_type": "markdown",
      "source": [
        "#### 우선 훈련셋, 테스트 셋으로 데이터 구분합시다(test_size = 0.3, random_state = 42)"
      ],
      "metadata": {
        "id": "uxr_-S1njYsI"
      }
    },
    {
      "cell_type": "code",
      "source": [
        "from sklearn.model_selection import train_test_split\n",
        "x_train,x_test,y_train,y_test = train_test_split(features_con_std['Age'],features_con_std['Fare'],test_size=0.3,random_state=42)"
      ],
      "metadata": {
        "id": "0SjcD-x6h7_k"
      },
      "execution_count": 38,
      "outputs": []
    },
    {
      "cell_type": "code",
      "source": [
        "x_train.shape\n",
        "y_train.shape"
      ],
      "metadata": {
        "colab": {
          "base_uri": "https://localhost:8080/"
        },
        "id": "e6pLSTOBqO1k",
        "outputId": "3fb44bda-dce6-4fc4-9cec-0f5f565bcb82"
      },
      "execution_count": 39,
      "outputs": [
        {
          "output_type": "execute_result",
          "data": {
            "text/plain": [
              "(498,)"
            ]
          },
          "metadata": {},
          "execution_count": 39
        }
      ]
    },
    {
      "cell_type": "markdown",
      "source": [
        "#### 경사하강법 코드를 실행하여 최적의 w,b를 찾아주세요"
      ],
      "metadata": {
        "id": "I4U8AILsjysc"
      }
    },
    {
      "cell_type": "code",
      "source": [
        "errors = []\n",
        "ww = []\n",
        "# random 한 값으로 w, b의 초기값을 설정합니다\n",
        "w = np.random.uniform(low=-1.0, high=1.0)\n",
        "b = np.random.uniform(low=-1.0, high=1.0)\n",
        "\n",
        "x = x_train\n",
        "y = y_train\n",
        "\n",
        "#에포크()\n",
        "num_epoch = 150\n",
        "learning_rate = 0.1\n",
        "\n",
        "for epoch in range(num_epoch):\n",
        "    y_hat = x * w + b\n",
        "    error = ((y_hat - y)**2).mean()\n",
        "    if error < 0.0005:\n",
        "        break\n",
        "    \n",
        "    w = w - learning_rate * ((y_hat - y) * x).mean()\n",
        "    b = b - learning_rate * (y_hat - y).mean()\n",
        "    \n",
        "    errors.append(error)\n",
        "    ww.append(w)\n",
        "\n",
        "    if epoch % 5 == 0:\n",
        "        print(\"{0:2} w = {1:.5f}, b = {2:.5f} error = {3:.5f}\".format(epoch, w, b, error))\n",
        "\n",
        "print(\"----\" * 15)\n",
        "print(epoch,'w:' ,round(w,5),'b:' ,round(b,5), 'error:',round(error,5))"
      ],
      "metadata": {
        "colab": {
          "base_uri": "https://localhost:8080/"
        },
        "id": "Mnvr_E46ikB_",
        "outputId": "2293df9e-140c-4804-8e6a-f7d635fa203c"
      },
      "execution_count": 40,
      "outputs": [
        {
          "output_type": "stream",
          "name": "stdout",
          "text": [
            " 0 w = 0.64181, b = -0.30478 error = 1.24753\n",
            " 5 w = 0.41160, b = -0.20293 error = 0.94339\n",
            "10 w = 0.27643, b = -0.14192 error = 0.83784\n",
            "15 w = 0.19705, b = -0.10539 error = 0.80120\n",
            "20 w = 0.15044, b = -0.08352 error = 0.78848\n",
            "25 w = 0.12307, b = -0.07043 error = 0.78406\n",
            "30 w = 0.10699, b = -0.06260 error = 0.78252\n",
            "35 w = 0.09755, b = -0.05792 error = 0.78199\n",
            "40 w = 0.09200, b = -0.05512 error = 0.78181\n",
            "45 w = 0.08874, b = -0.05344 error = 0.78174\n",
            "50 w = 0.08683, b = -0.05244 error = 0.78172\n",
            "55 w = 0.08570, b = -0.05184 error = 0.78171\n",
            "60 w = 0.08504, b = -0.05149 error = 0.78171\n",
            "65 w = 0.08465, b = -0.05127 error = 0.78171\n",
            "70 w = 0.08443, b = -0.05114 error = 0.78171\n",
            "75 w = 0.08429, b = -0.05107 error = 0.78171\n",
            "80 w = 0.08421, b = -0.05102 error = 0.78171\n",
            "85 w = 0.08417, b = -0.05100 error = 0.78171\n",
            "90 w = 0.08414, b = -0.05098 error = 0.78171\n",
            "95 w = 0.08412, b = -0.05097 error = 0.78171\n",
            "100 w = 0.08411, b = -0.05096 error = 0.78171\n",
            "105 w = 0.08411, b = -0.05096 error = 0.78171\n",
            "110 w = 0.08411, b = -0.05096 error = 0.78171\n",
            "115 w = 0.08410, b = -0.05096 error = 0.78171\n",
            "120 w = 0.08410, b = -0.05096 error = 0.78171\n",
            "125 w = 0.08410, b = -0.05096 error = 0.78171\n",
            "130 w = 0.08410, b = -0.05096 error = 0.78171\n",
            "135 w = 0.08410, b = -0.05096 error = 0.78171\n",
            "140 w = 0.08410, b = -0.05096 error = 0.78171\n",
            "145 w = 0.08410, b = -0.05096 error = 0.78171\n",
            "------------------------------------------------------------\n",
            "149 w: 0.0841 b: -0.05096 error: 0.78171\n"
          ]
        }
      ]
    },
    {
      "cell_type": "markdown",
      "source": [
        "#### 실습 결과 나타난 최적의 w, b 값을 이용하여 predict 데이터를 만드세요\n"
      ],
      "metadata": {
        "id": "i2UrPlMoj5L9"
      }
    },
    {
      "cell_type": "code",
      "source": [
        "yy = w*x_test+b \n",
        "y_pred = np.array(yy)\n",
        "\n",
        "y_pred.shape"
      ],
      "metadata": {
        "id": "m2rfd02ui3ph",
        "colab": {
          "base_uri": "https://localhost:8080/"
        },
        "outputId": "64f1081e-23d4-4ef2-f1ce-a545017ed2ea"
      },
      "execution_count": 41,
      "outputs": [
        {
          "output_type": "execute_result",
          "data": {
            "text/plain": [
              "(214,)"
            ]
          },
          "metadata": {},
          "execution_count": 41
        }
      ]
    },
    {
      "cell_type": "markdown",
      "source": [
        "#### y_test와 y_pred를 이용하여 MSE를 구해보세요"
      ],
      "metadata": {
        "id": "j9OqC-hbj8_Q"
      }
    },
    {
      "cell_type": "code",
      "source": [
        "from sklearn.metrics import mean_squared_error\n",
        "mse = mean_squared_error(y_pred,y_test)\n",
        "\n",
        "print(mse)"
      ],
      "metadata": {
        "colab": {
          "base_uri": "https://localhost:8080/"
        },
        "id": "pMJivk3Pi5pp",
        "outputId": "03ccefd3-87e4-453c-b41f-422dcdcaa1a7"
      },
      "execution_count": 43,
      "outputs": [
        {
          "output_type": "stream",
          "name": "stdout",
          "text": [
            "1.4880360556942627\n"
          ]
        }
      ]
    },
    {
      "cell_type": "markdown",
      "source": [
        "#### w값에 따른 오차를 그래프를 통해 시각화 해보세요\n",
        "#### 위 경사하강법 코드에서 만든 ww, errors 리스트를 활용"
      ],
      "metadata": {
        "id": "JNAIvWizkPqt"
      }
    },
    {
      "cell_type": "code",
      "source": [
        "print(ww)\n",
        "print(errors)"
      ],
      "metadata": {
        "colab": {
          "base_uri": "https://localhost:8080/"
        },
        "id": "XTIu8ty6rTC2",
        "outputId": "ba5c3e78-9095-4bd7-d30e-7379397a3774"
      },
      "execution_count": 44,
      "outputs": [
        {
          "output_type": "stream",
          "name": "stdout",
          "text": [
            "[0.6418090370966093, 0.5854794082363469, 0.5348401990324058, 0.489316460687669, 0.44839134640382566, 0.41160023879323765, 0.3785254709594252, 0.3487915812208894, 0.32206104752313836, 0.29803045303997416, 0.27642703936943913, 0.25700560813813644, 0.23954573579010574, 0.22384926989815518, 0.20973807853705664, 0.1970520271357439, 0.18564715981235838, 0.17539406452110398, 0.1661764034298584, 0.1578895918261251, 0.15043961053757532, 0.14374193837133514, 0.13772059244059048, 0.1323072654735346, 0.1274405503021235, 0.12306524271907276, 0.11913171478230195, 0.11559535144673885, 0.11241604412314611, 0.1095577354106121, 0.10698800983091643, 0.10467772591575138, 0.10260068546770006, 0.10073333623828419, 0.09905450464610281, 0.0975451554994055, 0.09618817599426169, 0.09496818153528955, 0.0938713411738296, 0.09288522068130921, 0.09199864147587712, 0.09120155380047072, 0.09048492271235899, 0.08984062558972289, 0.08926135999164442, 0.08874056082546429, 0.08827232588117201, 0.08785134888751235, 0.08747285932990931, 0.08713256834709267, 0.08682662009233669, 0.0865515480072687, 0.08630423551198367, 0.08608188066534152, 0.08588196439439864, 0.0857022219324439, 0.08554061714153428, 0.08539531942816968, 0.08526468299018107, 0.08514722815936808, 0.08504162462820865, 0.08494667637034793, 0.08486130808379631, 0.08478455300304771, 0.08471554194186426, 0.08465349344243883, 0.08459770491920149, 0.08454754469682199, 0.08450244485210637, 0.08446189477860676, 0.0844254354009628, 0.08439265397336455, 0.08436317940315306, 0.08433667804653198, 0.08431284992871928, 0.08429142534568208, 0.08427216180892633, 0.08425484129870328, 0.0842392677944935, 0.08422526505477296, 0.08421267462089337, 0.08420135402245012, 0.08419117516379598, 0.08418202287341289, 0.08417379359970062, 0.08416639423840126, 0.08415974107837101, 0.08415375885375226, 0.08414837989180533, 0.08414354334674379, 0.08413919451089176, 0.08413528419535862, 0.08413176817321406, 0.08412860667885498, 0.0841257639578927, 0.08412320786246134, 0.08412090948736305, 0.08411884284292855, 0.08411698456088752, 0.08411531362991741, 0.08411381115787528, 0.08411246015802024, 0.08411124535680506, 0.08411015302106056, 0.08410917080261565, 0.08410828759859362, 0.08410749342580294, 0.08410677930780013, 0.08410613717334614, 0.08410555976510671, 0.08410504055756289, 0.08410457368320257, 0.08410415386615744, 0.08410377636253427, 0.08410343690676497, 0.08410313166336832, 0.08410285718357725, 0.08410261036634112, 0.08410238842326112, 0.0841021888470626, 0.084102009383247, 0.08410184800460307, 0.0841017028882886, 0.08410157239522353, 0.08410145505156141, 0.0841013495320292, 0.0841012546449474, 0.08410116931876069, 0.08410109258992683, 0.08410102359202697, 0.0841009615459739, 0.08410090575120777, 0.08410085557777948, 0.08410081045923241, 0.08410076988620184, 0.08410073340065967, 0.08410070059073949, 0.08410067108608339, 0.0841006445536579, 0.08410062069399173, 0.08410059923779284, 0.0841005799429066, 0.08410056259158048, 0.08410054698800469, 0.08410053295610051, 0.08410052033753174, 0.08410050898991654, 0.08410049878521954, 0.08410048960830598, 0.08410048135564165]\n",
            "[1.2475298347525423, 1.158672126188105, 1.086767085779797, 1.0285798959758197, 0.9814930881365888, 0.9433887056865666, 0.9125529630654454, 0.8875991051940311, 0.8674049924329205, 0.8510625996051737, 0.8378371545063482, 0.8271340756469489, 0.8184722203485019, 0.811462238588339, 0.8057890579764335, 0.8011977113184195, 0.7974818687599212, 0.7944745583039226, 0.7920406570345263, 0.7900708151078959, 0.7884765390771943, 0.7871862133094182, 0.7861418804796224, 0.7852966362945275, 0.7846125212419638, 0.7840588145302504, 0.7836106534798092, 0.7832479162731742, 0.7829543178184686, 0.7827166780689389, 0.7825243298989109, 0.7823686399138265, 0.7822426206514013, 0.7821406167410616, 0.7820580509146591, 0.7819912184526786, 0.7819371208279136, 0.7818933310707945, 0.7818578848065972, 0.7818291920687025, 0.7818059659259058, 0.7817871647174482, 0.7817719453009503, 0.7817596252133228, 0.7817496520451872, 0.781741578653437, 0.7817350430988513, 0.781729752407915, 0.7817254694297849, 0.7817220021983468, 0.7817191953218129, 0.7817169230133687, 0.7817150834500468, 0.7817135942066598, 0.7817123885598828, 0.7817114124966327, 0.7817106222925155, 0.7817099825516973, 0.7817094646202598, 0.781709045301865, 0.781708705818125, 0.7817084309670405, 0.7817082084417697, 0.7817080282791794, 0.7817078824134444, 0.7817077643146857, 0.7817076686964439, 0.7817075912788737, 0.7817075285970425, 0.781707477845744, 0.781707436753867, 0.7817074034826925, 0.7817073765435604, 0.781707354731214, 0.7817073370698406, 0.7817073227693856, 0.7817073111901867, 0.7817073018143407, 0.7817072942225247, 0.7817072880752285, 0.7817072830975612, 0.7817072790669507, 0.7817072758031847, 0.7817072731603473, 0.7817072710202916, 0.781707269287354, 0.7817072678840752, 0.7817072667477355, 0.7817072658275497, 0.7817072650823955, 0.7817072644789752, 0.7817072639903265, 0.7817072635946167, 0.7817072632741668, 0.7817072630146616, 0.7817072628045084, 0.7817072626343208, 0.7817072624964971, 0.7817072623848823, 0.7817072622944914, 0.7817072622212884, 0.7817072621620045, 0.7817072621139928, 0.7817072620751094, 0.7817072620436192, 0.7817072620181156, 0.7817072619974607, 0.7817072619807325, 0.7817072619671845, 0.7817072619562119, 0.7817072619473251, 0.7817072619401276, 0.7817072619342983, 0.7817072619295767, 0.7817072619257527, 0.7817072619226557, 0.7817072619201473, 0.7817072619181155, 0.7817072619164699, 0.781707261915137, 0.7817072619140574, 0.781707261913183, 0.7817072619124746, 0.7817072619119011, 0.7817072619114362, 0.7817072619110599, 0.781707261910755, 0.7817072619105082, 0.781707261910308, 0.7817072619101462, 0.7817072619100149, 0.7817072619099086, 0.7817072619098225, 0.7817072619097527, 0.7817072619096963, 0.7817072619096503, 0.7817072619096134, 0.7817072619095834, 0.7817072619095591, 0.7817072619095392, 0.7817072619095233, 0.7817072619095105, 0.7817072619094999, 0.7817072619094915, 0.7817072619094844, 0.7817072619094789, 0.7817072619094746, 0.7817072619094709, 0.7817072619094677, 0.7817072619094655]\n"
          ]
        }
      ]
    },
    {
      "cell_type": "code",
      "source": [
        "plt.plot(ww,errors)\n",
        "plt.xlabel('w')\n",
        "plt.ylabel('error')\n"
      ],
      "metadata": {
        "colab": {
          "base_uri": "https://localhost:8080/",
          "height": 297
        },
        "id": "_6jOeAzWi7p4",
        "outputId": "1ca2aef9-b69f-4767-f914-a70d6a66b35f"
      },
      "execution_count": 45,
      "outputs": [
        {
          "output_type": "execute_result",
          "data": {
            "text/plain": [
              "Text(0, 0.5, 'error')"
            ]
          },
          "metadata": {},
          "execution_count": 45
        },
        {
          "output_type": "display_data",
          "data": {
            "text/plain": [
              "<Figure size 432x288 with 1 Axes>"
            ],
            "image/png": "[encoded data removed]"
          },
          "metadata": {
            "needs_background": "light"
          }
        }
      ]
    },
    {
      "cell_type": "markdown",
      "source": [
        "#### 경사하강법을 통해 구한 식을 plt.plot을 통한 직선, Age와 Fare의 분포는 plt.scatter로 같이 시각화 해봅시다"
      ],
      "metadata": {
        "id": "u-MTiGArkSeE"
      }
    },
    {
      "cell_type": "code",
      "source": [
        "plt.plot(features_con_std['Age'],w*np.array(features_con_std['Age'])+b ,c='r')\n",
        "plt.scatter(features_con_std['Age'],features_con_std['Fare'],s=4)\n",
        "plt.xlabel('Age')\n",
        "plt.ylabel('Fare')"
      ],
      "metadata": {
        "colab": {
          "base_uri": "https://localhost:8080/",
          "height": 297
        },
        "id": "H9haBNLljAFE",
        "outputId": "d2d66230-0991-41b0-b7e8-6f8acb6fabcd"
      },
      "execution_count": 50,
      "outputs": [
        {
          "output_type": "execute_result",
          "data": {
            "text/plain": [
              "Text(0, 0.5, 'Fare')"
            ]
          },
          "metadata": {},
          "execution_count": 50
        },
        {
          "output_type": "display_data",
          "data": {
            "text/plain": [
              "<Figure size 432x288 with 1 Axes>"
            ],
            "image/png": "[encoded data removed]"
          },
          "metadata": {
            "needs_background": "light"
          }
        }
      ]
    },
    {
      "cell_type": "markdown",
      "source": [
        "## 확률적 경사하강법(직접 구현보단 SGDRegressor라는 패키지를 사용합시다)"
      ],
      "metadata": {
        "id": "KTcD_e02mQq1"
      }
    },
    {
      "cell_type": "markdown",
      "source": [
        "### SGDRegressor 패키지를 불러오고, 파라미터 세팅은 아래와 같이 진행해봅시다\n",
        "### from sklearn.linear_model import SGDRegressor"
      ],
      "metadata": {
        "id": "zPqyeAr2mViA"
      }
    },
    {
      "cell_type": "markdown",
      "source": [
        "#### shuffle = True\n",
        "#### learning_rate = 'invscaling'\n",
        "#### eta0 = 0.5\n",
        "#### max_iter = 1000\n",
        "#### penalty = None"
      ],
      "metadata": {
        "id": "OkSDwYJZmYQ4"
      }
    },
    {
      "cell_type": "code",
      "source": [
        "from sklearn.linear_model import SGDRegressor\n",
        "sgd_reg = SGDRegressor(shuffle=True,learning_rate='invscaling',eta0=0.5,max_iter=1000,penalty=None)"
      ],
      "metadata": {
        "id": "tXNSPRkTmTHZ"
      },
      "execution_count": 51,
      "outputs": []
    },
    {
      "cell_type": "markdown",
      "source": [
        "#### 데이터를 훈련, 테스트 셋으로 나누어주세요(test_size = 0.1, random_state = 42)"
      ],
      "metadata": {
        "id": "CIaWfAyGmo9i"
      }
    },
    {
      "cell_type": "code",
      "source": [
        "from sklearn.model_selection import train_test_split\n",
        "x_train, x_test, y_train, y_test = train_test_split(features_con_std['Age'],features_con_std['Fare'],test_size=0.1,random_state=42)"
      ],
      "metadata": {
        "id": "A_8RyaSnmnDO"
      },
      "execution_count": 52,
      "outputs": []
    },
    {
      "cell_type": "markdown",
      "source": [
        "#### SGDRegressor에 데이터를 투입하기 위해선 데이터가 (-1,1) 형태의 넘파이 배열이여야 합니다\n",
        "#### array([1],\n",
        "####           [2],\n",
        "####           [3])\n",
        "#### x_train, y_train을 형태로 reshape 함수를 이용해 가공해주세요"
      ],
      "metadata": {
        "id": "etpf93Cbm1GK"
      }
    },
    {
      "cell_type": "code",
      "source": [
        "x = np.array(x_train).reshape(-1,1)\n",
        "y = np.array(y_train).reshape(-1,1)\n",
        "\n",
        "x.shape"
      ],
      "metadata": {
        "id": "fMc5WuOPm2c5",
        "colab": {
          "base_uri": "https://localhost:8080/"
        },
        "outputId": "c11ac18e-c0d8-4126-ef11-5475243a17f6"
      },
      "execution_count": 55,
      "outputs": [
        {
          "output_type": "execute_result",
          "data": {
            "text/plain": [
              "(640, 1)"
            ]
          },
          "metadata": {},
          "execution_count": 55
        }
      ]
    },
    {
      "cell_type": "markdown",
      "source": [
        "#### 위에서 선언한 sgd_reg에 x와 y를 fit해주세요"
      ],
      "metadata": {
        "id": "T7665_uVm9PL"
      }
    },
    {
      "cell_type": "code",
      "source": [
        "sgd_reg.fit(x,y)\n",
        "\n",
        "print(sgd_reg.coef_)\n",
        "print(sgd_reg.intercept_)"
      ],
      "metadata": {
        "colab": {
          "base_uri": "https://localhost:8080/"
        },
        "id": "WbZO6_Cvm7-V",
        "outputId": "95966dd8-a48e-462e-d4b5-c450709aee30"
      },
      "execution_count": 56,
      "outputs": [
        {
          "output_type": "stream",
          "name": "stdout",
          "text": [
            "[0.0505471]\n",
            "[0.02926722]\n"
          ]
        },
        {
          "output_type": "stream",
          "name": "stderr",
          "text": [
            "/usr/local/lib/python3.7/dist-packages/sklearn/utils/validation.py:993: DataConversionWarning: A column-vector y was passed when a 1d array was expected. Please change the shape of y to (n_samples, ), for example using ravel().\n",
            "  y = column_or_1d(y, warn=True)\n"
          ]
        }
      ]
    },
    {
      "cell_type": "markdown",
      "source": [
        "#### 학습된 모델에 x_test를 통해 y_pred를 만들어주세요\n",
        "#### (이때 투입될 x_test도 reshape(-1,1)해야 투입 가능합니다)"
      ],
      "metadata": {
        "id": "xUEDGMpBnAlW"
      }
    },
    {
      "cell_type": "code",
      "source": [
        "x_test_re = np.array(x_test).reshape(-1,1)\n",
        "y_test_re = np.array(y_test).reshape(-1,1)\n",
        "\n",
        "y_pred = sgd_reg.predict(x_test_re)"
      ],
      "metadata": {
        "id": "Fy4YUCe7nBXz"
      },
      "execution_count": 60,
      "outputs": []
    },
    {
      "cell_type": "markdown",
      "source": [
        "#### 마찬가지로 예측치와 y_test간의 mse를 산출해봅시다"
      ],
      "metadata": {
        "id": "l-JUJ6bbnHKo"
      }
    },
    {
      "cell_type": "code",
      "source": [
        "mse = mean_squared_error(y_test_re,y_pred)\n",
        "print(mse)"
      ],
      "metadata": {
        "colab": {
          "base_uri": "https://localhost:8080/"
        },
        "id": "fvJSxzKKnICU",
        "outputId": "16dd486d-40bd-4f63-b6f7-ec07e795d5ff"
      },
      "execution_count": 61,
      "outputs": [
        {
          "output_type": "stream",
          "name": "stdout",
          "text": [
            "2.1723061796207106\n"
          ]
        }
      ]
    },
    {
      "cell_type": "markdown",
      "source": [
        "## 미니배치 경사하강법"
      ],
      "metadata": {
        "id": "RFivXNyInKw6"
      }
    },
    {
      "cell_type": "markdown",
      "source": [
        "### 다시 한번 훈련, 테스트 데이터를 나눠볼게요(x = Age열, y = Fare열)\n",
        "### test_size = 0.1, random_state = 42"
      ],
      "metadata": {
        "id": "PxbjveUvnMvM"
      }
    },
    {
      "cell_type": "code",
      "source": [
        "from sklearn.model_selection import train_test_split\n",
        "x_train, x_test, y_train, y_test = train_test_split(features_con_std['Age'], features_con_std['Fare'], test_size = 0.1, random_state = 42)"
      ],
      "metadata": {
        "id": "Hz2O8_5JnQGT"
      },
      "execution_count": 62,
      "outputs": []
    },
    {
      "cell_type": "markdown",
      "source": [
        "### 이번엔 4개의 훈련, 테스트 데이터 모두 np.array를 통해 넘파이 배열로 전환해주세요"
      ],
      "metadata": {
        "id": "XPuN4JY8nZEn"
      }
    },
    {
      "cell_type": "code",
      "source": [
        "x_train = np.array(x_train)\n",
        "x_test = np.array(x_test)\n",
        "y_train = np.array(y_train)\n",
        "y_test = np.array(y_test)"
      ],
      "metadata": {
        "id": "9uzHpUEXnaBx"
      },
      "execution_count": 63,
      "outputs": []
    },
    {
      "cell_type": "markdown",
      "source": [
        "#### 혹시 모르니 중간에 x_train, y_train, x_test, y_test의 shape을 확인해주고 갑시다. train은 640, test는 72가 나오면 맞습니다"
      ],
      "metadata": {
        "id": "UkqZPXPPnf1u"
      }
    },
    {
      "cell_type": "code",
      "source": [
        "print(x_train.shape)\n",
        "print(y_train.shape)\n",
        "print(x_test.shape)\n",
        "print(y_test.shape)"
      ],
      "metadata": {
        "colab": {
          "base_uri": "https://localhost:8080/"
        },
        "id": "eutie-6yndjz",
        "outputId": "20066745-2525-4465-9798-db7c4005446c"
      },
      "execution_count": 64,
      "outputs": [
        {
          "output_type": "stream",
          "name": "stdout",
          "text": [
            "(640,)\n",
            "(640,)\n",
            "(72,)\n",
            "(72,)\n"
          ]
        }
      ]
    },
    {
      "cell_type": "markdown",
      "source": [
        "#### 미니배치 경사하강법 코드는 아래와 같습니다. \n"
      ],
      "metadata": {
        "id": "aCulsqO3nl_w"
      }
    },
    {
      "cell_type": "code",
      "source": [
        "num_epoch=10\n",
        "learning_rate=0.1\n",
        "w = np.random.uniform(low=0, high=1.0)\n",
        "b = np.random.uniform(low=0, high=1.0)\n",
        "ww = []\n",
        "err = []\n",
        "\n",
        "for epoch in range(num_epoch):\n",
        "    print(\"epoch: \", epoch)\n",
        "    print(\"-\"*50)\n",
        "    batch_size = 60\n",
        "    batch_number = 100/10\n",
        "    start = 0\n",
        "    end = 60\n",
        "    for iteration in range(int(batch_number)):\n",
        "    \n",
        "        #매 iteration마다 batch_size=60에 해당하는 데이터 셋을 가져옴\n",
        "        x_batch = x_train[start: end]\n",
        "        y_batch = y_train[start: end]\n",
        "        \n",
        "        start += 10\n",
        "        end += 10\n",
        "\n",
        "        # 선택한 batch의 예측값\n",
        "        predict_batch = w*x_batch + b\n",
        "\n",
        "        # 가중치 업데이트\n",
        "        w = w - 2*learning_rate*((predict_batch - y_batch)*x_batch).mean()\n",
        "        b = b - 2*learning_rate * (predict_batch - y_batch).mean()\n",
        "\n",
        "        #error값은 전체 데이터셋의 오류값을 계산해야한다.\n",
        "        predict = w*x + b\n",
        "        error = ((y - predict)**2).mean()\n",
        "\n",
        "        print(\"iteration \", iteration, \"w =\", w, \"b= \",b, 'error= ', error)\n",
        "        ww.append(w)\n",
        "        err.append(error)\n",
        "\n",
        "    if error < 0.000001:\n",
        "            break\n",
        "print(\"최종: \",\"w= \", w, \"b= \", b, \"error= \", error)"
      ],
      "metadata": {
        "colab": {
          "base_uri": "https://localhost:8080/"
        },
        "id": "VOXNv7N1nn00",
        "outputId": "1ecd0d55-e33f-410c-a2e5-6134d06fe216"
      },
      "execution_count": 65,
      "outputs": [
        {
          "output_type": "stream",
          "name": "stdout",
          "text": [
            "epoch:  0\n",
            "--------------------------------------------------\n",
            "iteration  0 w = 0.3649348087284422 b=  0.31917796409545096 error=  1.0499701058973145\n",
            "iteration  1 w = 0.34221785604131494 b=  0.2698474127037628 error=  1.0059432628562568\n",
            "iteration  2 w = 0.3197808330850535 b=  0.23793825478154632 error=  0.9772042595415755\n",
            "iteration  3 w = 0.2998903666812766 b=  0.21503174688786314 error=  0.9569469291275418\n",
            "iteration  4 w = 0.28532322512660585 b=  0.19604376090690734 error=  0.9422456370627807\n",
            "iteration  5 w = 0.26059284562597196 b=  0.14768371309248268 error=  0.9137345129848597\n",
            "iteration  6 w = 0.2383458431706895 b=  0.10686818425976641 error=  0.8938983738063561\n",
            "iteration  7 w = 0.21154443886429228 b=  0.07877407679914138 error=  0.8801166791103994\n",
            "iteration  8 w = 0.19233351303822066 b=  0.06215386276825682 error=  0.8727602772352011\n",
            "iteration  9 w = 0.16943889531858294 b=  0.050379542895497245 error=  0.8669755952716462\n",
            "epoch:  1\n",
            "--------------------------------------------------\n",
            "iteration  0 w = 0.18668598819849766 b=  0.05999265559165237 error=  0.8713524128117871\n",
            "iteration  1 w = 0.20826488922302147 b=  0.06432375382341712 error=  0.8763222833236103\n",
            "iteration  2 w = 0.21867823931115396 b=  0.07649367893420432 error=  0.8812132233591662\n",
            "iteration  3 w = 0.2189795417998097 b=  0.08585222174004258 error=  0.8834645327778844\n",
            "iteration  4 w = 0.21605561030158438 b=  0.09174061417540974 error=  0.8842515588498919\n",
            "iteration  5 w = 0.20050731975435737 b=  0.06379439667818214 error=  0.8746287493402771\n",
            "iteration  6 w = 0.18462944389434002 b=  0.03887130787249021 error=  0.8674385253108795\n",
            "iteration  7 w = 0.16335274032948377 b=  0.02362110904345703 error=  0.8623374104419067\n",
            "iteration  8 w = 0.1483230495172583 b=  0.016649395392202233 error=  0.8599294980653044\n",
            "iteration  9 w = 0.1302248104947533 b=  0.012728983857226539 error=  0.8581515449627197\n",
            "epoch:  2\n",
            "--------------------------------------------------\n",
            "iteration  0 w = 0.1580722207434497 b=  0.03155974022192713 error=  0.8627001784383779\n",
            "iteration  1 w = 0.1866269621357055 b=  0.04187031734801887 error=  0.8682259243379562\n",
            "iteration  2 w = 0.20210815716512026 b=  0.05901138791138902 error=  0.8740228420962375\n",
            "iteration  3 w = 0.20572088322016532 b=  0.07186247768457442 error=  0.8773462943216435\n",
            "iteration  4 w = 0.20479002735196766 b=  0.08039158365650076 error=  0.8790533962930589\n",
            "iteration  5 w = 0.19077131478284995 b=  0.05464250552641508 error=  0.8710750905069592\n",
            "iteration  6 w = 0.1759909107498827 b=  0.031406324704363164 error=  0.8650328356986595\n",
            "iteration  7 w = 0.15565147877487537 b=  0.01752763030642989 error=  0.8607659167470899\n",
            "iteration  8 w = 0.1413679826840278 b=  0.011553747371253047 error=  0.8588223504802295\n",
            "iteration  9 w = 0.12408709965087852 b=  0.008455401736134257 error=  0.85743978466547\n",
            "epoch:  3\n",
            "--------------------------------------------------\n",
            "iteration  0 w = 0.1535239612218628 b=  0.02840500366764348 error=  0.8617941511410694\n",
            "iteration  1 w = 0.18317356701005086 b=  0.03939308493098603 error=  0.8672766380060658\n",
            "iteration  2 w = 0.199439020705497 b=  0.05710628269918801 error=  0.8731401372250666\n",
            "iteration  3 w = 0.20358537141740976 b=  0.07033776348620162 error=  0.8765834191472145\n",
            "iteration  4 w = 0.20298417109457045 b=  0.07914648712764591 error=  0.8783985291225159\n",
            "iteration  5 w = 0.189214350978083 b=  0.053634779933100146 error=  0.8706204488480875\n",
            "iteration  6 w = 0.174616169699302 b=  0.03057720073473074 error=  0.8647208086738492\n",
            "iteration  7 w = 0.15443094262425092 b=  0.016844996792897807 error=  0.8605635852512512\n",
            "iteration  8 w = 0.1402738262090467 b=  0.010972636716806115 error=  0.8586816698429176\n",
            "iteration  9 w = 0.12312777624573157 b=  0.007959511565396352 error=  0.8573531313721343\n",
            "epoch:  4\n",
            "--------------------------------------------------\n",
            "iteration  0 w = 0.15280566401510834 b=  0.02804957488162367 error=  0.8616745312301862\n",
            "iteration  1 w = 0.18262671782222872 b=  0.03911609452534297 error=  0.8671466836090056\n",
            "iteration  2 w = 0.199013800022924 b=  0.05689683285727612 error=  0.8730187930345377\n",
            "iteration  3 w = 0.20324518478995532 b=  0.07017010324268336 error=  0.8764790036202538\n",
            "iteration  4 w = 0.20269739064846426 b=  0.0790083246380013 error=  0.8783090131285916\n",
            "iteration  5 w = 0.18896748031760813 b=  0.053522400112641116 error=  0.8705573848118096\n",
            "iteration  6 w = 0.17439889065089464 b=  0.030483658980204227 error=  0.8646768649359607\n",
            "iteration  7 w = 0.15423856322569726 b=  0.016767107579949692 error=  0.8605351067302129\n",
            "iteration  8 w = 0.1401022185774414 b=  0.010904808083907327 error=  0.8586620025926315\n",
            "iteration  9 w = 0.1229779763907015 b=  0.007900386357048195 error=  0.8573413589747126\n",
            "epoch:  5\n",
            "--------------------------------------------------\n",
            "iteration  0 w = 0.1526927128807037 b=  0.02800872117491625 error=  0.8616577232793536\n",
            "iteration  1 w = 0.18254057270517482 b=  0.03908456774869723 error=  0.8671280737155932\n",
            "iteration  2 w = 0.1989465461960018 b=  0.056873524240455574 error=  0.8730014489007661\n",
            "iteration  3 w = 0.2031913824514839 b=  0.07015144047449144 error=  0.8764641705799601\n",
            "iteration  4 w = 0.20265212792013773 b=  0.0789927563780973 error=  0.8782963276988601\n",
            "iteration  5 w = 0.18892855681169288 b=  0.05350965354514746 error=  0.8705483357642594\n",
            "iteration  6 w = 0.17436470605255594 b=  0.03047288814751732 error=  0.8646704775120362\n",
            "iteration  7 w = 0.15420835159737756 b=  0.016758010142114144 error=  0.8605309649972728\n",
            "iteration  8 w = 0.1400753588797189 b=  0.010896663692187964 error=  0.8586591553938895\n",
            "iteration  9 w = 0.12295460004607581 b=  0.007893109805474596 error=  0.8573396916493212\n",
            "epoch:  6\n",
            "--------------------------------------------------\n",
            "iteration  0 w = 0.1526750028833759 b=  0.028003905907060155 error=  0.861655290023289\n",
            "iteration  1 w = 0.1825270494367518 b=  0.03908089681722333 error=  0.8671253432099071\n",
            "iteration  2 w = 0.19893596014578419 b=  0.0568708877719436 error=  0.8729989098063007\n",
            "iteration  3 w = 0.20318291396881616 b=  0.07014932880092821 error=  0.876462010457065\n",
            "iteration  4 w = 0.2026450133649882 b=  0.07899096661097267 error=  0.8782944842872557\n",
            "iteration  5 w = 0.1889224429177086 b=  0.053508175840213584 error=  0.8705470076027927\n",
            "iteration  6 w = 0.17435934424899113 b=  0.030471615888928643 error=  0.8646695304510283\n",
            "iteration  7 w = 0.15420361881478747 b=  0.016756916926917078 error=  0.8605303505472353\n",
            "iteration  8 w = 0.14007116071126316 b=  0.01089565338821967 error=  0.8586587344255125\n",
            "iteration  9 w = 0.12295095376768227 b=  0.007892182612094718 error=  0.8573394492847015\n",
            "epoch:  7\n",
            "--------------------------------------------------\n",
            "iteration  0 w = 0.15267223150755163 b=  0.028003321065643662 error=  0.8616549304768902\n",
            "iteration  1 w = 0.1825249315008864 b=  0.03908045731240607 error=  0.8671249356757815\n",
            "iteration  2 w = 0.1989342992131794 b=  0.05687058319567981 error=  0.8729985315271929\n",
            "iteration  3 w = 0.20318158530457214 b=  0.07014908474786713 error=  0.8764616899441162\n",
            "iteration  4 w = 0.2026438981602695 b=  0.07899075561181011 error=  0.8782942112259018\n",
            "iteration  5 w = 0.18892148501497144 b=  0.053507999847444185 error=  0.8705468093559334\n",
            "iteration  6 w = 0.17435850499932679 b=  0.030471460979011412 error=  0.8646693880047647\n",
            "iteration  7 w = 0.15420287864388535 b=  0.01675678119578841 error=  0.8605302580861821\n",
            "iteration  8 w = 0.14007050516054345 b=  0.010895523575902458 error=  0.8586586712378892\n",
            "iteration  9 w = 0.12295038518736 b=  0.007892060187976124 error=  0.8573394133708614\n",
            "epoch:  8\n",
            "--------------------------------------------------\n",
            "iteration  0 w = 0.15267179840114686 b=  0.028003247594531943 error=  0.861654876538342\n",
            "iteration  1 w = 0.1825246003295817 b=  0.03908040296887403 error=  0.8671248740833875\n",
            "iteration  2 w = 0.1989340391819532 b=  0.05687054707432911 error=  0.8729984744336576\n",
            "iteration  3 w = 0.203181377295133 b=  0.07014905578940825 error=  0.876461641715385\n",
            "iteration  4 w = 0.20264372367874053 b=  0.07899072997824585 error=  0.8782941701889755\n",
            "iteration  5 w = 0.18892133519202592 b=  0.053507978215129204 error=  0.8705467793930932\n",
            "iteration  6 w = 0.17435837382144134 b=  0.03047144146536116 error=  0.8646693663547633\n",
            "iteration  7 w = 0.15420276301847546 b=  0.016756763739984366 error=  0.8605302440285467\n",
            "iteration  8 w = 0.14007040286150194 b=  0.010895506295229816 error=  0.8586586616484482\n",
            "iteration  9 w = 0.12295029654443441 b=  0.007892043464914027 error=  0.8573394079720231\n",
            "epoch:  9\n",
            "--------------------------------------------------\n",
            "iteration  0 w = 0.15267173077720925 b=  0.028003238030725935 error=  0.8616548683559486\n",
            "iteration  1 w = 0.18252454860195738 b=  0.03908039601004036 error=  0.8671248646895634\n",
            "iteration  2 w = 0.19893399853216306 b=  0.056870542655845374 error=  0.8729984657345227\n",
            "iteration  3 w = 0.2031813447780204 b=  0.0701490522450262 error=  0.8764616343830637\n",
            "iteration  4 w = 0.2026436964145366 b=  0.07899072675711771 error=  0.8782941639557468\n",
            "iteration  5 w = 0.1889213117859919 b=  0.05350797546236355 error=  0.8705467748231979\n",
            "iteration  6 w = 0.1743583533374605 b=  0.03047143891823617 error=  0.8646693630394378\n",
            "iteration  7 w = 0.15420274497011155 b=  0.01675676141419797 error=  0.8605302418753411\n",
            "iteration  8 w = 0.14007038690473775 b=  0.010895503916990377 error=  0.8586586601815496\n",
            "iteration  9 w = 0.12295028272676076 b=  0.007892041110206176 error=  0.8573394071518035\n",
            "최종:  w=  0.12295028272676076 b=  0.007892041110206176 error=  0.8573394071518035\n"
          ]
        }
      ]
    },
    {
      "cell_type": "markdown",
      "source": [
        "### 위에서 얻은 최종 w와 b값을 통해 y_pred를 넘파이 배열로 만들어 볼게요"
      ],
      "metadata": {
        "id": "sNncgUC7ooTU"
      }
    },
    {
      "cell_type": "code",
      "source": [
        "yy = w*x_test + b \n",
        "y_pred = np.array(yy)"
      ],
      "metadata": {
        "id": "5qu_LV3On3sF"
      },
      "execution_count": 66,
      "outputs": []
    },
    {
      "cell_type": "markdown",
      "source": [
        "### y_test와 y_pred를 이용해 mse를 구해봅시다"
      ],
      "metadata": {
        "id": "FiT0Am4QoqNY"
      }
    },
    {
      "cell_type": "code",
      "source": [
        "mse = mean_squared_error(y_test,y_pred)\n",
        "\n",
        "print(mse)"
      ],
      "metadata": {
        "colab": {
          "base_uri": "https://localhost:8080/"
        },
        "id": "r330X_70n5qK",
        "outputId": "b80b2f67-667a-4ca2-d8a4-6233e99d26f3"
      },
      "execution_count": 67,
      "outputs": [
        {
          "output_type": "stream",
          "name": "stdout",
          "text": [
            "2.191705048435276\n"
          ]
        }
      ]
    },
    {
      "cell_type": "markdown",
      "source": [
        "#### w값에 따른 오차를 그래프를 통해 시각화 해보세요\n",
        "#### 위에서 만든 ww, err 리스트를 활용"
      ],
      "metadata": {
        "id": "IEv3F36Kosbs"
      }
    },
    {
      "cell_type": "code",
      "source": [
        "plt.plot(ww,err)\n",
        "plt.xlabel('w')\n",
        "plt.ylabel('error')"
      ],
      "metadata": {
        "colab": {
          "base_uri": "https://localhost:8080/",
          "height": 297
        },
        "id": "w_ymE9KSn7fk",
        "outputId": "42ed4897-f311-4292-8733-71dc0214a343"
      },
      "execution_count": 69,
      "outputs": [
        {
          "output_type": "execute_result",
          "data": {
            "text/plain": [
              "Text(0, 0.5, 'error')"
            ]
          },
          "metadata": {},
          "execution_count": 69
        },
        {
          "output_type": "display_data",
          "data": {
            "text/plain": [
              "<Figure size 432x288 with 1 Axes>"
            ],
            "image/png": "[encoded data removed]"
          },
          "metadata": {
            "needs_background": "light"
          }
        }
      ]
    },
    {
      "cell_type": "markdown",
      "source": [
        "#### 경사하강법을 통해 구한 식을 plt.plot을 통한 직선, Age와 Fare의 분포는 plt.scatter로 같이 시각화 해봅시다"
      ],
      "metadata": {
        "id": "jAqXBAkcoujD"
      }
    },
    {
      "cell_type": "code",
      "source": [
        "plt.plot(features_con_std['Age'],w*np.array(features_con_std['Age'])+b,c='r')\n",
        "plt.scatter(features_con_std['Age'],features_con_std['Fare'],s=4)\n",
        "plt.xlabel('Age')\n",
        "plt.ylabel('Fare')"
      ],
      "metadata": {
        "colab": {
          "base_uri": "https://localhost:8080/",
          "height": 297
        },
        "id": "5e0iBrJMoAYW",
        "outputId": "83568ccc-cade-475c-92e1-910f12291e42"
      },
      "execution_count": 71,
      "outputs": [
        {
          "output_type": "execute_result",
          "data": {
            "text/plain": [
              "Text(0, 0.5, 'Fare')"
            ]
          },
          "metadata": {},
          "execution_count": 71
        },
        {
          "output_type": "display_data",
          "data": {
            "text/plain": [
              "<Figure size 432x288 with 1 Axes>"
            ],
            "image/png": "[encoded data removed]"
          },
          "metadata": {
            "needs_background": "light"
          }
        }
      ]
    },
    {
      "cell_type": "markdown",
      "source": [
        "# 분류\n",
        "## SGDclassifier"
      ],
      "metadata": {
        "id": "viGZhp3uqbNb"
      }
    },
    {
      "cell_type": "markdown",
      "source": [
        "#### SGD classifier에 넣을 데이터는 target, features_con_std입니다"
      ],
      "metadata": {
        "id": "VP1i4W3wqfhm"
      }
    },
    {
      "cell_type": "markdown",
      "source": [
        "#### features_con_std, 그리고 target를 훈련, 테스트 데이터로 분할합시다(test_size = 0.3, random_state = 42)"
      ],
      "metadata": {
        "id": "hy4ZuqcRq423"
      }
    },
    {
      "cell_type": "code",
      "source": [
        "from sklearn.model_selection import train_test_split\n",
        "x_train, x_test, y_train, y_test = train_test_split(features_con_std,target,test_size=0.3,random_state=42)"
      ],
      "metadata": {
        "id": "v-nXgSSWq2bM"
      },
      "execution_count": 72,
      "outputs": []
    },
    {
      "cell_type": "markdown",
      "source": [
        "#### 훈련 데이터 셋을 SGDClassifier로 학습 시키고 훈련데이터로 점수를 확인해봅시다\n",
        "#### SGDClassifier의 파라미터에 loss = 'log', max_iter = 100으로 지정해볼게요"
      ],
      "metadata": {
        "id": "pdOCVoX0rGQ2"
      }
    },
    {
      "cell_type": "code",
      "source": [
        "from sklearn.linear_model import SGDClassifier\n",
        "\n",
        "sc = SGDClassifier(loss='log',max_iter=100)\n",
        "sc.fit(x_train, y_train)\n",
        "\n",
        "print(sc.score(x_train, y_train))"
      ],
      "metadata": {
        "colab": {
          "base_uri": "https://localhost:8080/"
        },
        "id": "OiZVZOnnrHb-",
        "outputId": "828dd9a8-b040-4a61-8041-365c972b9b12"
      },
      "execution_count": 73,
      "outputs": [
        {
          "output_type": "stream",
          "name": "stdout",
          "text": [
            "0.6947791164658634\n"
          ]
        },
        {
          "output_type": "stream",
          "name": "stderr",
          "text": [
            "/usr/local/lib/python3.7/dist-packages/sklearn/utils/validation.py:993: DataConversionWarning: A column-vector y was passed when a 1d array was expected. Please change the shape of y to (n_samples, ), for example using ravel().\n",
            "  y = column_or_1d(y, warn=True)\n"
          ]
        }
      ]
    },
    {
      "cell_type": "code",
      "source": [
        "sc.score(x_test, y_test)"
      ],
      "metadata": {
        "colab": {
          "base_uri": "https://localhost:8080/"
        },
        "id": "zo1TJAburLks",
        "outputId": "5ea0ce02-8d26-42a1-e06c-e624cea67c04"
      },
      "execution_count": 74,
      "outputs": [
        {
          "output_type": "execute_result",
          "data": {
            "text/plain": [
              "0.6635514018691588"
            ]
          },
          "metadata": {},
          "execution_count": 74
        }
      ]
    },
    {
      "cell_type": "markdown",
      "source": [
        "## Cross-entropy"
      ],
      "metadata": {
        "id": "fzz_NJiDrSNy"
      }
    },
    {
      "cell_type": "markdown",
      "source": [
        "#### logistic 회귀 모델의 성능을 cross-entropy를 통해 평가해보겠습니다."
      ],
      "metadata": {
        "id": "XE0kPDcVrbrR"
      }
    },
    {
      "cell_type": "markdown",
      "source": [
        "#### 우선 lg라는 logisticRegression 객체를 만듭시다"
      ],
      "metadata": {
        "id": "cCj_zqjuuTsC"
      }
    },
    {
      "cell_type": "code",
      "source": [
        "from sklearn.linear_model import LogisticRegression\n",
        "lg = LogisticRegression()"
      ],
      "metadata": {
        "id": "oVusyV2ar9T8"
      },
      "execution_count": 75,
      "outputs": []
    },
    {
      "cell_type": "markdown",
      "source": [
        "#### features_con_std와 target을 이용해 훈련, 테스트 데이터 셋을 나눠 줍시다\n",
        "#### 그리고 모델에 fit시킵시다\n",
        "#### test_size = 0.3, random_state = 42"
      ],
      "metadata": {
        "id": "bWskQjoBuH-M"
      }
    },
    {
      "cell_type": "code",
      "source": [
        "from sklearn.model_selection import train_test_split\n",
        "x_train, x_test, y_train, y_test = train_test_split(features_con_std, target, test_size = 0.3, random_state = 42)\n",
        "lg.fit(x_train, y_train)"
      ],
      "metadata": {
        "colab": {
          "base_uri": "https://localhost:8080/"
        },
        "id": "8rCBmViEr4lg",
        "outputId": "db38982a-22db-45ff-861f-6f5b3137f22d"
      },
      "execution_count": 135,
      "outputs": [
        {
          "output_type": "stream",
          "name": "stderr",
          "text": [
            "/usr/local/lib/python3.7/dist-packages/sklearn/utils/validation.py:993: DataConversionWarning: A column-vector y was passed when a 1d array was expected. Please change the shape of y to (n_samples, ), for example using ravel().\n",
            "  y = column_or_1d(y, warn=True)\n"
          ]
        },
        {
          "output_type": "execute_result",
          "data": {
            "text/plain": [
              "LogisticRegression()"
            ]
          },
          "metadata": {},
          "execution_count": 135
        }
      ]
    },
    {
      "cell_type": "code",
      "source": [
        "lg.score(x_test,y_test)"
      ],
      "metadata": {
        "colab": {
          "base_uri": "https://localhost:8080/"
        },
        "id": "3rRx1VN1Dkgc",
        "outputId": "622a38e5-ff2a-4079-ab46-8df29790c911"
      },
      "execution_count": 143,
      "outputs": [
        {
          "output_type": "execute_result",
          "data": {
            "text/plain": [
              "0.6588785046728972"
            ]
          },
          "metadata": {},
          "execution_count": 143
        }
      ]
    },
    {
      "cell_type": "code",
      "source": [
        "print(x_test.shape)\n",
        "print(y_test.shape)\n"
      ],
      "metadata": {
        "colab": {
          "base_uri": "https://localhost:8080/"
        },
        "id": "_KJXiIiMDICN",
        "outputId": "8bda0f30-4ef9-4e87-b9f8-b1b85cc7eff0"
      },
      "execution_count": 138,
      "outputs": [
        {
          "output_type": "stream",
          "name": "stdout",
          "text": [
            "(214, 4)\n",
            "(214, 1)\n"
          ]
        }
      ]
    },
    {
      "cell_type": "markdown",
      "source": [
        "#### 시그모이드 함수(sigmoid(x))를 선언해주세요"
      ],
      "metadata": {
        "id": "btWiD6zTuZNE"
      }
    },
    {
      "cell_type": "code",
      "source": [
        "def sigmoid(x):\n",
        "  return 1/(1+np.exp(-x))"
      ],
      "metadata": {
        "id": "yYLgty7ysJi8"
      },
      "execution_count": 124,
      "outputs": []
    },
    {
      "cell_type": "code",
      "source": [
        "x_test"
      ],
      "metadata": {
        "colab": {
          "base_uri": "https://localhost:8080/",
          "height": 424
        },
        "id": "4Q2skMJaDczZ",
        "outputId": "d7184661-4fa2-4ad9-fbfe-769817032acc"
      },
      "execution_count": 142,
      "outputs": [
        {
          "output_type": "execute_result",
          "data": {
            "text/plain": [
              "          Age     SibSp     Parch      Fare\n",
              "506 -0.389573 -0.552714 -0.506787  0.656556\n",
              "394  1.681856  0.522511 -0.506787  0.826054\n",
              "210  1.543761  0.522511  0.664747  0.852202\n",
              "247 -0.803859  1.597735  1.836282  4.306266\n",
              "437 -0.182430 -0.552714 -0.506787 -0.161947\n",
              "..        ...       ...       ...       ...\n",
              "653  0.922332 -0.552714 -0.506787 -0.531502\n",
              "380 -0.527669 -0.552714 -0.506787 -0.511261\n",
              "260  0.438999 -0.552714 -0.506787  1.910459\n",
              "140 -0.803859  0.522511  0.664747 -0.504959\n",
              "28  -0.596716 -0.552714 -0.506787 -0.501257\n",
              "\n",
              "[214 rows x 4 columns]"
            ],
            "text/html": [
              "\n",
              "  <div id=\"df-5ef8e340-7f0e-4bee-81ad-6ccdae1f2e58\">\n",
              "    <div class=\"colab-df-container\">\n",
              "      <div>\n",
              "<style scoped>\n",
              "    .dataframe tbody tr th:only-of-type {\n",
              "        vertical-align: middle;\n",
              "    }\n",
              "\n",
              "    .dataframe tbody tr th {\n",
              "        vertical-align: top;\n",
              "    }\n",
              "\n",
              "    .dataframe thead th {\n",
              "        text-align: right;\n",
              "    }\n",
              "</style>\n",
              "<table border=\"1\" class=\"dataframe\">\n",
              "  <thead>\n",
              "    <tr style=\"text-align: right;\">\n",
              "      <th></th>\n",
              "      <th>Age</th>\n",
              "      <th>SibSp</th>\n",
              "      <th>Parch</th>\n",
              "      <th>Fare</th>\n",
              "    </tr>\n",
              "  </thead>\n",
              "  <tbody>\n",
              "    <tr>\n",
              "      <th>506</th>\n",
              "      <td>-0.389573</td>\n",
              "      <td>-0.552714</td>\n",
              "      <td>-0.506787</td>\n",
              "      <td>0.656556</td>\n",
              "    </tr>\n",
              "    <tr>\n",
              "      <th>394</th>\n",
              "      <td>1.681856</td>\n",
              "      <td>0.522511</td>\n",
              "      <td>-0.506787</td>\n",
              "      <td>0.826054</td>\n",
              "    </tr>\n",
              "    <tr>\n",
              "      <th>210</th>\n",
              "      <td>1.543761</td>\n",
              "      <td>0.522511</td>\n",
              "      <td>0.664747</td>\n",
              "      <td>0.852202</td>\n",
              "    </tr>\n",
              "    <tr>\n",
              "      <th>247</th>\n",
              "      <td>-0.803859</td>\n",
              "      <td>1.597735</td>\n",
              "      <td>1.836282</td>\n",
              "      <td>4.306266</td>\n",
              "    </tr>\n",
              "    <tr>\n",
              "      <th>437</th>\n",
              "      <td>-0.182430</td>\n",
              "      <td>-0.552714</td>\n",
              "      <td>-0.506787</td>\n",
              "      <td>-0.161947</td>\n",
              "    </tr>\n",
              "    <tr>\n",
              "      <th>...</th>\n",
              "      <td>...</td>\n",
              "      <td>...</td>\n",
              "      <td>...</td>\n",
              "      <td>...</td>\n",
              "    </tr>\n",
              "    <tr>\n",
              "      <th>653</th>\n",
              "      <td>0.922332</td>\n",
              "      <td>-0.552714</td>\n",
              "      <td>-0.506787</td>\n",
              "      <td>-0.531502</td>\n",
              "    </tr>\n",
              "    <tr>\n",
              "      <th>380</th>\n",
              "      <td>-0.527669</td>\n",
              "      <td>-0.552714</td>\n",
              "      <td>-0.506787</td>\n",
              "      <td>-0.511261</td>\n",
              "    </tr>\n",
              "    <tr>\n",
              "      <th>260</th>\n",
              "      <td>0.438999</td>\n",
              "      <td>-0.552714</td>\n",
              "      <td>-0.506787</td>\n",
              "      <td>1.910459</td>\n",
              "    </tr>\n",
              "    <tr>\n",
              "      <th>140</th>\n",
              "      <td>-0.803859</td>\n",
              "      <td>0.522511</td>\n",
              "      <td>0.664747</td>\n",
              "      <td>-0.504959</td>\n",
              "    </tr>\n",
              "    <tr>\n",
              "      <th>28</th>\n",
              "      <td>-0.596716</td>\n",
              "      <td>-0.552714</td>\n",
              "      <td>-0.506787</td>\n",
              "      <td>-0.501257</td>\n",
              "    </tr>\n",
              "  </tbody>\n",
              "</table>\n",
              "<p>214 rows × 4 columns</p>\n",
              "</div>\n",
              "      <button class=\"colab-df-convert\" onclick=\"convertToInteractive('df-5ef8e340-7f0e-4bee-81ad-6ccdae1f2e58')\"\n",
              "              title=\"Convert this dataframe to an interactive table.\"\n",
              "              style=\"display:none;\">\n",
              "        \n",
              "  <svg xmlns=\"http://www.w3.org/2000/svg\" height=\"24px\"viewBox=\"0 0 24 24\"\n",
              "       width=\"24px\">\n",
              "    <path d=\"M0 0h24v24H0V0z\" fill=\"none\"/>\n",
              "    <path d=\"M18.56 5.44l.94 2.06.94-2.06 2.06-.94-2.06-.94-.94-2.06-.94 2.06-2.06.94zm-11 1L8.5 8.5l.94-2.06 2.06-.94-2.06-.94L8.5 2.5l-.94 2.06-2.06.94zm10 10l.94 2.06.94-2.06 2.06-.94-2.06-.94-.94-2.06-.94 2.06-2.06.94z\"/><path d=\"M17.41 7.96l-1.37-1.37c-.4-.4-.92-.59-1.43-.59-.52 0-1.04.2-1.43.59L10.3 9.45l-7.72 7.72c-.78.78-.78 2.05 0 2.83L4 21.41c.39.39.9.59 1.41.59.51 0 1.02-.2 1.41-.59l7.78-7.78 2.81-2.81c.8-.78.8-2.07 0-2.86zM5.41 20L4 18.59l7.72-7.72 1.47 1.35L5.41 20z\"/>\n",
              "  </svg>\n",
              "      </button>\n",
              "      \n",
              "  <style>\n",
              "    .colab-df-container {\n",
              "      display:flex;\n",
              "      flex-wrap:wrap;\n",
              "      gap: 12px;\n",
              "    }\n",
              "\n",
              "    .colab-df-convert {\n",
              "      background-color: #E8F0FE;\n",
              "      border: none;\n",
              "      border-radius: 50%;\n",
              "      cursor: pointer;\n",
              "      display: none;\n",
              "      fill: #1967D2;\n",
              "      height: 32px;\n",
              "      padding: 0 0 0 0;\n",
              "      width: 32px;\n",
              "    }\n",
              "\n",
              "    .colab-df-convert:hover {\n",
              "      background-color: #E2EBFA;\n",
              "      box-shadow: 0px 1px 2px rgba(60, 64, 67, 0.3), 0px 1px 3px 1px rgba(60, 64, 67, 0.15);\n",
              "      fill: #174EA6;\n",
              "    }\n",
              "\n",
              "    [theme=dark] .colab-df-convert {\n",
              "      background-color: #3B4455;\n",
              "      fill: #D2E3FC;\n",
              "    }\n",
              "\n",
              "    [theme=dark] .colab-df-convert:hover {\n",
              "      background-color: #434B5C;\n",
              "      box-shadow: 0px 1px 3px 1px rgba(0, 0, 0, 0.15);\n",
              "      filter: drop-shadow(0px 1px 2px rgba(0, 0, 0, 0.3));\n",
              "      fill: #FFFFFF;\n",
              "    }\n",
              "  </style>\n",
              "\n",
              "      <script>\n",
              "        const buttonEl =\n",
              "          document.querySelector('#df-5ef8e340-7f0e-4bee-81ad-6ccdae1f2e58 button.colab-df-convert');\n",
              "        buttonEl.style.display =\n",
              "          google.colab.kernel.accessAllowed ? 'block' : 'none';\n",
              "\n",
              "        async function convertToInteractive(key) {\n",
              "          const element = document.querySelector('#df-5ef8e340-7f0e-4bee-81ad-6ccdae1f2e58');\n",
              "          const dataTable =\n",
              "            await google.colab.kernel.invokeFunction('convertToInteractive',\n",
              "                                                     [key], {});\n",
              "          if (!dataTable) return;\n",
              "\n",
              "          const docLinkHtml = 'Like what you see? Visit the ' +\n",
              "            '<a target=\"_blank\" href=https://colab.research.google.com/notebooks/data_table.ipynb>data table notebook</a>'\n",
              "            + ' to learn more about interactive tables.';\n",
              "          element.innerHTML = '';\n",
              "          dataTable['output_type'] = 'display_data';\n",
              "          await google.colab.output.renderOutput(dataTable, element);\n",
              "          const docLink = document.createElement('div');\n",
              "          docLink.innerHTML = docLinkHtml;\n",
              "          element.appendChild(docLink);\n",
              "        }\n",
              "      </script>\n",
              "    </div>\n",
              "  </div>\n",
              "  "
            ]
          },
          "metadata": {},
          "execution_count": 142
        }
      ]
    },
    {
      "cell_type": "markdown",
      "source": [
        "#### 다 구현하였다면 아래의 코드를 실행하여 예측치(확률)을 구합시다"
      ],
      "metadata": {
        "id": "KedhhXNeudds"
      }
    },
    {
      "cell_type": "code",
      "source": [
        "pred = []\n",
        "for i in (np.array(x_test).dot(lg.coef_.T)+ lg.intercept_[0]).reshape(-1):\n",
        "\n",
        "  pred.append(sigmoid(i))\n",
        "pred = np.array(pred)"
      ],
      "metadata": {
        "id": "0Y9BFTuqsK7R"
      },
      "execution_count": 145,
      "outputs": []
    },
    {
      "cell_type": "code",
      "source": [
        "y_test['Survived'].value_counts()"
      ],
      "metadata": {
        "colab": {
          "base_uri": "https://localhost:8080/"
        },
        "id": "YKhGnbQbACQs",
        "outputId": "9715130d-fc1e-4eac-9530-28ff730c3b6a"
      },
      "execution_count": 140,
      "outputs": [
        {
          "output_type": "execute_result",
          "data": {
            "text/plain": [
              "0    122\n",
              "1     92\n",
              "Name: Survived, dtype: int64"
            ]
          },
          "metadata": {},
          "execution_count": 140
        }
      ]
    },
    {
      "cell_type": "markdown",
      "source": [
        "#### 아래의 cross_entropy 함수에 예측치와 실제값을 넣어주어 cross-entropy를 출력해주세요.\n",
        "#### 단, 실제값(y_test)는 np.array로 변환해야 코드가 실행됩니다"
      ],
      "metadata": {
        "id": "nzWXT9AJuoQI"
      }
    },
    {
      "cell_type": "code",
      "source": [
        "def cross_entropy(pred, target):\n",
        "    # 교차 엔트로피 합\n",
        "    delta = 1e-7        # log 0을 계산할 수 없으므로, 아주 작은 값을 넣음\n",
        "    return -np.sum(target * np.log(pred + delta))\n",
        "\n",
        "cross_entropy(pred,np.array(y_test))"
      ],
      "metadata": {
        "colab": {
          "base_uri": "https://localhost:8080/"
        },
        "id": "Ic1P1AzosMoK",
        "outputId": "47d2b662-5eda-45fc-c7aa-fa9a10823c75"
      },
      "execution_count": 141,
      "outputs": [
        {
          "output_type": "execute_result",
          "data": {
            "text/plain": [
              "18267.631158417407"
            ]
          },
          "metadata": {},
          "execution_count": 141
        }
      ]
    },
    {
      "cell_type": "markdown",
      "source": [
        "#### 위에서 구한 pred는 로지스틱을 통해 산출한 확률이었습니다"
      ],
      "metadata": {
        "id": "2mBpMno1xybR"
      }
    },
    {
      "cell_type": "markdown",
      "source": [
        "#### pred 배열을 전부 np.round로 반올림하고 int자료형으로 전환해 분류형으로 만들고 pred_int 변수에 저장해주세요"
      ],
      "metadata": {
        "id": "0azBxVq-u4ji"
      }
    },
    {
      "cell_type": "code",
      "source": [
        "pred_int = np.round(pred).astype(int)\n",
        "pred_int"
      ],
      "metadata": {
        "colab": {
          "base_uri": "https://localhost:8080/"
        },
        "id": "6XkAsuddtuLD",
        "outputId": "e58cfb8f-f7cd-42ac-c370-65546d4a4842"
      },
      "execution_count": 131,
      "outputs": [
        {
          "output_type": "execute_result",
          "data": {
            "text/plain": [
              "array([1, 0, 1, 1, 0, 1, 0, 1, 0, 0, 0, 0, 0, 0, 0, 0, 0, 1, 1, 0, 0, 0,\n",
              "       1, 1, 0, 0, 1, 0, 0, 1, 0, 0, 0, 0, 1, 0, 0, 1, 1, 0, 1, 0, 0, 0,\n",
              "       0, 0, 0, 0, 1, 0, 0, 0, 0, 0, 0, 0, 1, 1, 0, 0, 1, 1, 0, 0, 0, 0,\n",
              "       0, 0, 1, 0, 1, 1, 0, 0, 0, 0, 1, 0, 0, 0, 0, 0, 0, 0, 0, 0, 0, 1,\n",
              "       0, 0, 0, 0, 0, 1, 1, 0, 1, 0, 1, 0, 0, 0, 1, 1, 0, 0, 0, 0, 0, 0,\n",
              "       0, 0, 0, 0, 1, 0, 0, 0, 0, 0, 0, 1, 0, 0, 0, 0, 0, 0, 0, 0, 0, 0,\n",
              "       0, 0, 0, 0, 0, 1, 0, 0, 0, 0, 1, 0, 0, 0, 0, 1, 0, 0, 1, 1, 1, 0,\n",
              "       0, 0, 1, 0, 0, 0, 0, 1, 0, 0, 0, 1, 1, 0, 0, 1, 0, 0, 0, 0, 1, 0,\n",
              "       0, 0, 0, 0, 0, 0, 0, 0, 0, 0, 0, 0, 1, 0, 0, 0, 0, 0, 0, 0, 1, 0,\n",
              "       0, 1, 0, 1, 0, 1, 0, 0, 0, 0, 0, 0, 0, 1, 0, 0])"
            ]
          },
          "metadata": {},
          "execution_count": 131
        }
      ]
    },
    {
      "cell_type": "markdown",
      "source": [
        "#### pred_int를 이용해 모델의 정확도를 구해주세요"
      ],
      "metadata": {
        "id": "CDa3DnP1zJtI"
      }
    },
    {
      "cell_type": "code",
      "source": [
        "from sklearn.metrics import accuracy_score\n",
        "accuracy_score(pred_int,np.array(y_test))"
      ],
      "metadata": {
        "colab": {
          "base_uri": "https://localhost:8080/"
        },
        "id": "UxjVH2-UtigD",
        "outputId": "c364085e-0273-478b-cd8f-ac3733b15732"
      },
      "execution_count": 132,
      "outputs": [
        {
          "output_type": "execute_result",
          "data": {
            "text/plain": [
              "0.6588785046728972"
            ]
          },
          "metadata": {},
          "execution_count": 132
        }
      ]
    },
    {
      "cell_type": "markdown",
      "source": [
        "#### 성능이 너무 떨어지죠...? 이번엔 실습에서 제외하였던 변수들을 나머지 모두 사용하볼게요"
      ],
      "metadata": {
        "id": "TGWrhLCdsVsZ"
      }
    },
    {
      "cell_type": "markdown",
      "source": [
        "#### 아까 따로 분리해둔 카테고리 변수를 더미변수로써 사용할 겁니다\n",
        "#### 그전에 카테고리 변수들의 자료형을 features_cat.info()를 통해 확인해줍시다"
      ],
      "metadata": {
        "id": "fhKLGzYrvEre"
      }
    },
    {
      "cell_type": "code",
      "source": [
        "features_cat.info()"
      ],
      "metadata": {
        "colab": {
          "base_uri": "https://localhost:8080/"
        },
        "id": "iwL3qItpvNP5",
        "outputId": "366c6ed1-c130-42fe-956d-e8a19100ec0a"
      },
      "execution_count": 83,
      "outputs": [
        {
          "output_type": "stream",
          "name": "stdout",
          "text": [
            "<class 'pandas.core.frame.DataFrame'>\n",
            "RangeIndex: 712 entries, 0 to 711\n",
            "Data columns (total 3 columns):\n",
            " #   Column    Non-Null Count  Dtype\n",
            "---  ------    --------------  -----\n",
            " 0   Pclass    712 non-null    int64\n",
            " 1   Sex       712 non-null    int64\n",
            " 2   Embarked  712 non-null    int64\n",
            "dtypes: int64(3)\n",
            "memory usage: 16.8 KB\n"
          ]
        }
      ]
    },
    {
      "cell_type": "markdown",
      "source": [
        "#### 싹다 object 자료형으로 전환해주세요"
      ],
      "metadata": {
        "id": "H17xRbuEvNl-"
      }
    },
    {
      "cell_type": "code",
      "source": [
        "features_cat['Pclass'] = features_cat['Pclass'].astype('object')\n",
        "features_cat['Sex'] = features_cat['Sex'].astype('object')\n",
        "features_cat['Embarked'] = features_cat['Embarked'].astype('object')"
      ],
      "metadata": {
        "id": "cHNSbyRYsfH4",
        "colab": {
          "base_uri": "https://localhost:8080/"
        },
        "outputId": "45fa7fa3-e5b0-4c27-ee1f-a51bfbba2528"
      },
      "execution_count": 86,
      "outputs": [
        {
          "output_type": "stream",
          "name": "stderr",
          "text": [
            "/usr/local/lib/python3.7/dist-packages/ipykernel_launcher.py:1: SettingWithCopyWarning: \n",
            "A value is trying to be set on a copy of a slice from a DataFrame.\n",
            "Try using .loc[row_indexer,col_indexer] = value instead\n",
            "\n",
            "See the caveats in the documentation: https://pandas.pydata.org/pandas-docs/stable/user_guide/indexing.html#returning-a-view-versus-a-copy\n",
            "  \"\"\"Entry point for launching an IPython kernel.\n",
            "/usr/local/lib/python3.7/dist-packages/ipykernel_launcher.py:2: SettingWithCopyWarning: \n",
            "A value is trying to be set on a copy of a slice from a DataFrame.\n",
            "Try using .loc[row_indexer,col_indexer] = value instead\n",
            "\n",
            "See the caveats in the documentation: https://pandas.pydata.org/pandas-docs/stable/user_guide/indexing.html#returning-a-view-versus-a-copy\n",
            "  \n",
            "/usr/local/lib/python3.7/dist-packages/ipykernel_launcher.py:3: SettingWithCopyWarning: \n",
            "A value is trying to be set on a copy of a slice from a DataFrame.\n",
            "Try using .loc[row_indexer,col_indexer] = value instead\n",
            "\n",
            "See the caveats in the documentation: https://pandas.pydata.org/pandas-docs/stable/user_guide/indexing.html#returning-a-view-versus-a-copy\n",
            "  This is separate from the ipykernel package so we can avoid doing imports until\n"
          ]
        }
      ]
    },
    {
      "cell_type": "markdown",
      "source": [
        "#### pd.get_dummies를 통해 더미변수화 해주시되, drop_first=True를 꼭 추가해주세요"
      ],
      "metadata": {
        "id": "w6upowMevRzA"
      }
    },
    {
      "cell_type": "code",
      "source": [
        "features_cat_dum = pd.get_dummies(features_cat,drop_first=True)"
      ],
      "metadata": {
        "id": "7y0B2ZOVspqO"
      },
      "execution_count": 87,
      "outputs": []
    },
    {
      "cell_type": "code",
      "source": [
        "features_cat_dum.info()"
      ],
      "metadata": {
        "colab": {
          "base_uri": "https://localhost:8080/"
        },
        "id": "qUnwzHlR4No9",
        "outputId": "984c470d-a6ee-4ec9-be8c-c42c9bcc13b8"
      },
      "execution_count": 88,
      "outputs": [
        {
          "output_type": "stream",
          "name": "stdout",
          "text": [
            "<class 'pandas.core.frame.DataFrame'>\n",
            "RangeIndex: 712 entries, 0 to 711\n",
            "Data columns (total 5 columns):\n",
            " #   Column      Non-Null Count  Dtype\n",
            "---  ------      --------------  -----\n",
            " 0   Pclass_1    712 non-null    uint8\n",
            " 1   Pclass_2    712 non-null    uint8\n",
            " 2   Sex_1       712 non-null    uint8\n",
            " 3   Embarked_1  712 non-null    uint8\n",
            " 4   Embarked_2  712 non-null    uint8\n",
            "dtypes: uint8(5)\n",
            "memory usage: 3.6 KB\n"
          ]
        }
      ]
    },
    {
      "cell_type": "markdown",
      "source": [
        "#### 더미화된 데이터프레임, 그리고 아까 사용한 features_con_std 데이터프레임을\n",
        "#### pd.concat을 활용해서 양옆으로 결합해주세요\n",
        "#### 이 데이터 프레임은 features_com이란 변수에 저장해줍시다"
      ],
      "metadata": {
        "id": "7PF3G5EGvo9a"
      }
    },
    {
      "cell_type": "code",
      "source": [
        "features_com = pd.concat([features_cat_dum,features_con_std],axis=1)"
      ],
      "metadata": {
        "id": "EcCg7Ysqs1hp"
      },
      "execution_count": 89,
      "outputs": []
    },
    {
      "cell_type": "code",
      "source": [
        "features_com.info()"
      ],
      "metadata": {
        "colab": {
          "base_uri": "https://localhost:8080/"
        },
        "id": "axy8sLx-5GUm",
        "outputId": "7aaf4a84-7d3b-4a0d-d74f-56e1e4370787"
      },
      "execution_count": 90,
      "outputs": [
        {
          "output_type": "stream",
          "name": "stdout",
          "text": [
            "<class 'pandas.core.frame.DataFrame'>\n",
            "RangeIndex: 712 entries, 0 to 711\n",
            "Data columns (total 9 columns):\n",
            " #   Column      Non-Null Count  Dtype  \n",
            "---  ------      --------------  -----  \n",
            " 0   Pclass_1    712 non-null    uint8  \n",
            " 1   Pclass_2    712 non-null    uint8  \n",
            " 2   Sex_1       712 non-null    uint8  \n",
            " 3   Embarked_1  712 non-null    uint8  \n",
            " 4   Embarked_2  712 non-null    uint8  \n",
            " 5   Age         712 non-null    float64\n",
            " 6   SibSp       712 non-null    float64\n",
            " 7   Parch       712 non-null    float64\n",
            " 8   Fare        712 non-null    float64\n",
            "dtypes: float64(4), uint8(5)\n",
            "memory usage: 25.9 KB\n"
          ]
        }
      ]
    },
    {
      "cell_type": "markdown",
      "source": [
        "#### features_com, target으로 훈련, 테스트 데이터를 나눕시다\n",
        "#### 그리고 훈련데이터를 아까 선언한 lg에 fit해주세요\n",
        "#### test_size = 0.3, random_state = 42"
      ],
      "metadata": {
        "id": "g9EaqV5rv9GS"
      }
    },
    {
      "cell_type": "code",
      "source": [
        "from sklearn.model_selection import train_test_split\n",
        "x_train, x_test, y_train, y_test = train_test_split(features_com, target, test_size = 0.3, random_state = 42)\n",
        "lg.fit(x_train, y_train)"
      ],
      "metadata": {
        "colab": {
          "base_uri": "https://localhost:8080/"
        },
        "id": "W80JnVbRs8sm",
        "outputId": "6c7cab39-c534-42c9-d098-42d2d44675cd"
      },
      "execution_count": 146,
      "outputs": [
        {
          "output_type": "stream",
          "name": "stderr",
          "text": [
            "/usr/local/lib/python3.7/dist-packages/sklearn/utils/validation.py:993: DataConversionWarning: A column-vector y was passed when a 1d array was expected. Please change the shape of y to (n_samples, ), for example using ravel().\n",
            "  y = column_or_1d(y, warn=True)\n"
          ]
        },
        {
          "output_type": "execute_result",
          "data": {
            "text/plain": [
              "LogisticRegression()"
            ]
          },
          "metadata": {},
          "execution_count": 146
        }
      ]
    },
    {
      "cell_type": "markdown",
      "source": [
        "#### 위에서 구현한 로지스틱 회귀 코드를 그대로 가져왔습니다. 똑같이 실행해볼까요?"
      ],
      "metadata": {
        "id": "PvVKTSnhwy44"
      }
    },
    {
      "cell_type": "code",
      "source": [
        "pred = []\n",
        "for i in (np.array(x_test).dot(lg.coef_.T)+ lg.intercept_[0]).reshape(-1):\n",
        "  pred.append(sigmoid(i))\n",
        "pred = np.array(pred)"
      ],
      "metadata": {
        "id": "OiVucQ_dtCRu"
      },
      "execution_count": 147,
      "outputs": []
    },
    {
      "cell_type": "markdown",
      "source": [
        "#### cross-entropy와 정확도를 확인해주세요(각 함수들의 괄호를 채워주시면 됩니다)"
      ],
      "metadata": {
        "id": "oQQEbbMTw8f_"
      }
    },
    {
      "cell_type": "code",
      "source": [
        "cross_entropy(pred,np.array(y_test))"
      ],
      "metadata": {
        "colab": {
          "base_uri": "https://localhost:8080/"
        },
        "id": "JTguJQiLtDzq",
        "outputId": "d1aad7ea-33be-49e7-9b98-3359c575b1e1"
      },
      "execution_count": 148,
      "outputs": [
        {
          "output_type": "execute_result",
          "data": {
            "text/plain": [
              "26184.750175548455"
            ]
          },
          "metadata": {},
          "execution_count": 148
        }
      ]
    },
    {
      "cell_type": "code",
      "source": [],
      "metadata": {
        "colab": {
          "base_uri": "https://localhost:8080/"
        },
        "id": "hOxkvilS6C_P",
        "outputId": "3f1923e6-dd27-4dff-ad21-1c1458229613"
      },
      "execution_count": 108,
      "outputs": [
        {
          "output_type": "execute_result",
          "data": {
            "text/plain": [
              "(214,)"
            ]
          },
          "metadata": {},
          "execution_count": 108
        }
      ]
    },
    {
      "cell_type": "code",
      "source": [
        "pred_int = np.round(pred).astype(int)\n",
        "pred_int"
      ],
      "metadata": {
        "colab": {
          "base_uri": "https://localhost:8080/"
        },
        "id": "Rmr_yfOLwTRh",
        "outputId": "e31272e5-6819-448a-8349-45c71314f408"
      },
      "execution_count": 114,
      "outputs": [
        {
          "output_type": "execute_result",
          "data": {
            "text/plain": [
              "array([1, 1, 0, 1, 0, 1, 0, 1, 0, 1, 0, 0, 0, 0, 0, 0, 1, 0, 1, 1, 0, 1,\n",
              "       1, 0, 0, 1, 0, 1, 0, 1, 1, 0, 0, 0, 0, 0, 0, 1, 1, 0, 1, 0, 0, 0,\n",
              "       0, 0, 0, 0, 0, 0, 0, 0, 1, 0, 0, 1, 0, 1, 0, 0, 0, 1, 0, 1, 0, 0,\n",
              "       0, 0, 1, 0, 1, 0, 0, 0, 0, 0, 1, 0, 0, 1, 0, 1, 1, 0, 0, 0, 0, 1,\n",
              "       0, 1, 0, 0, 0, 0, 0, 1, 1, 0, 1, 1, 1, 0, 1, 0, 0, 0, 0, 0, 0, 0,\n",
              "       0, 1, 0, 0, 1, 0, 0, 0, 1, 1, 0, 1, 1, 1, 0, 1, 0, 1, 0, 1, 1, 0,\n",
              "       0, 0, 0, 0, 0, 0, 0, 1, 0, 1, 0, 1, 1, 0, 0, 1, 1, 0, 1, 1, 1, 1,\n",
              "       0, 0, 1, 0, 0, 1, 0, 1, 0, 0, 1, 1, 0, 0, 1, 1, 0, 0, 0, 1, 1, 1,\n",
              "       0, 0, 0, 0, 1, 0, 0, 0, 0, 0, 0, 0, 0, 0, 1, 0, 0, 0, 0, 1, 1, 1,\n",
              "       0, 0, 0, 1, 0, 1, 1, 0, 0, 1, 0, 0, 0, 1, 0, 0])"
            ]
          },
          "metadata": {},
          "execution_count": 114
        }
      ]
    },
    {
      "cell_type": "code",
      "source": [
        "accuracy_score(pred_int,np.array(y_test))"
      ],
      "metadata": {
        "colab": {
          "base_uri": "https://localhost:8080/"
        },
        "id": "YdmUc8Em9-3Y",
        "outputId": "70ad9584-2c5c-4acb-b645-2d3689841385"
      },
      "execution_count": 115,
      "outputs": [
        {
          "output_type": "execute_result",
          "data": {
            "text/plain": [
              "0.8037383177570093"
            ]
          },
          "metadata": {},
          "execution_count": 115
        }
      ]
    },
    {
      "cell_type": "code",
      "source": [
        "# 문제 만드느라 고생많으셨습니다 설명도 자연스럽고 정성이 느껴지네요!!\n",
        " "
      ],
      "metadata": {
        "id": "xxMSt-Gp_Pn_"
      },
      "execution_count": 118,
      "outputs": []
    },
    {
      "cell_type": "markdown",
      "source": [
        "#### 성능이 좋아졌으면 성공하셨고, 아니면 실수한 부분 없는지 체크해보시면 될 듯 합니다!"
      ],
      "metadata": {
        "id": "tPRh1PjGxEjm"
      }
    },
    {
      "cell_type": "markdown",
      "source": [
        "#### 로지스틱도 경사하강법으로 계수랑 절편 찾는 거 구현하고 싶었는데 능력부족으로 하지 못했습니다 "
      ],
      "metadata": {
        "id": "bA2jIU6HxO9B"
      }
    },
    {
      "cell_type": "markdown",
      "source": [
        "https://tobigs.gitbook.io/tobigs/data-analysis/undefined-1/python-1\n",
        "\n",
        "혹시라도 관심있으신 분들은 이 링크 참조해주시면 될 거 같아요!!\n",
        "\n",
        "고생 많으셨습니다."
      ],
      "metadata": {
        "id": "7O4Ae_iTxVB7"
      }
    }
  ]
}