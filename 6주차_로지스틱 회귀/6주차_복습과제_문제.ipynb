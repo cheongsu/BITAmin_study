{
  "nbformat": 4,
  "nbformat_minor": 0,
  "metadata": {
    "colab": {
      "provenance": [],
      "collapsed_sections": []
    },
    "kernelspec": {
      "name": "python3",
      "display_name": "Python 3"
    },
    "language_info": {
      "name": "python"
    },
    "accelerator": "GPU"
  },
  "cells": [
    {
      "cell_type": "markdown",
      "source": [
        "# [Part 0] Sigmoid, Softmax 구현  "
      ],
      "metadata": {
        "id": "br_74kFJGQhh"
      }
    },
    {
      "cell_type": "code",
      "source": [
        "import numpy as np"
      ],
      "metadata": {
        "id": "FTPvx3dBG5Ve"
      },
      "execution_count": 1,
      "outputs": []
    },
    {
      "cell_type": "markdown",
      "source": [
        "## [Q1] 함수 구현  "
      ],
      "metadata": {
        "id": "GZIhjiTZH_Ab"
      }
    },
    {
      "cell_type": "code",
      "source": [
        "# sigmoid \n",
        "'''\n",
        "조건\n",
        "입력값(x): float, int, numpy array 등 (하나 혹은 여러 개의 z값)\n",
        "출력값(y): x와 동일\n",
        "'''\n",
        "\n",
        "def sigmoid(x):\n",
        "    y=1/(1+np.exp(-x))\n",
        "    return y"
      ],
      "metadata": {
        "id": "w8c9CYBLGPgJ"
      },
      "execution_count": null,
      "outputs": []
    },
    {
      "cell_type": "code",
      "source": [
        "# softmax\n",
        "'''\n",
        "조건\n",
        "입력값(x_arr): numpy array, list 등 (여러 개의 z값)\n",
        "출력값(y_arr): x와 동일\n",
        "'''\n",
        "\n",
        "def softmax(x_arr):\n",
        "    expo = np.exp(x_arr)\n",
        "    expo_sum = np.sum(expo)\n",
        "    \n",
        "    y_arr=expo/expo_sum\n",
        "    return y_arr"
      ],
      "metadata": {
        "id": "EWOgicw2GpVW"
      },
      "execution_count": null,
      "outputs": []
    },
    {
      "cell_type": "markdown",
      "source": [
        "## [Q2] 확률 계산  "
      ],
      "metadata": {
        "id": "0BaCWzuyICfN"
      }
    },
    {
      "cell_type": "code",
      "source": [
        "# 위에서 정의한 함수를 사용하여 확률을 계산해보세요 \n",
        "x_arr = np.array([-6.5, 1.03, 5.16, -2.73, 3.34, 0.33, -0.63])\n",
        "\n",
        "print(f'prob = {sigmoid(x_arr)}')\n",
        "print(f'prob = {softmax(x_arr)}')"
      ],
      "metadata": {
        "colab": {
          "base_uri": "https://localhost:8080/"
        },
        "id": "ZnVXqAjNH10k",
        "outputId": "051b9eb2-7e79-4129-e5b9-33e0e660b1bd"
      },
      "execution_count": null,
      "outputs": [
        {
          "output_type": "stream",
          "name": "stdout",
          "text": [
            "prob = [0.00150118 0.7369159  0.99429108 0.06122616 0.96577584 0.58175938\n",
            " 0.34751054]\n",
            "prob = [7.25685867e-06 1.35202933e-02 8.40663757e-01 3.14803000e-04\n",
            " 1.36209176e-01 6.71397897e-03 2.57073478e-03]\n"
          ]
        }
      ]
    },
    {
      "cell_type": "code",
      "source": [
        "# softmax 함수의 반환값의 합은?\n",
        "print(f'sum = {sum(softmax(x_arr))}')"
      ],
      "metadata": {
        "colab": {
          "base_uri": "https://localhost:8080/"
        },
        "id": "I2PN7G-eIqss",
        "outputId": "be70ad05-dea6-408b-a484-3aa62a11d487"
      },
      "execution_count": null,
      "outputs": [
        {
          "output_type": "stream",
          "name": "stdout",
          "text": [
            "sum = 1.0\n"
          ]
        }
      ]
    },
    {
      "cell_type": "markdown",
      "source": [
        "# [Part 1] 이진분류 - Personal Loan"
      ],
      "metadata": {
        "id": "gLSENqIDdZFq"
      }
    },
    {
      "cell_type": "code",
      "source": [
        "import pandas as pd\n",
        "import numpy  as np\n",
        "import matplotlib.pyplot as plt\n",
        "import seaborn as sns"
      ],
      "metadata": {
        "id": "0AQeVy_Gej8W"
      },
      "execution_count": 2,
      "outputs": []
    },
    {
      "cell_type": "code",
      "source": [
        "from google.colab import files\n",
        "myfile = files.upload()"
      ],
      "metadata": {
        "id": "Ig0C8ZLVkCj1",
        "colab": {
          "base_uri": "https://localhost:8080/",
          "height": 74
        },
        "outputId": "c2ab6dea-809c-46c3-8a2a-623e4f0f6fca"
      },
      "execution_count": 3,
      "outputs": [
        {
          "output_type": "display_data",
          "data": {
            "text/plain": [
              "<IPython.core.display.HTML object>"
            ],
            "text/html": [
              "\n",
              "     <input type=\"file\" id=\"files-a6101734-cfcd-4b81-aebb-14d78bed9801\" name=\"files[]\" multiple disabled\n",
              "        style=\"border:none\" />\n",
              "     <output id=\"result-a6101734-cfcd-4b81-aebb-14d78bed9801\">\n",
              "      Upload widget is only available when the cell has been executed in the\n",
              "      current browser session. Please rerun this cell to enable.\n",
              "      </output>\n",
              "      <script>// Copyright 2017 Google LLC\n",
              "//\n",
              "// Licensed under the Apache License, Version 2.0 (the \"License\");\n",
              "// you may not use this file except in compliance with the License.\n",
              "// You may obtain a copy of the License at\n",
              "//\n",
              "//      http://www.apache.org/licenses/LICENSE-2.0\n",
              "//\n",
              "// Unless required by applicable law or agreed to in writing, software\n",
              "// distributed under the License is distributed on an \"AS IS\" BASIS,\n",
              "// WITHOUT WARRANTIES OR CONDITIONS OF ANY KIND, either express or implied.\n",
              "// See the License for the specific language governing permissions and\n",
              "// limitations under the License.\n",
              "\n",
              "/**\n",
              " * @fileoverview Helpers for google.colab Python module.\n",
              " */\n",
              "(function(scope) {\n",
              "function span(text, styleAttributes = {}) {\n",
              "  const element = document.createElement('span');\n",
              "  element.textContent = text;\n",
              "  for (const key of Object.keys(styleAttributes)) {\n",
              "    element.style[key] = styleAttributes[key];\n",
              "  }\n",
              "  return element;\n",
              "}\n",
              "\n",
              "// Max number of bytes which will be uploaded at a time.\n",
              "const MAX_PAYLOAD_SIZE = 100 * 1024;\n",
              "\n",
              "function _uploadFiles(inputId, outputId) {\n",
              "  const steps = uploadFilesStep(inputId, outputId);\n",
              "  const outputElement = document.getElementById(outputId);\n",
              "  // Cache steps on the outputElement to make it available for the next call\n",
              "  // to uploadFilesContinue from Python.\n",
              "  outputElement.steps = steps;\n",
              "\n",
              "  return _uploadFilesContinue(outputId);\n",
              "}\n",
              "\n",
              "// This is roughly an async generator (not supported in the browser yet),\n",
              "// where there are multiple asynchronous steps and the Python side is going\n",
              "// to poll for completion of each step.\n",
              "// This uses a Promise to block the python side on completion of each step,\n",
              "// then passes the result of the previous step as the input to the next step.\n",
              "function _uploadFilesContinue(outputId) {\n",
              "  const outputElement = document.getElementById(outputId);\n",
              "  const steps = outputElement.steps;\n",
              "\n",
              "  const next = steps.next(outputElement.lastPromiseValue);\n",
              "  return Promise.resolve(next.value.promise).then((value) => {\n",
              "    // Cache the last promise value to make it available to the next\n",
              "    // step of the generator.\n",
              "    outputElement.lastPromiseValue = value;\n",
              "    return next.value.response;\n",
              "  });\n",
              "}\n",
              "\n",
              "/**\n",
              " * Generator function which is called between each async step of the upload\n",
              " * process.\n",
              " * @param {string} inputId Element ID of the input file picker element.\n",
              " * @param {string} outputId Element ID of the output display.\n",
              " * @return {!Iterable<!Object>} Iterable of next steps.\n",
              " */\n",
              "function* uploadFilesStep(inputId, outputId) {\n",
              "  const inputElement = document.getElementById(inputId);\n",
              "  inputElement.disabled = false;\n",
              "\n",
              "  const outputElement = document.getElementById(outputId);\n",
              "  outputElement.innerHTML = '';\n",
              "\n",
              "  const pickedPromise = new Promise((resolve) => {\n",
              "    inputElement.addEventListener('change', (e) => {\n",
              "      resolve(e.target.files);\n",
              "    });\n",
              "  });\n",
              "\n",
              "  const cancel = document.createElement('button');\n",
              "  inputElement.parentElement.appendChild(cancel);\n",
              "  cancel.textContent = 'Cancel upload';\n",
              "  const cancelPromise = new Promise((resolve) => {\n",
              "    cancel.onclick = () => {\n",
              "      resolve(null);\n",
              "    };\n",
              "  });\n",
              "\n",
              "  // Wait for the user to pick the files.\n",
              "  const files = yield {\n",
              "    promise: Promise.race([pickedPromise, cancelPromise]),\n",
              "    response: {\n",
              "      action: 'starting',\n",
              "    }\n",
              "  };\n",
              "\n",
              "  cancel.remove();\n",
              "\n",
              "  // Disable the input element since further picks are not allowed.\n",
              "  inputElement.disabled = true;\n",
              "\n",
              "  if (!files) {\n",
              "    return {\n",
              "      response: {\n",
              "        action: 'complete',\n",
              "      }\n",
              "    };\n",
              "  }\n",
              "\n",
              "  for (const file of files) {\n",
              "    const li = document.createElement('li');\n",
              "    li.append(span(file.name, {fontWeight: 'bold'}));\n",
              "    li.append(span(\n",
              "        `(${file.type || 'n/a'}) - ${file.size} bytes, ` +\n",
              "        `last modified: ${\n",
              "            file.lastModifiedDate ? file.lastModifiedDate.toLocaleDateString() :\n",
              "                                    'n/a'} - `));\n",
              "    const percent = span('0% done');\n",
              "    li.appendChild(percent);\n",
              "\n",
              "    outputElement.appendChild(li);\n",
              "\n",
              "    const fileDataPromise = new Promise((resolve) => {\n",
              "      const reader = new FileReader();\n",
              "      reader.onload = (e) => {\n",
              "        resolve(e.target.result);\n",
              "      };\n",
              "      reader.readAsArrayBuffer(file);\n",
              "    });\n",
              "    // Wait for the data to be ready.\n",
              "    let fileData = yield {\n",
              "      promise: fileDataPromise,\n",
              "      response: {\n",
              "        action: 'continue',\n",
              "      }\n",
              "    };\n",
              "\n",
              "    // Use a chunked sending to avoid message size limits. See b/62115660.\n",
              "    let position = 0;\n",
              "    do {\n",
              "      const length = Math.min(fileData.byteLength - position, MAX_PAYLOAD_SIZE);\n",
              "      const chunk = new Uint8Array(fileData, position, length);\n",
              "      position += length;\n",
              "\n",
              "      const base64 = btoa(String.fromCharCode.apply(null, chunk));\n",
              "      yield {\n",
              "        response: {\n",
              "          action: 'append',\n",
              "          file: file.name,\n",
              "          data: base64,\n",
              "        },\n",
              "      };\n",
              "\n",
              "      let percentDone = fileData.byteLength === 0 ?\n",
              "          100 :\n",
              "          Math.round((position / fileData.byteLength) * 100);\n",
              "      percent.textContent = `${percentDone}% done`;\n",
              "\n",
              "    } while (position < fileData.byteLength);\n",
              "  }\n",
              "\n",
              "  // All done.\n",
              "  yield {\n",
              "    response: {\n",
              "      action: 'complete',\n",
              "    }\n",
              "  };\n",
              "}\n",
              "\n",
              "scope.google = scope.google || {};\n",
              "scope.google.colab = scope.google.colab || {};\n",
              "scope.google.colab._files = {\n",
              "  _uploadFiles,\n",
              "  _uploadFilesContinue,\n",
              "};\n",
              "})(self);\n",
              "</script> "
            ]
          },
          "metadata": {}
        },
        {
          "output_type": "stream",
          "name": "stdout",
          "text": [
            "Saving Personal Loan.csv to Personal Loan.csv\n"
          ]
        }
      ]
    },
    {
      "cell_type": "code",
      "execution_count": 4,
      "metadata": {
        "colab": {
          "base_uri": "https://localhost:8080/"
        },
        "id": "hJ9JrJRiTzbl",
        "outputId": "001ca0e9-cc45-4650-f76d-044e0152f12f"
      },
      "outputs": [
        {
          "output_type": "stream",
          "name": "stdout",
          "text": [
            "<class 'pandas.core.frame.DataFrame'>\n",
            "RangeIndex: 2500 entries, 0 to 2499\n",
            "Data columns (total 12 columns):\n",
            " #   Column              Non-Null Count  Dtype  \n",
            "---  ------              --------------  -----  \n",
            " 0   Age                 2500 non-null   int64  \n",
            " 1   Experience          2500 non-null   int64  \n",
            " 2   Income              2500 non-null   int64  \n",
            " 3   Family              2500 non-null   int64  \n",
            " 4   CCAvg               2500 non-null   float64\n",
            " 5   Education           2500 non-null   int64  \n",
            " 6   Mortgage            2500 non-null   int64  \n",
            " 7   Personal Loan       2500 non-null   int64  \n",
            " 8   Securities Account  2500 non-null   int64  \n",
            " 9   CD Account          2500 non-null   int64  \n",
            " 10  Online              2500 non-null   int64  \n",
            " 11  CreditCard          2500 non-null   int64  \n",
            "dtypes: float64(1), int64(11)\n",
            "memory usage: 234.5 KB\n"
          ]
        }
      ],
      "source": [
        "# 데이터 불러오기\n",
        "import pandas as pd\n",
        "loan=pd.read_csv('Personal Loan.csv').drop(['ID','ZIP Code'],axis=1)\n",
        "loan.info()"
      ]
    },
    {
      "cell_type": "markdown",
      "source": [
        "0) 나이  \n",
        "1) 경력  \n",
        "2) 수입  \n",
        "3) 가족단위  \n",
        "4) 월 카드사용량  \n",
        "5) 교육수준 (1:Undergrad/2:Graduate/3:Advance)  \n",
        "6) 가계대출  \n",
        "7) 개인대출 유무  \n",
        "8) 유가증권계좌 유무  \n",
        "9) 양도예금증서 계좌 유무  \n",
        "10) 온라인계좌 유무  \n",
        "11) 신용카드 유무   "
      ],
      "metadata": {
        "id": "6JXbAemWnpbR"
      }
    },
    {
      "cell_type": "markdown",
      "source": [
        "## [Q1] 데이터 전처리  "
      ],
      "metadata": {
        "id": "AIDbYNrJrgRu"
      }
    },
    {
      "cell_type": "code",
      "source": [
        "# [Q1-1] loan의 각 변수별 분포를 확인해주세요 \n",
        "loan.hist(figsize=(12,12))"
      ],
      "metadata": {
        "colab": {
          "base_uri": "https://localhost:8080/",
          "height": 881
        },
        "id": "ifqLCxj7k57U",
        "outputId": "1e8b1447-8850-4245-81a1-4f6b632c8e5f"
      },
      "execution_count": null,
      "outputs": [
        {
          "output_type": "execute_result",
          "data": {
            "text/plain": [
              "array([[<matplotlib.axes._subplots.AxesSubplot object at 0x7f0feed92290>,\n",
              "        <matplotlib.axes._subplots.AxesSubplot object at 0x7f0feed49790>,\n",
              "        <matplotlib.axes._subplots.AxesSubplot object at 0x7f0feec19890>],\n",
              "       [<matplotlib.axes._subplots.AxesSubplot object at 0x7f0feec4ee90>,\n",
              "        <matplotlib.axes._subplots.AxesSubplot object at 0x7f0feec124d0>,\n",
              "        <matplotlib.axes._subplots.AxesSubplot object at 0x7f0feebc8ad0>],\n",
              "       [<matplotlib.axes._subplots.AxesSubplot object at 0x7f0feeb8c190>,\n",
              "        <matplotlib.axes._subplots.AxesSubplot object at 0x7f0feeb426d0>,\n",
              "        <matplotlib.axes._subplots.AxesSubplot object at 0x7f0feeb42710>],\n",
              "       [<matplotlib.axes._subplots.AxesSubplot object at 0x7f0feeafae10>,\n",
              "        <matplotlib.axes._subplots.AxesSubplot object at 0x7f0feea71950>,\n",
              "        <matplotlib.axes._subplots.AxesSubplot object at 0x7f0feea28f50>]],\n",
              "      dtype=object)"
            ]
          },
          "metadata": {},
          "execution_count": 13
        },
        {
          "output_type": "display_data",
          "data": {
            "text/plain": [
              "<Figure size 864x864 with 12 Axes>"
            ],
            "image/png": "[encoded data removed]"
          },
          "metadata": {
            "needs_background": "light"
          }
        }
      ]
    },
    {
      "cell_type": "code",
      "source": [
        "# [Q1-2] 연속형 변수(Age,Experience,Income,CCAvg)의 Outlier를 제거하여 loan2에 저장해주세요 \n",
        "\n",
        "# outlier의 위치 반환 함수\n",
        "def outliers(data): \n",
        "    q1=data.quantile(0.25)\n",
        "    q3=data.quantile(0.75)\n",
        "    IQR=q3-q1\n",
        "    LB=q1-1.5*IQR #Lower Bound\n",
        "    UB=q3+1.5*IQR #Upper Bound \n",
        "\n",
        "    return np.where((data<LB)|(data>UB))[0]\n",
        "\n",
        "continuous=['Age','Experience','Income','CCAvg']\n",
        "loan2=loan\n",
        "\n",
        "for x in continuous:\n",
        "    loan2=loan2.drop(outliers(loan2[x]),axis=0)\n",
        "    loan2=loan2.reset_index(drop=True)\n",
        "\n",
        "loan2.info()"
      ],
      "metadata": {
        "colab": {
          "base_uri": "https://localhost:8080/"
        },
        "id": "L42pgGzbtReA",
        "outputId": "91592172-7b67-4678-f63f-1b9e88c0f570"
      },
      "execution_count": 11,
      "outputs": [
        {
          "output_type": "stream",
          "name": "stdout",
          "text": [
            "<class 'pandas.core.frame.DataFrame'>\n",
            "RangeIndex: 2297 entries, 0 to 2296\n",
            "Data columns (total 12 columns):\n",
            " #   Column              Non-Null Count  Dtype  \n",
            "---  ------              --------------  -----  \n",
            " 0   Age                 2297 non-null   int64  \n",
            " 1   Experience          2297 non-null   int64  \n",
            " 2   Income              2297 non-null   int64  \n",
            " 3   Family              2297 non-null   int64  \n",
            " 4   CCAvg               2297 non-null   float64\n",
            " 5   Education           2297 non-null   int64  \n",
            " 6   Mortgage            2297 non-null   int64  \n",
            " 7   Personal Loan       2297 non-null   int64  \n",
            " 8   Securities Account  2297 non-null   int64  \n",
            " 9   CD Account          2297 non-null   int64  \n",
            " 10  Online              2297 non-null   int64  \n",
            " 11  CreditCard          2297 non-null   int64  \n",
            "dtypes: float64(1), int64(11)\n",
            "memory usage: 215.5 KB\n"
          ]
        }
      ]
    },
    {
      "cell_type": "markdown",
      "source": [
        "_참고) 모든 이상치가 useless한 것은 아닙니다_  \n",
        "제거된 이상치의 y분포에 큰 차이가 있는 경우, 이상치 제거시 주의가 필요합니다.  "
      ],
      "metadata": {
        "id": "DzwMmeuUBhfq"
      }
    },
    {
      "cell_type": "markdown",
      "source": [
        "## [Q2] 훈련세트/테스트 세트 나누기  \n",
        "+ train : test = 7 : 3 \n",
        "+ random_state=42\n",
        "+ y 분포 고려할 것(중요!) "
      ],
      "metadata": {
        "id": "2M5fVzypezQD"
      }
    },
    {
      "cell_type": "code",
      "source": [
        "y=loan2['Personal Loan']\n",
        "X=loan2.drop('Personal Loan',axis=1)"
      ],
      "metadata": {
        "id": "K2tzj1_Z4iBj"
      },
      "execution_count": null,
      "outputs": []
    },
    {
      "cell_type": "code",
      "source": [
        "from sklearn.model_selection import train_test_split\n",
        "X_train,X_test,y_train,y_test=train_test_split(X,y,test_size=0.3,random_state=42,stratify=y)"
      ],
      "metadata": {
        "id": "BjWnPkgfkI72"
      },
      "execution_count": null,
      "outputs": []
    },
    {
      "cell_type": "markdown",
      "source": [
        "## [Q3] 모델 구축 및 훈련\n",
        "+ StandardScaler()->LogisticRegression()으로 이어지는 파이프라인 구축  "
      ],
      "metadata": {
        "id": "n76It2xffVy-"
      }
    },
    {
      "cell_type": "code",
      "source": [
        "from sklearn.linear_model import LogisticRegression\n",
        "from sklearn.preprocessing import StandardScaler\n",
        "from sklearn.pipeline import make_pipeline\n",
        "\n",
        "# 모델 구축\n",
        "logr=make_pipeline(StandardScaler(),LogisticRegression())\n",
        "# 피팅\n",
        "logr.fit(X_train,y_train)\n",
        "# 점수\n",
        "print(f'훈련세트 : {logr.score(X_train,y_train)}')\n",
        "print(f'테스트세트:{logr.score(X_test,y_test)}')"
      ],
      "metadata": {
        "colab": {
          "base_uri": "https://localhost:8080/"
        },
        "id": "yXs-iRDxjw1Z",
        "outputId": "3abcee4a-648b-4989-a350-e3345264a746"
      },
      "execution_count": null,
      "outputs": [
        {
          "output_type": "stream",
          "name": "stdout",
          "text": [
            "훈련세트 : 0.9546019900497512\n",
            "테스트세트:0.9536231884057971\n"
          ]
        }
      ]
    },
    {
      "cell_type": "markdown",
      "source": [
        "### [Q3-1] 분류 결과 확인  \n",
        "+ `z_vals` : X_train의 z계산값  \n",
        "+ `probs` : X_train이 분류될 확률  \n",
        "+ `pred` : X_train의 분류 예측값 "
      ],
      "metadata": {
        "id": "P7WlIckciwhx"
      }
    },
    {
      "cell_type": "code",
      "source": [
        "z_vals=logr.decision_function(X_train)\n",
        "probs=logr.predict_proba(X_train)\n",
        "pred=logr.predict(X_train)\n",
        "\n",
        "plt.scatter(z_vals,probs[:,1])\n",
        "plt.scatter(z_vals,y_train)\n",
        "plt.scatter(z_vals,pred,marker='.')\n",
        "plt.legend(['probs','real','prediction'])\n",
        "plt.grid()\n",
        "plt.show()"
      ],
      "metadata": {
        "colab": {
          "base_uri": "https://localhost:8080/",
          "height": 265
        },
        "id": "N-LG6Vphf0UD",
        "outputId": "3a428ccf-2b8a-4fe3-dd99-4fd3cb5d2e0a"
      },
      "execution_count": null,
      "outputs": [
        {
          "output_type": "display_data",
          "data": {
            "text/plain": [
              "<Figure size 432x288 with 1 Axes>"
            ],
            "image/png": "[encoded data removed]"
          },
          "metadata": {
            "needs_background": "light"
          }
        }
      ]
    },
    {
      "cell_type": "markdown",
      "source": [
        "## [Q4] 모델 평가하기  \n"
      ],
      "metadata": {
        "id": "g_TnjXciaq5p"
      }
    },
    {
      "cell_type": "code",
      "source": [
        "# X_test 분류 결과 \n",
        "y_pred=logr.predict(X_test)"
      ],
      "metadata": {
        "id": "rIgI0R_-lbeT"
      },
      "execution_count": null,
      "outputs": []
    },
    {
      "cell_type": "markdown",
      "source": [
        "### [Q4-1] 오차행렬 출력하기\n",
        "### [Q4-2] ROC 커브 그리기 \n",
        "### [Q4-3] 정밀도,재현율,f1_score,auc_score 출력함수  "
      ],
      "metadata": {
        "id": "bXOqzblxlbBE"
      }
    },
    {
      "cell_type": "code",
      "source": [
        "# [Q4-1]\n",
        "from sklearn.metrics import confusion_matrix\n",
        "cf_mat = confusion_matrix\n",
        "\n",
        "print(cf_mat(y_test,y_pred))"
      ],
      "metadata": {
        "colab": {
          "base_uri": "https://localhost:8080/"
        },
        "id": "tTup5P32Wnal",
        "outputId": "652a9889-1bbb-42fc-8b75-872342015531"
      },
      "execution_count": null,
      "outputs": [
        {
          "output_type": "stream",
          "name": "stdout",
          "text": [
            "[[615  10]\n",
            " [ 22  43]]\n"
          ]
        }
      ]
    },
    {
      "cell_type": "code",
      "source": [
        "# [Q4-2]\n",
        "from sklearn.metrics import roc_curve\n",
        "\n",
        "    # test세트에서 양성클래스로 분류될 확률\n",
        "probs_positive=logr.predict_proba(X_test)[:,1]\n",
        "\n",
        "fprs,tprs,thresholds=roc_curve(y_test,probs_positive)\n",
        "\n",
        "plt.plot(fprs,tprs,label='ROC')\n",
        "plt.plot([0,1],[0,1],label='STR')\n",
        "plt.xlabel('FPR') # 위양성률\n",
        "plt.ylabel('TPR') # 진양성률\n",
        "plt.legend()\n",
        "plt.grid()\n",
        "plt.show()"
      ],
      "metadata": {
        "colab": {
          "base_uri": "https://localhost:8080/",
          "height": 279
        },
        "id": "3AT_buSaaxAW",
        "outputId": "f6552345-740e-4028-8f6d-faf29f68b2b2"
      },
      "execution_count": null,
      "outputs": [
        {
          "output_type": "display_data",
          "data": {
            "text/plain": [
              "<Figure size 432x288 with 1 Axes>"
            ],
            "image/png": "[encoded data removed]"
          },
          "metadata": {
            "needs_background": "light"
          }
        }
      ]
    },
    {
      "cell_type": "code",
      "source": [
        "## [Q4-3] \n",
        "def print_evaluation(y_test,y_pred):\n",
        "    from sklearn.metrics import precision_score,recall_score,f1_score,roc_auc_score\n",
        "\n",
        "    precision=precision_score(y_test,y_pred)\n",
        "    recall=recall_score(y_test,y_pred)\n",
        "    f1=f1_score(y_test,y_pred)\n",
        "    auc = roc_auc_score(y_test, y_pred)\n",
        "\n",
        "\n",
        "    print(f'정밀도 : {precision}')\n",
        "    print(f'재현율 : {recall}')\n",
        "    print(f'f1_score : {f1}')\n",
        "    print(f'AUC Score : {auc}')\n",
        "\n",
        "print_evaluation(y_test,y_pred)"
      ],
      "metadata": {
        "colab": {
          "base_uri": "https://localhost:8080/"
        },
        "id": "6a18Jdvtk30w",
        "outputId": "c0211613-edae-4816-c915-0cdee9c1baec"
      },
      "execution_count": null,
      "outputs": [
        {
          "output_type": "stream",
          "name": "stdout",
          "text": [
            "정밀도 : 0.8113207547169812\n",
            "재현율 : 0.6615384615384615\n",
            "f1_score : 0.7288135593220341\n",
            "AUC Score : 0.8227692307692307\n"
          ]
        }
      ]
    },
    {
      "cell_type": "markdown",
      "source": [
        "### [Q4-4] classify with threshold  \n",
        "threshold(평가 기준)을 사용자가 임의로 설정하여 분류하는 함수  "
      ],
      "metadata": {
        "id": "pMAMhvNAKYWf"
      }
    },
    {
      "cell_type": "code",
      "source": [
        "# classify_with_threshold\n",
        "'''\n",
        "조건\n",
        "p: 데이터가 양성 클래스에 속할 확률 (array)\n",
        "threshold: 평가 기준. 0과 1 사이. 기본값은 0.5. (float)\n",
        "p2: p가 손상되는 경우를 막기 위해 복사하여 사용. 출력값 p2는 0 혹은 1로 분류한 결과값 (array)\n",
        "'''\n",
        "\n",
        "def classify_with_threshold(p, threshold=0.5):\n",
        "  p2 = p.copy()\n",
        "  p2[p2>threshold] = 1\n",
        "  p2[p2<threshold] = 0\n",
        "  \n",
        "  return p2"
      ],
      "metadata": {
        "id": "vklsej5NKj0m"
      },
      "execution_count": null,
      "outputs": []
    },
    {
      "cell_type": "code",
      "source": [
        "thresholds = np.arange(0, 1, 0.1)       #thresholds를 0, 0.1, 0.2, ... 1까지 변화할 수 있도록 array를 만든다\n",
        "probs = logr.predict_proba(X_test)\n",
        "probs_positive = probs[:, 1]              #target값인 1일 확률. 즉, 양성 클래스일 확률.\n",
        "\n",
        "for threshold in thresholds:\n",
        "  y_pred = classify_with_threshold(probs_positive, threshold)\n",
        "  print(f'--- threshold가 {threshold}일 때 ---')\n",
        "  print_evaluation(y_test, y_pred)\n",
        "  print()"
      ],
      "metadata": {
        "colab": {
          "base_uri": "https://localhost:8080/"
        },
        "id": "akdKzJ69OMEV",
        "outputId": "f479379d-954c-4710-985e-a39a3d6a21ab"
      },
      "execution_count": null,
      "outputs": [
        {
          "output_type": "stream",
          "name": "stdout",
          "text": [
            "--- threshold가 0.0일 때 ---\n",
            "정밀도 : 0.09420289855072464\n",
            "재현율 : 1.0\n",
            "f1_score : 0.17218543046357618\n",
            "AUC Score : 0.5\n",
            "\n",
            "--- threshold가 0.1일 때 ---\n",
            "정밀도 : 0.4264705882352941\n",
            "재현율 : 0.8923076923076924\n",
            "f1_score : 0.5771144278606964\n",
            "AUC Score : 0.8837538461538461\n",
            "\n",
            "--- threshold가 0.2일 때 ---\n",
            "정밀도 : 0.5684210526315789\n",
            "재현율 : 0.8307692307692308\n",
            "f1_score : 0.675\n",
            "AUC Score : 0.8825846153846155\n",
            "\n",
            "--- threshold가 0.30000000000000004일 때 ---\n",
            "정밀도 : 0.7101449275362319\n",
            "재현율 : 0.7538461538461538\n",
            "f1_score : 0.7313432835820897\n",
            "AUC Score : 0.8609230769230769\n",
            "\n",
            "--- threshold가 0.4일 때 ---\n",
            "정밀도 : 0.8\n",
            "재현율 : 0.7384615384615385\n",
            "f1_score : 0.768\n",
            "AUC Score : 0.8596307692307692\n",
            "\n",
            "--- threshold가 0.5일 때 ---\n",
            "정밀도 : 0.8113207547169812\n",
            "재현율 : 0.6615384615384615\n",
            "f1_score : 0.7288135593220341\n",
            "AUC Score : 0.8227692307692307\n",
            "\n",
            "--- threshold가 0.6000000000000001일 때 ---\n",
            "정밀도 : 0.8888888888888888\n",
            "재현율 : 0.6153846153846154\n",
            "f1_score : 0.7272727272727274\n",
            "AUC Score : 0.8036923076923077\n",
            "\n",
            "--- threshold가 0.7000000000000001일 때 ---\n",
            "정밀도 : 0.9230769230769231\n",
            "재현율 : 0.5538461538461539\n",
            "f1_score : 0.6923076923076924\n",
            "AUC Score : 0.7745230769230769\n",
            "\n",
            "--- threshold가 0.8일 때 ---\n",
            "정밀도 : 0.9393939393939394\n",
            "재현율 : 0.47692307692307695\n",
            "f1_score : 0.6326530612244897\n",
            "AUC Score : 0.7368615384615386\n",
            "\n",
            "--- threshold가 0.9일 때 ---\n",
            "정밀도 : 0.9259259259259259\n",
            "재현율 : 0.38461538461538464\n",
            "f1_score : 0.5434782608695653\n",
            "AUC Score : 0.6907076923076922\n",
            "\n"
          ]
        }
      ]
    },
    {
      "cell_type": "markdown",
      "source": [
        "<br/>  \n",
        "\n",
        "---  \n",
        "# [Part 2] 다중분류 - MNIST"
      ],
      "metadata": {
        "id": "7gxC_50s_GKT"
      }
    },
    {
      "cell_type": "markdown",
      "source": [
        "데이터를 준비하겠습니다.  \n"
      ],
      "metadata": {
        "id": "xVvHdYGqPq33"
      }
    },
    {
      "cell_type": "code",
      "source": [
        "from sklearn.datasets import fetch_openml\n",
        "mnist = fetch_openml('mnist_784',as_frame=False)\n",
        "\n",
        "X=mnist.data\n",
        "y=mnist.target\n",
        "print(X.shape,y.shape)"
      ],
      "metadata": {
        "colab": {
          "base_uri": "https://localhost:8080/"
        },
        "id": "A6dINJdS_R7T",
        "outputId": "27a36451-55c9-426c-8282-cdb892ba9847"
      },
      "execution_count": null,
      "outputs": [
        {
          "output_type": "stream",
          "name": "stdout",
          "text": [
            "(70000, 784) (70000,)\n"
          ]
        }
      ]
    },
    {
      "cell_type": "markdown",
      "source": [
        "<br/>  \n",
        "임의의 데이터를 확인해 봅시다. "
      ],
      "metadata": {
        "id": "71p_iOzKD38e"
      }
    },
    {
      "cell_type": "code",
      "source": [
        "# 임의의 5개 샘플 확인하기\n",
        "import numpy as np\n",
        "import matplotlib.pyplot as plt\n",
        "\n",
        "np.random.seed(42)\n",
        "random_index=np.random.randint(0,70000,size=5)\n",
        "\n",
        "X_list = []\n",
        "for i in range(5):\n",
        "    tmp = X[random_index[i]]\n",
        "    tmp = tmp.reshape(28, 28)\n",
        "    X_list.append(tmp)\n",
        "\n",
        "\n",
        "plt.figure(figsize=(10,50))\n",
        "for i in range(5):\n",
        "    plt.subplot(1,5,i+1)\n",
        "    plt.imshow(X_list[i])\n",
        "    plt.title(f'target : {y[random_index[i]]}')"
      ],
      "metadata": {
        "colab": {
          "base_uri": "https://localhost:8080/",
          "height": 160
        },
        "id": "xTPjX0vQBaSZ",
        "outputId": "ae483bab-770f-40b0-85ab-a9562edea3f1"
      },
      "execution_count": null,
      "outputs": [
        {
          "output_type": "display_data",
          "data": {
            "text/plain": [
              "<Figure size 720x3600 with 5 Axes>"
            ],
            "image/png": "[encoded data removed]"
          },
          "metadata": {
            "needs_background": "light"
          }
        }
      ]
    },
    {
      "cell_type": "markdown",
      "source": [
        "## [Q1] 훈련세트/테스트 세트 나누기  \n",
        "\n",
        "+ train : test = 8 : 2\n",
        "+ random_state=42  "
      ],
      "metadata": {
        "id": "x_UGpxPLLKcm"
      }
    },
    {
      "cell_type": "code",
      "source": [
        "from sklearn.model_selection import train_test_split\n",
        "X_train,X_test,y_train,y_test=train_test_split(X,y,test_size=0.2,random_state=42)\n",
        "\n",
        "print(X_train.shape,y_train.shape,X_test.shape,y_test.shape)"
      ],
      "metadata": {
        "colab": {
          "base_uri": "https://localhost:8080/"
        },
        "id": "zNukjvc5LhfS",
        "outputId": "3527ff3b-9012-4a3d-9531-e6770b5a0937"
      },
      "execution_count": null,
      "outputs": [
        {
          "output_type": "stream",
          "name": "stdout",
          "text": [
            "(56000, 784) (56000,) (14000, 784) (14000,)\n"
          ]
        }
      ]
    },
    {
      "cell_type": "markdown",
      "source": [
        "## [Q2] 모델 구축 및 훈련  \n",
        "+ max_iter=1000  \n",
        "+ 훈련은 처음 1500개의 데이터로 `X_train[:1500]`  \n",
        "+ 테스트는 처음 300개의 데이터로 `X_test[:300]`"
      ],
      "metadata": {
        "id": "jmHLsq16L7R4"
      }
    },
    {
      "cell_type": "code",
      "source": [
        "from sklearn.linear_model import LogisticRegression\n",
        "# 모델 구축\n",
        "logr=LogisticRegression(max_iter=1000)\n",
        "# 모델 피팅\n",
        "logr.fit(X_train[:1500],y_train[:1500])\n",
        "# 점수 저장\n",
        "train_score=logr.score(X_train[:1500],y_train[:1500])\n",
        "test_score=logr.score(X_test[:300],y_test[:300])\n",
        "\n",
        "print(f'훈련데이터 점수 : {train_score}')\n",
        "print(f'테스트데이터 점수: {test_score}')"
      ],
      "metadata": {
        "colab": {
          "base_uri": "https://localhost:8080/"
        },
        "id": "oA4mDr17MCbD",
        "outputId": "a1aed33a-6dc3-4deb-a642-c616a766b7bf"
      },
      "execution_count": null,
      "outputs": [
        {
          "output_type": "stream",
          "name": "stdout",
          "text": [
            "훈련데이터 점수 : 1.0\n",
            "테스트데이터 점수: 0.8666666666666667\n"
          ]
        }
      ]
    },
    {
      "cell_type": "markdown",
      "source": [
        "## [Q3] 모델 평가하기  \n",
        "+ 오차행렬을 출력해주세요  "
      ],
      "metadata": {
        "id": "wm3RG_WfPYVs"
      }
    },
    {
      "cell_type": "code",
      "source": [
        "from sklearn.metrics import confusion_matrix\n",
        "cf_max=confusion_matrix\n",
        "\n",
        "y_pred=logr.predict(X_test[:300])\n",
        "cf_max(y_test[:300],y_pred)"
      ],
      "metadata": {
        "colab": {
          "base_uri": "https://localhost:8080/"
        },
        "id": "Uvxn0QiGN4dR",
        "outputId": "acb5a19e-35bf-47c1-ff1a-beb51f4d7c30"
      },
      "execution_count": null,
      "outputs": [
        {
          "output_type": "execute_result",
          "data": {
            "text/plain": [
              "array([[22,  0,  0,  0,  0,  1,  1,  0,  1,  0],\n",
              "       [ 0, 36,  0,  0,  0,  0,  0,  0,  0,  0],\n",
              "       [ 0,  1, 16,  0,  0,  1,  1,  0,  1,  0],\n",
              "       [ 0,  0,  2, 32,  0,  2,  0,  0,  1,  0],\n",
              "       [ 0,  0,  0,  0, 23,  0,  0,  0,  0,  4],\n",
              "       [ 0,  0,  0,  0,  0, 25,  1,  1,  2,  0],\n",
              "       [ 0,  0,  3,  0,  0,  0, 26,  0,  0,  0],\n",
              "       [ 0,  1,  0,  0,  0,  0,  0, 31,  0,  1],\n",
              "       [ 0,  0,  1,  1,  0,  5,  0,  1, 22,  0],\n",
              "       [ 0,  1,  0,  1,  2,  0,  0,  1,  2, 27]])"
            ]
          },
          "metadata": {},
          "execution_count": 12
        }
      ]
    },
    {
      "cell_type": "markdown",
      "source": [
        "2번 row를 주목해주세요  \n",
        "True `'2'` =16  \n",
        "False `'not 2'` =4 입니다. "
      ],
      "metadata": {
        "id": "Ed7AkPbiYxgX"
      }
    },
    {
      "cell_type": "code",
      "source": [
        "# 이미지로 구분해 봅시다\n",
        "num2_index=np.where(y_test[:300]=='2')[0]\n",
        "\n",
        "plt.figure(figsize=(15,15))\n",
        "for i,j in enumerate(num2_index):\n",
        "    tmp=X_test[j].reshape(28,28)\n",
        "    plt.subplot(4,5,i+1)\n",
        "    if y_pred[j]!='2': \n",
        "        # False not 2 (다른 숫자로 잘못 예측)\n",
        "        plt.imshow(tmp,cmap=plt.cm.binary)\n",
        "    else: \n",
        "        # True 2 (잘 예측)\n",
        "        plt.imshow(tmp)\n",
        "    plt.title(f'prediction : {y_pred[j]}')"
      ],
      "metadata": {
        "colab": {
          "base_uri": "https://localhost:8080/",
          "height": 616
        },
        "id": "Pc99x_QPUQQt",
        "outputId": "97d40b08-9afa-4a20-bf13-8fa8b555aced"
      },
      "execution_count": null,
      "outputs": [
        {
          "output_type": "display_data",
          "data": {
            "text/plain": [
              "<Figure size 1080x1080 with 20 Axes>"
            ],
            "image/png": "[encoded data removed]"
          },
          "metadata": {
            "needs_background": "light"
          }
        }
      ]
    },
    {
      "cell_type": "markdown",
      "source": [
        "### [Q4] True `'0'`와 False `'not0'` 를 구분하는 plot을 그려보세요  "
      ],
      "metadata": {
        "id": "pFO30a2ga6Kd"
      }
    },
    {
      "cell_type": "code",
      "source": [
        "num0_index=np.where(y_test[:300]=='0')[0]\n",
        "\n",
        "plt.figure(figsize=(15,17))\n",
        "for i,j in enumerate(num0_index):\n",
        "    tmp=X_test[j].reshape(28,28)\n",
        "    plt.subplot(5,5,i+1)\n",
        "    if y_pred[j]!='0':\n",
        "        plt.imshow(tmp,cmap=plt.cm.binary)\n",
        "    else:\n",
        "        plt.imshow(tmp)\n",
        "    plt.title(f'prediction : {y_pred[j]}')"
      ],
      "metadata": {
        "colab": {
          "base_uri": "https://localhost:8080/",
          "height": 707
        },
        "id": "ZIUePa_pa4Oh",
        "outputId": "9c2259ec-bb74-4494-a1b4-36be4cd4eef7"
      },
      "execution_count": null,
      "outputs": [
        {
          "output_type": "display_data",
          "data": {
            "text/plain": [
              "<Figure size 1080x1224 with 25 Axes>"
            ],
            "image/png": "[encoded data removed]"
          },
          "metadata": {
            "needs_background": "light"
          }
        }
      ]
    },
    {
      "cell_type": "code",
      "source": [],
      "metadata": {
        "id": "yIPlbpNftW8x"
      },
      "execution_count": null,
      "outputs": []
    }
  ]
}