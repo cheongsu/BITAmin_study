{
  "nbformat": 4,
  "nbformat_minor": 0,
  "metadata": {
    "colab": {
      "provenance": [],
      "collapsed_sections": []
    },
    "kernelspec": {
      "name": "python3",
      "display_name": "Python 3"
    },
    "language_info": {
      "name": "python"
    }
  },
  "cells": [
    {
      "cell_type": "markdown",
      "source": [
        "#문제는 밑줄(______)입니다!!! '_' 개수는 답안 코드와 상관 없습니다\n",
        "# 밑줄 부분에 코딩하시면 됩니다!!!"
      ],
      "metadata": {
        "id": "khLau61v4W7x"
      }
    },
    {
      "cell_type": "markdown",
      "source": [
        "#데이터 준비 및 전처리\n",
        "## 사용자 행동 인식 데이터 사용\n",
        "## 데이터 출처 : https://archive.ics.uci.edu/ml/datasets/human+activity+recognition+using+smartphones"
      ],
      "metadata": {
        "id": "IqKfzAgHdmNb"
      }
    },
    {
      "cell_type": "code",
      "execution_count": null,
      "metadata": {
        "colab": {
          "base_uri": "https://localhost:8080/",
          "height": 206
        },
        "id": "kjiDU3xzmn0N",
        "outputId": "41a89e0b-6363-4e25-cd65-a3b19223ea6a"
      },
      "outputs": [
        {
          "output_type": "execute_result",
          "data": {
            "text/plain": [
              "   column_index        column_name\n",
              "0             1  tBodyAcc-mean()-X\n",
              "1             2  tBodyAcc-mean()-Y\n",
              "2             3  tBodyAcc-mean()-Z\n",
              "3             4   tBodyAcc-std()-X\n",
              "4             5   tBodyAcc-std()-Y"
            ],
            "text/html": [
              "\n",
              "  <div id=\"df-3cc8ab76-1641-4f09-a1fa-bc04dcf078c7\">\n",
              "    <div class=\"colab-df-container\">\n",
              "      <div>\n",
              "<style scoped>\n",
              "    .dataframe tbody tr th:only-of-type {\n",
              "        vertical-align: middle;\n",
              "    }\n",
              "\n",
              "    .dataframe tbody tr th {\n",
              "        vertical-align: top;\n",
              "    }\n",
              "\n",
              "    .dataframe thead th {\n",
              "        text-align: right;\n",
              "    }\n",
              "</style>\n",
              "<table border=\"1\" class=\"dataframe\">\n",
              "  <thead>\n",
              "    <tr style=\"text-align: right;\">\n",
              "      <th></th>\n",
              "      <th>column_index</th>\n",
              "      <th>column_name</th>\n",
              "    </tr>\n",
              "  </thead>\n",
              "  <tbody>\n",
              "    <tr>\n",
              "      <th>0</th>\n",
              "      <td>1</td>\n",
              "      <td>tBodyAcc-mean()-X</td>\n",
              "    </tr>\n",
              "    <tr>\n",
              "      <th>1</th>\n",
              "      <td>2</td>\n",
              "      <td>tBodyAcc-mean()-Y</td>\n",
              "    </tr>\n",
              "    <tr>\n",
              "      <th>2</th>\n",
              "      <td>3</td>\n",
              "      <td>tBodyAcc-mean()-Z</td>\n",
              "    </tr>\n",
              "    <tr>\n",
              "      <th>3</th>\n",
              "      <td>4</td>\n",
              "      <td>tBodyAcc-std()-X</td>\n",
              "    </tr>\n",
              "    <tr>\n",
              "      <th>4</th>\n",
              "      <td>5</td>\n",
              "      <td>tBodyAcc-std()-Y</td>\n",
              "    </tr>\n",
              "  </tbody>\n",
              "</table>\n",
              "</div>\n",
              "      <button class=\"colab-df-convert\" onclick=\"convertToInteractive('df-3cc8ab76-1641-4f09-a1fa-bc04dcf078c7')\"\n",
              "              title=\"Convert this dataframe to an interactive table.\"\n",
              "              style=\"display:none;\">\n",
              "        \n",
              "  <svg xmlns=\"http://www.w3.org/2000/svg\" height=\"24px\"viewBox=\"0 0 24 24\"\n",
              "       width=\"24px\">\n",
              "    <path d=\"M0 0h24v24H0V0z\" fill=\"none\"/>\n",
              "    <path d=\"M18.56 5.44l.94 2.06.94-2.06 2.06-.94-2.06-.94-.94-2.06-.94 2.06-2.06.94zm-11 1L8.5 8.5l.94-2.06 2.06-.94-2.06-.94L8.5 2.5l-.94 2.06-2.06.94zm10 10l.94 2.06.94-2.06 2.06-.94-2.06-.94-.94-2.06-.94 2.06-2.06.94z\"/><path d=\"M17.41 7.96l-1.37-1.37c-.4-.4-.92-.59-1.43-.59-.52 0-1.04.2-1.43.59L10.3 9.45l-7.72 7.72c-.78.78-.78 2.05 0 2.83L4 21.41c.39.39.9.59 1.41.59.51 0 1.02-.2 1.41-.59l7.78-7.78 2.81-2.81c.8-.78.8-2.07 0-2.86zM5.41 20L4 18.59l7.72-7.72 1.47 1.35L5.41 20z\"/>\n",
              "  </svg>\n",
              "      </button>\n",
              "      \n",
              "  <style>\n",
              "    .colab-df-container {\n",
              "      display:flex;\n",
              "      flex-wrap:wrap;\n",
              "      gap: 12px;\n",
              "    }\n",
              "\n",
              "    .colab-df-convert {\n",
              "      background-color: #E8F0FE;\n",
              "      border: none;\n",
              "      border-radius: 50%;\n",
              "      cursor: pointer;\n",
              "      display: none;\n",
              "      fill: #1967D2;\n",
              "      height: 32px;\n",
              "      padding: 0 0 0 0;\n",
              "      width: 32px;\n",
              "    }\n",
              "\n",
              "    .colab-df-convert:hover {\n",
              "      background-color: #E2EBFA;\n",
              "      box-shadow: 0px 1px 2px rgba(60, 64, 67, 0.3), 0px 1px 3px 1px rgba(60, 64, 67, 0.15);\n",
              "      fill: #174EA6;\n",
              "    }\n",
              "\n",
              "    [theme=dark] .colab-df-convert {\n",
              "      background-color: #3B4455;\n",
              "      fill: #D2E3FC;\n",
              "    }\n",
              "\n",
              "    [theme=dark] .colab-df-convert:hover {\n",
              "      background-color: #434B5C;\n",
              "      box-shadow: 0px 1px 3px 1px rgba(0, 0, 0, 0.15);\n",
              "      filter: drop-shadow(0px 1px 2px rgba(0, 0, 0, 0.3));\n",
              "      fill: #FFFFFF;\n",
              "    }\n",
              "  </style>\n",
              "\n",
              "      <script>\n",
              "        const buttonEl =\n",
              "          document.querySelector('#df-3cc8ab76-1641-4f09-a1fa-bc04dcf078c7 button.colab-df-convert');\n",
              "        buttonEl.style.display =\n",
              "          google.colab.kernel.accessAllowed ? 'block' : 'none';\n",
              "\n",
              "        async function convertToInteractive(key) {\n",
              "          const element = document.querySelector('#df-3cc8ab76-1641-4f09-a1fa-bc04dcf078c7');\n",
              "          const dataTable =\n",
              "            await google.colab.kernel.invokeFunction('convertToInteractive',\n",
              "                                                     [key], {});\n",
              "          if (!dataTable) return;\n",
              "\n",
              "          const docLinkHtml = 'Like what you see? Visit the ' +\n",
              "            '<a target=\"_blank\" href=https://colab.research.google.com/notebooks/data_table.ipynb>data table notebook</a>'\n",
              "            + ' to learn more about interactive tables.';\n",
              "          element.innerHTML = '';\n",
              "          dataTable['output_type'] = 'display_data';\n",
              "          await google.colab.output.renderOutput(dataTable, element);\n",
              "          const docLink = document.createElement('div');\n",
              "          docLink.innerHTML = docLinkHtml;\n",
              "          element.appendChild(docLink);\n",
              "        }\n",
              "      </script>\n",
              "    </div>\n",
              "  </div>\n",
              "  "
            ]
          },
          "metadata": {},
          "execution_count": 2
        }
      ],
      "source": [
        "import pandas as pd\n",
        "import matplotlib.pyplot as plt\n",
        "%matplotlib inline\n",
        "\n",
        "# feature.txt 파일은 index와  피처명이 공백으로 분리되어 있어 다음과 같이 sep으로 할당시켜 불러와 줘야 함.\n",
        "\n",
        "feature_name_df = pd.read_csv(______, sep='\\s+',\n",
        "                             header=None, names = ['column_index', 'column_name'])\n",
        "feature_name_df.head()"
      ]
    },
    {
      "cell_type": "code",
      "source": [
        "# 피처명 index를 제거한 후에 피처명만 리스트 객체로 생성한 뒤 샘플로 10개만 추출 하여 확인.\n",
        "feature_name = feature_name_df.iloc[:, 1].values.tolist()\n",
        "feature_name[:10]"
      ],
      "metadata": {
        "colab": {
          "base_uri": "https://localhost:8080/"
        },
        "id": "jKWjQVgUoGc0",
        "outputId": "8b2a868d-606e-4185-ce07-6837aa3807e6"
      },
      "execution_count": null,
      "outputs": [
        {
          "output_type": "execute_result",
          "data": {
            "text/plain": [
              "['tBodyAcc-mean()-X',\n",
              " 'tBodyAcc-mean()-Y',\n",
              " 'tBodyAcc-mean()-Z',\n",
              " 'tBodyAcc-std()-X',\n",
              " 'tBodyAcc-std()-Y',\n",
              " 'tBodyAcc-std()-Z',\n",
              " 'tBodyAcc-mad()-X',\n",
              " 'tBodyAcc-mad()-Y',\n",
              " 'tBodyAcc-mad()-Z',\n",
              " 'tBodyAcc-max()-X']"
            ]
          },
          "metadata": {},
          "execution_count": 3
        }
      ]
    },
    {
      "cell_type": "code",
      "source": [
        "# 중복된 feature 확인\n",
        "feature_dup_df = feature_name_df.groupby('column_name').count()\n",
        "print(feature_dup_df[feature_dup_df['column_index'] > 1].count())\n",
        "feature_dup_df[feature_dup_df['column_index'] > 1].head()"
      ],
      "metadata": {
        "colab": {
          "base_uri": "https://localhost:8080/",
          "height": 275
        },
        "id": "DsexJ1vYm8td",
        "outputId": "9d6c6333-3118-4908-fe9e-09469efc8779"
      },
      "execution_count": null,
      "outputs": [
        {
          "output_type": "stream",
          "name": "stdout",
          "text": [
            "column_index    42\n",
            "dtype: int64\n"
          ]
        },
        {
          "output_type": "execute_result",
          "data": {
            "text/plain": [
              "                              column_index\n",
              "column_name                               \n",
              "fBodyAcc-bandsEnergy()-1,16              3\n",
              "fBodyAcc-bandsEnergy()-1,24              3\n",
              "fBodyAcc-bandsEnergy()-1,8               3\n",
              "fBodyAcc-bandsEnergy()-17,24             3\n",
              "fBodyAcc-bandsEnergy()-17,32             3"
            ],
            "text/html": [
              "\n",
              "  <div id=\"df-c2e2c47a-2f8f-407d-96e6-686364dc6b90\">\n",
              "    <div class=\"colab-df-container\">\n",
              "      <div>\n",
              "<style scoped>\n",
              "    .dataframe tbody tr th:only-of-type {\n",
              "        vertical-align: middle;\n",
              "    }\n",
              "\n",
              "    .dataframe tbody tr th {\n",
              "        vertical-align: top;\n",
              "    }\n",
              "\n",
              "    .dataframe thead th {\n",
              "        text-align: right;\n",
              "    }\n",
              "</style>\n",
              "<table border=\"1\" class=\"dataframe\">\n",
              "  <thead>\n",
              "    <tr style=\"text-align: right;\">\n",
              "      <th></th>\n",
              "      <th>column_index</th>\n",
              "    </tr>\n",
              "    <tr>\n",
              "      <th>column_name</th>\n",
              "      <th></th>\n",
              "    </tr>\n",
              "  </thead>\n",
              "  <tbody>\n",
              "    <tr>\n",
              "      <th>fBodyAcc-bandsEnergy()-1,16</th>\n",
              "      <td>3</td>\n",
              "    </tr>\n",
              "    <tr>\n",
              "      <th>fBodyAcc-bandsEnergy()-1,24</th>\n",
              "      <td>3</td>\n",
              "    </tr>\n",
              "    <tr>\n",
              "      <th>fBodyAcc-bandsEnergy()-1,8</th>\n",
              "      <td>3</td>\n",
              "    </tr>\n",
              "    <tr>\n",
              "      <th>fBodyAcc-bandsEnergy()-17,24</th>\n",
              "      <td>3</td>\n",
              "    </tr>\n",
              "    <tr>\n",
              "      <th>fBodyAcc-bandsEnergy()-17,32</th>\n",
              "      <td>3</td>\n",
              "    </tr>\n",
              "  </tbody>\n",
              "</table>\n",
              "</div>\n",
              "      <button class=\"colab-df-convert\" onclick=\"convertToInteractive('df-c2e2c47a-2f8f-407d-96e6-686364dc6b90')\"\n",
              "              title=\"Convert this dataframe to an interactive table.\"\n",
              "              style=\"display:none;\">\n",
              "        \n",
              "  <svg xmlns=\"http://www.w3.org/2000/svg\" height=\"24px\"viewBox=\"0 0 24 24\"\n",
              "       width=\"24px\">\n",
              "    <path d=\"M0 0h24v24H0V0z\" fill=\"none\"/>\n",
              "    <path d=\"M18.56 5.44l.94 2.06.94-2.06 2.06-.94-2.06-.94-.94-2.06-.94 2.06-2.06.94zm-11 1L8.5 8.5l.94-2.06 2.06-.94-2.06-.94L8.5 2.5l-.94 2.06-2.06.94zm10 10l.94 2.06.94-2.06 2.06-.94-2.06-.94-.94-2.06-.94 2.06-2.06.94z\"/><path d=\"M17.41 7.96l-1.37-1.37c-.4-.4-.92-.59-1.43-.59-.52 0-1.04.2-1.43.59L10.3 9.45l-7.72 7.72c-.78.78-.78 2.05 0 2.83L4 21.41c.39.39.9.59 1.41.59.51 0 1.02-.2 1.41-.59l7.78-7.78 2.81-2.81c.8-.78.8-2.07 0-2.86zM5.41 20L4 18.59l7.72-7.72 1.47 1.35L5.41 20z\"/>\n",
              "  </svg>\n",
              "      </button>\n",
              "      \n",
              "  <style>\n",
              "    .colab-df-container {\n",
              "      display:flex;\n",
              "      flex-wrap:wrap;\n",
              "      gap: 12px;\n",
              "    }\n",
              "\n",
              "    .colab-df-convert {\n",
              "      background-color: #E8F0FE;\n",
              "      border: none;\n",
              "      border-radius: 50%;\n",
              "      cursor: pointer;\n",
              "      display: none;\n",
              "      fill: #1967D2;\n",
              "      height: 32px;\n",
              "      padding: 0 0 0 0;\n",
              "      width: 32px;\n",
              "    }\n",
              "\n",
              "    .colab-df-convert:hover {\n",
              "      background-color: #E2EBFA;\n",
              "      box-shadow: 0px 1px 2px rgba(60, 64, 67, 0.3), 0px 1px 3px 1px rgba(60, 64, 67, 0.15);\n",
              "      fill: #174EA6;\n",
              "    }\n",
              "\n",
              "    [theme=dark] .colab-df-convert {\n",
              "      background-color: #3B4455;\n",
              "      fill: #D2E3FC;\n",
              "    }\n",
              "\n",
              "    [theme=dark] .colab-df-convert:hover {\n",
              "      background-color: #434B5C;\n",
              "      box-shadow: 0px 1px 3px 1px rgba(0, 0, 0, 0.15);\n",
              "      filter: drop-shadow(0px 1px 2px rgba(0, 0, 0, 0.3));\n",
              "      fill: #FFFFFF;\n",
              "    }\n",
              "  </style>\n",
              "\n",
              "      <script>\n",
              "        const buttonEl =\n",
              "          document.querySelector('#df-c2e2c47a-2f8f-407d-96e6-686364dc6b90 button.colab-df-convert');\n",
              "        buttonEl.style.display =\n",
              "          google.colab.kernel.accessAllowed ? 'block' : 'none';\n",
              "\n",
              "        async function convertToInteractive(key) {\n",
              "          const element = document.querySelector('#df-c2e2c47a-2f8f-407d-96e6-686364dc6b90');\n",
              "          const dataTable =\n",
              "            await google.colab.kernel.invokeFunction('convertToInteractive',\n",
              "                                                     [key], {});\n",
              "          if (!dataTable) return;\n",
              "\n",
              "          const docLinkHtml = 'Like what you see? Visit the ' +\n",
              "            '<a target=\"_blank\" href=https://colab.research.google.com/notebooks/data_table.ipynb>data table notebook</a>'\n",
              "            + ' to learn more about interactive tables.';\n",
              "          element.innerHTML = '';\n",
              "          dataTable['output_type'] = 'display_data';\n",
              "          await google.colab.output.renderOutput(dataTable, element);\n",
              "          const docLink = document.createElement('div');\n",
              "          docLink.innerHTML = docLinkHtml;\n",
              "          element.appendChild(docLink);\n",
              "        }\n",
              "      </script>\n",
              "    </div>\n",
              "  </div>\n",
              "  "
            ]
          },
          "metadata": {},
          "execution_count": 4
        }
      ]
    },
    {
      "cell_type": "markdown",
      "source": [
        "중복 feature명에 대해서 원본 feature 명에 '_1(또는2)'를 추가로 부여하는 함수인 get_new_feature_name_df() 생성"
      ],
      "metadata": {
        "id": "SF0IPNd5ozmY"
      }
    },
    {
      "cell_type": "code",
      "source": [
        "def get_new_feature_name_df(old_feature_name_df):\n",
        "    feature_dup_df = pd.DataFrame(data=old_feature_name_df.groupby('column_name').cumcount(),\n",
        "                                  columns=['dup_cnt'])\n",
        "    feature_dup_df = feature_dup_df.reset_index()\n",
        "    new_feature_name_df = pd.merge(old_feature_name_df.reset_index(), feature_dup_df, how='outer')\n",
        "    new_feature_name_df['column_name'] = new_feature_name_df[['column_name', 'dup_cnt']].apply(lambda x : x[0]+'_'+str(x[1]) \n",
        "                                                                                         if x[1] >0 else x[0] ,  axis=1)\n",
        "    new_feature_name_df = new_feature_name_df.drop(['index'], axis=1)\n",
        "    return new_feature_name_df"
      ],
      "metadata": {
        "id": "N32sFUyPoVx8"
      },
      "execution_count": null,
      "outputs": []
    },
    {
      "cell_type": "markdown",
      "source": [
        "데이터에 필요한 전처리를 진행 하고 데이터를 분리하는 get_human_dataset() 함수 생성"
      ],
      "metadata": {
        "id": "dQNDxyyg5J28"
      }
    },
    {
      "cell_type": "code",
      "source": [
        "import pandas as pd\n",
        "\n",
        "def get_human_dataset( ):\n",
        "    \n",
        "    # 각 데이터 파일들은 공백으로 분리되어 있으므로 위처럼 read_csv에서 공백 문자를 sep으로 할당.\n",
        "    feature_name_df = pd.read_csv(________,sep=_______,\n",
        "                        header=None,names=['column_index','column_name'])\n",
        "    \n",
        "    # 중복된 피처명을 수정하는 get_new_feature_name_df()를 이용, 신규 피처명 DataFrame생성. \n",
        "    new_feature_name_df = get_new_feature_name_df(feature_name_df)\n",
        "    \n",
        "    # DataFrame에 피처명을 컬럼으로 부여하기 위해 리스트 객체로 다시 변환\n",
        "    feature_name = new_feature_name_df.iloc[:, 1].values.tolist()\n",
        "    \n",
        "    # 학습 피처 데이터 셋과 테스트 피처 데이터을 DataFrame으로 로딩. 컬럼명은 feature_name 적용\n",
        "    # 피쳐 데이터 셋은 X_train.txt와 X_test.txt를 이용하시면 됩니다.\n",
        "    X_train = pd.read_csv(_______,\n",
        "                          sep='\\s+', names=feature_name )\n",
        "    X_test = pd.read_csv(_______,\n",
        "                         sep='\\s+', names=feature_name)\n",
        "    \n",
        "    # 학습 레이블과 테스트 레이블 데이터을 DataFrame으로 로딩하고 컬럼명은 action으로 부여\n",
        "    # 레이블 데이터 셋은 y_train.txt와 y_test.txt를 이용하시면 됩니다.\n",
        "    y_train = pd.read_csv(__________\n",
        "                          ,sep='\\s+',header=None,names=______)\n",
        "    y_test = pd.read_csv(________,\n",
        "                         sep='\\s+',header=None,names=_______)\n",
        "    \n",
        "    # 로드된 학습/테스트용 DataFrame을 모두 반환 \n",
        "    return X_train, X_test, y_train, y_test\n",
        "\n",
        "\n",
        "X_train, X_test, y_train, y_test = get_human_dataset()"
      ],
      "metadata": {
        "id": "dDKcIGlno4z3"
      },
      "execution_count": null,
      "outputs": []
    },
    {
      "cell_type": "markdown",
      "source": [
        "train 데이터에 대한 Feature와 Label을 확인해보자"
      ],
      "metadata": {
        "id": "GZCUtBHo5Oug"
      }
    },
    {
      "cell_type": "code",
      "source": [
        "print('## 학습 피처 데이터셋 info()')\n",
        "print(X_train.info())"
      ],
      "metadata": {
        "colab": {
          "base_uri": "https://localhost:8080/"
        },
        "id": "yfS5lGe05Qx5",
        "outputId": "1d131679-2d58-4d7c-b925-47a6748131d9"
      },
      "execution_count": null,
      "outputs": [
        {
          "output_type": "stream",
          "name": "stdout",
          "text": [
            "## 학습 피처 데이터셋 info()\n",
            "<class 'pandas.core.frame.DataFrame'>\n",
            "RangeIndex: 7352 entries, 0 to 7351\n",
            "Columns: 561 entries, tBodyAcc-mean()-X to angle(Z,gravityMean)\n",
            "dtypes: float64(561)\n",
            "memory usage: 31.5 MB\n",
            "None\n"
          ]
        }
      ]
    },
    {
      "cell_type": "code",
      "source": [
        "print(y_train['action'].value_counts())"
      ],
      "metadata": {
        "colab": {
          "base_uri": "https://localhost:8080/"
        },
        "id": "fP-TK9Ah5UJO",
        "outputId": "a106aa09-8fa5-4327-fe01-9ecdfe443b9e"
      },
      "execution_count": null,
      "outputs": [
        {
          "output_type": "stream",
          "name": "stdout",
          "text": [
            "6    1407\n",
            "5    1374\n",
            "4    1286\n",
            "1    1226\n",
            "2    1073\n",
            "3     986\n",
            "Name: action, dtype: int64\n"
          ]
        }
      ]
    },
    {
      "cell_type": "markdown",
      "source": [
        "클래스가 6개인 Multi-Class 문제"
      ],
      "metadata": {
        "id": "XdggdyPpjJpm"
      }
    },
    {
      "cell_type": "markdown",
      "source": [
        "#Decision Tree와 RandomForest 비교"
      ],
      "metadata": {
        "id": "29WV__MQ6XUz"
      }
    },
    {
      "cell_type": "code",
      "source": [
        "from sklearn.tree import DecisionTreeClassifier\n",
        "from sklearn.ensemble import RandomForestClassifier\n",
        "from sklearn.model_selection import cross_val_score"
      ],
      "metadata": {
        "id": "728vWiGF6Tgs"
      },
      "execution_count": null,
      "outputs": []
    },
    {
      "cell_type": "code",
      "source": [
        "# Random Forest와 Decision Tree 모델을 교차 검증(3회)하여 검증 정확도를 저장\n",
        "def cross_validation(classifier, X, y):\n",
        "    cv_scores = []\n",
        "    for i in range(___):\n",
        "        scores = cross_val_score(classifier, X, y,\n",
        "                                 cv=___, scoring='accuracy', n_jobs = -1)\n",
        "        cv_scores.append(scores.mean())\n",
        "    \n",
        "    return cv_scores"
      ],
      "metadata": {
        "id": "8u9vreNd6c25"
      },
      "execution_count": null,
      "outputs": []
    },
    {
      "cell_type": "code",
      "source": [
        "# Decision Tree(dt) 훈련 데이터 검증 정확도\n",
        "# Random_state = 0\n",
        "dt_cv_scores = cross_validation(_________, X_train, y_train)\n",
        "\n",
        "# Random Forest(rf) 훈련 데이터 검증 정확도\n",
        "# Random_state = 0\n",
        "rf_cv_scores = cross_validation(_________, X_train, y_train)"
      ],
      "metadata": {
        "id": "ZdloNPBR7pEr"
      },
      "execution_count": null,
      "outputs": []
    },
    {
      "cell_type": "markdown",
      "source": [
        "Random Forest & Decision Tree 시각화"
      ],
      "metadata": {
        "id": "lPAmaJkcDCFa"
      }
    },
    {
      "cell_type": "code",
      "source": [
        "cv_dict = {    \n",
        "            'random_forest': rf_cv_scores,\n",
        "            'decision_tree': dt_cv_scores,\n",
        "          }\n",
        "\n",
        "df = pd.DataFrame.from_dict(cv_dict)\n",
        "df.plot()"
      ],
      "metadata": {
        "colab": {
          "base_uri": "https://localhost:8080/",
          "height": 284
        },
        "id": "vzWm4rWPC8oZ",
        "outputId": "d942a5f2-eca1-4ac1-f02f-a50af746f829"
      },
      "execution_count": null,
      "outputs": [
        {
          "output_type": "execute_result",
          "data": {
            "text/plain": [
              "<matplotlib.axes._subplots.AxesSubplot at 0x7f7c2a6cd5d0>"
            ]
          },
          "metadata": {},
          "execution_count": 114
        },
        {
          "output_type": "display_data",
          "data": {
            "text/plain": [
              "<Figure size 432x288 with 1 Axes>"
            ],
            "image/png": "[encoded data removed]"
          },
          "metadata": {
            "needs_background": "light"
          }
        }
      ]
    },
    {
      "cell_type": "markdown",
      "source": [
        "Random Forest가 더 뛰어남을 알 수 있다."
      ],
      "metadata": {
        "id": "e7Fkdsibnb4w"
      }
    },
    {
      "cell_type": "code",
      "source": [
        "import numpy as np\n",
        "# 두 모델의 평균 정확도 측정\n",
        "print(f'Decision Tree accuracy: {np.mean(______)}')\n",
        "print(f'Random Forest accuracy: {np.mean(______)}')"
      ],
      "metadata": {
        "colab": {
          "base_uri": "https://localhost:8080/"
        },
        "id": "I1lAkk-OC9W5",
        "outputId": "b48da117-a81c-4f56-cf5e-ae66886757cb"
      },
      "execution_count": null,
      "outputs": [
        {
          "output_type": "stream",
          "name": "stdout",
          "text": [
            "Decision Tree accuracy: 0.8238567071055268\n",
            "Random Forest accuracy: 0.9069660863121257\n"
          ]
        }
      ]
    },
    {
      "cell_type": "markdown",
      "source": [
        "#RandomForest와 ExtraTree 비교"
      ],
      "metadata": {
        "id": "oohZY36qQLsE"
      }
    },
    {
      "cell_type": "code",
      "source": [
        "#데이터 준비\n",
        "from sklearn.model_selection import train_test_split\n",
        "from sklearn.datasets import make_moons\n",
        "\n",
        "X, y = make_moons(n_samples=500, noise=0.30, random_state=42)\n",
        "# Random_state = 42\n",
        "X_train, X_test, y_train, y_test = ____________"
      ],
      "metadata": {
        "id": "9t2AMpAiDJsF"
      },
      "execution_count": null,
      "outputs": []
    },
    {
      "cell_type": "code",
      "source": [
        "# Random Forest\n",
        "# n_estimators = 500, max_leaf_nodes = 16, random_state = 42\n",
        "# n_jobs 설정은 안 하셔도 되지만, 뒤에 사용자 행동 인식 데이터 사용할 때는 -1로 설정하는 걸 추천드립니다,, \n",
        "rnd_clf = _______________\n",
        "______________   # 모델 학습\n",
        "y_pred_rf = __________ # test 데이터에 대한 예측값"
      ],
      "metadata": {
        "id": "HT_So4RaQXmD"
      },
      "execution_count": null,
      "outputs": []
    },
    {
      "cell_type": "code",
      "source": [
        "from sklearn.ensemble import ExtraTreesClassifier\n",
        "\n",
        "#엑스트라 트리, 하이퍼파라미터는 Random Forest와 똑같이\n",
        "extra_clf = ____________\n",
        "________   # 모델 학습\n",
        "y_pred_ext = ________ # test 데이터에 대한 예측값"
      ],
      "metadata": {
        "id": "tZwzNkERQcQo"
      },
      "execution_count": null,
      "outputs": []
    },
    {
      "cell_type": "code",
      "source": [
        "from sklearn.metrics import accuracy_score\n",
        "\n",
        "acc_rnd = ________ # 실제값과 예측값에 대한 랜덤 포레스트 정확도\n",
        "acc_extra = __________ # 실제값과 예측값에 대한 엑스트라 트리 정확도\n",
        "print('Random Forest :', acc_rnd)\n",
        "print('Extra Tree :', acc_extra)"
      ],
      "metadata": {
        "colab": {
          "base_uri": "https://localhost:8080/"
        },
        "id": "x33-DUqeQhDK",
        "outputId": "5692b562-59ed-4ed1-a9aa-a7f7a4cc9f49"
      },
      "execution_count": null,
      "outputs": [
        {
          "output_type": "stream",
          "name": "stdout",
          "text": [
            "Random Forest : 0.912\n",
            "Extra Tree : 0.912\n"
          ]
        }
      ]
    },
    {
      "cell_type": "markdown",
      "source": [
        "##Scikit-Learn의 GradientBoostingRegressor를 이용"
      ],
      "metadata": {
        "id": "X2-279W1Ze-j"
      }
    },
    {
      "cell_type": "code",
      "source": [
        "#데이터 생성\n",
        "np.random.seed(42)\n",
        "X = np.random.rand(100, 1) - 0.5\n",
        "y = 3*X[:, 0]**2 + 0.05 * np.random.randn(100)"
      ],
      "metadata": {
        "id": "d4RfLmTBSPGB"
      },
      "execution_count": null,
      "outputs": []
    },
    {
      "cell_type": "code",
      "source": [
        "from sklearn.ensemble import GradientBoostingRegressor\n",
        "\n",
        "# max_depth = 2, n_estimators = 3, learning_rate = 1, random_state = 42\n",
        "gbrt = _______\n",
        "_____ # 모형 학습"
      ],
      "metadata": {
        "id": "sYNxMneQZfWb",
        "colab": {
          "base_uri": "https://localhost:8080/"
        },
        "outputId": "4b68b182-6dc7-4547-cfb5-449721576d24"
      },
      "execution_count": null,
      "outputs": [
        {
          "output_type": "execute_result",
          "data": {
            "text/plain": [
              "GradientBoostingRegressor(learning_rate=1, max_depth=2, n_estimators=3,\n",
              "                          random_state=42)"
            ]
          },
          "metadata": {},
          "execution_count": 31
        }
      ]
    },
    {
      "cell_type": "code",
      "source": [
        "X_new = np.array([[0.8]])  # new data"
      ],
      "metadata": {
        "id": "HiLhFbvgSiSY"
      },
      "execution_count": null,
      "outputs": []
    },
    {
      "cell_type": "code",
      "source": [
        "print('y_pred :', ________) # new data에 대한 모형의 예측값"
      ],
      "metadata": {
        "id": "fwIxmYXrZhoN",
        "colab": {
          "base_uri": "https://localhost:8080/"
        },
        "outputId": "c77a8832-1e58-473a-dfee-8509d64f4a18"
      },
      "execution_count": null,
      "outputs": [
        {
          "output_type": "stream",
          "name": "stdout",
          "text": [
            "y_pred : [0.75026781]\n"
          ]
        }
      ]
    },
    {
      "cell_type": "markdown",
      "source": [
        "아래의 예제는 학습시킬 모델의 개수(n_estimator)를 3개와 200개로 했을 때의 차이를 나타낸 것이다."
      ],
      "metadata": {
        "id": "ip9_GpZcZnkU"
      }
    },
    {
      "cell_type": "code",
      "source": [
        "gbrt_slow = GradientBoostingRegressor(max_depth=2, n_estimators=200, learning_rate=1, random_state=42)\n",
        "gbrt_slow.fit(X, y)\n",
        "print('y_pred :', gbrt_slow.predict(X_new))"
      ],
      "metadata": {
        "id": "vrt3HX8fZmKv",
        "colab": {
          "base_uri": "https://localhost:8080/"
        },
        "outputId": "110f4b0d-d50a-43ca-83f1-87a31184a2b2"
      },
      "execution_count": null,
      "outputs": [
        {
          "output_type": "stream",
          "name": "stdout",
          "text": [
            "y_pred : [0.75026781]\n"
          ]
        }
      ]
    },
    {
      "cell_type": "markdown",
      "source": [
        "예측값은 똑같은 것을 확인할 수 있다."
      ],
      "metadata": {
        "id": "sQjPInoynzhw"
      }
    },
    {
      "cell_type": "markdown",
      "source": [
        "##GradientBoosting이 적용되는 것을 그림으로 표현해보자"
      ],
      "metadata": {
        "id": "OoJY8paYn2an"
      }
    },
    {
      "cell_type": "markdown",
      "source": [
        "예측값 그려주는 함수 정의"
      ],
      "metadata": {
        "id": "6tIkZZ9V9aX4"
      }
    },
    {
      "cell_type": "code",
      "source": [
        "def plot_predictions(regressors, X, y, axes, label=None, style=\"r-\", data_style=\"b.\", data_label=None):\n",
        "    x1 = np.linspace(axes[0], axes[1], 500)\n",
        "    y_pred = sum(regressor.predict(x1.reshape(-1, 1)) for regressor in regressors)\n",
        "    plt.plot(X[:, 0], y, data_style, label=data_label)\n",
        "    plt.plot(x1, y_pred, style, linewidth=2, label=label)\n",
        "    if label or data_label:\n",
        "        plt.legend(loc=\"upper center\", fontsize=16)\n",
        "    plt.axis(axes)"
      ],
      "metadata": {
        "id": "Nv5qvxDbS29J"
      },
      "execution_count": null,
      "outputs": []
    },
    {
      "cell_type": "code",
      "source": [
        "import warnings\n",
        "warnings.filterwarnings('ignore')\n",
        "\n",
        "plt.figure(figsize=(11,4))\n",
        "\n",
        "plt.subplot(121)\n",
        "plot_predictions([gbrt], X, y, axes=[-0.5, 0.5, -0.1, 0.8], label=\"앙상블의 예측\")\n",
        "plt.title(\"learning_rate={}, n_estimators={}\".format(gbrt.learning_rate, gbrt.n_estimators), fontsize=14)\n",
        "\n",
        "plt.subplot(122)\n",
        "plot_predictions([gbrt_slow], X, y, axes=[-0.5, 0.5, -0.1, 0.8])\n",
        "plt.title(\"learning_rate={}, n_estimators={}\".format(gbrt_slow.learning_rate, gbrt_slow.n_estimators), fontsize=14)\n",
        "\n",
        "plt.show()"
      ],
      "metadata": {
        "id": "Oo504_4NZpFJ",
        "colab": {
          "base_uri": "https://localhost:8080/",
          "height": 282
        },
        "outputId": "20685b9b-1a42-4c52-d800-efe80e59df89"
      },
      "execution_count": null,
      "outputs": [
        {
          "output_type": "display_data",
          "data": {
            "text/plain": [
              "<Figure size 792x288 with 2 Axes>"
            ],
            "image/png": "[encoded data removed]"
          },
          "metadata": {
            "needs_background": "light"
          }
        }
      ]
    },
    {
      "cell_type": "markdown",
      "source": [
        "##n_estimators = 200일 때 데이터에 더 근접하게 적합됨을 알 수 있다. 따라서 연산 속도가 느려진다."
      ],
      "metadata": {
        "id": "LF6rTQN9oQqz"
      }
    },
    {
      "cell_type": "markdown",
      "source": [
        "# XGBoost - 사용자 행동 인식 데이터"
      ],
      "metadata": {
        "id": "u2wXJIxO-zSC"
      }
    },
    {
      "cell_type": "code",
      "source": [
        "# 사이킷런 래퍼 XGboost\n",
        "from xgboost import XGBClassifier"
      ],
      "metadata": {
        "id": "Y_ZsBu27RUJO"
      },
      "execution_count": null,
      "outputs": []
    },
    {
      "cell_type": "code",
      "source": [
        "# 훈련 데이터 셋을 훈련과 검증 셋으로 나눕니다.\n",
        "X_train, X_test, y_train, y_test = ________ # 위의 사용자 행동 인식 데이터 불러오는 함수 이용\n",
        "\n",
        "# 학습 데이터를 다시 새로운 학습과 검증 데이터로 분리합니다.\n",
        "# test_size = 0.2, random_state = 0\n",
        "X_train, X_val, y_train, y_val = ________"
      ],
      "metadata": {
        "id": "_EeusB5WToqI"
      },
      "execution_count": null,
      "outputs": []
    },
    {
      "cell_type": "code",
      "source": [
        "evals = [(X_val, y_val)] # evals에 검증 셋을 넣습니다.\n",
        "\n",
        "#n_estimators = 100으로. 더 늘리면 시간 너무 오래 걸림\n",
        "# learning_rate = 0.1, objective = 'multi:softmax' (why? multi-class 문제이므로)\n",
        "# num_class = 6 (why? 종속변수 label이 6개이므로)\n",
        "# max_depth = 3, random_state = 0\n",
        "# n_jobs = -1 강추\n",
        "xgb_wrapper = ________\n",
        "\n",
        "# 모형 학습. eval_set = evals, eval_metric = 'mlogloss' (why? multi-class 문제라 'logloss'는 사용 불가)\n",
        "# verbose = True\n",
        "_________\n",
        "\n",
        "# 테스트 데이터에 대한 예측값\n",
        "w_preds = ________"
      ],
      "metadata": {
        "colab": {
          "base_uri": "https://localhost:8080/"
        },
        "id": "NE-_eOk_dU1R",
        "outputId": "0c203907-debd-4f9f-ea68-6c21021e5f3a"
      },
      "execution_count": null,
      "outputs": [
        {
          "output_type": "stream",
          "name": "stdout",
          "text": [
            "[0]\tvalidation_0-mlogloss:1.56475\n",
            "[1]\tvalidation_0-mlogloss:1.39171\n",
            "[2]\tvalidation_0-mlogloss:1.25065\n",
            "[3]\tvalidation_0-mlogloss:1.12957\n",
            "[4]\tvalidation_0-mlogloss:1.02754\n",
            "[5]\tvalidation_0-mlogloss:0.939304\n",
            "[6]\tvalidation_0-mlogloss:0.862731\n",
            "[7]\tvalidation_0-mlogloss:0.79352\n",
            "[8]\tvalidation_0-mlogloss:0.73332\n",
            "[9]\tvalidation_0-mlogloss:0.678792\n",
            "[10]\tvalidation_0-mlogloss:0.63003\n",
            "[11]\tvalidation_0-mlogloss:0.587225\n",
            "[12]\tvalidation_0-mlogloss:0.547352\n",
            "[13]\tvalidation_0-mlogloss:0.511273\n",
            "[14]\tvalidation_0-mlogloss:0.478886\n",
            "[15]\tvalidation_0-mlogloss:0.448629\n",
            "[16]\tvalidation_0-mlogloss:0.421753\n",
            "[17]\tvalidation_0-mlogloss:0.396974\n",
            "[18]\tvalidation_0-mlogloss:0.373898\n",
            "[19]\tvalidation_0-mlogloss:0.353054\n",
            "[20]\tvalidation_0-mlogloss:0.334434\n",
            "[21]\tvalidation_0-mlogloss:0.317355\n",
            "[22]\tvalidation_0-mlogloss:0.301113\n",
            "[23]\tvalidation_0-mlogloss:0.286375\n",
            "[24]\tvalidation_0-mlogloss:0.272835\n",
            "[25]\tvalidation_0-mlogloss:0.25993\n",
            "[26]\tvalidation_0-mlogloss:0.247088\n",
            "[27]\tvalidation_0-mlogloss:0.236556\n",
            "[28]\tvalidation_0-mlogloss:0.22625\n",
            "[29]\tvalidation_0-mlogloss:0.21685\n",
            "[30]\tvalidation_0-mlogloss:0.207066\n",
            "[31]\tvalidation_0-mlogloss:0.199453\n",
            "[32]\tvalidation_0-mlogloss:0.191911\n",
            "[33]\tvalidation_0-mlogloss:0.184512\n",
            "[34]\tvalidation_0-mlogloss:0.177939\n",
            "[35]\tvalidation_0-mlogloss:0.170733\n",
            "[36]\tvalidation_0-mlogloss:0.165004\n",
            "[37]\tvalidation_0-mlogloss:0.158937\n",
            "[38]\tvalidation_0-mlogloss:0.153814\n",
            "[39]\tvalidation_0-mlogloss:0.148431\n",
            "[40]\tvalidation_0-mlogloss:0.142527\n",
            "[41]\tvalidation_0-mlogloss:0.137439\n",
            "[42]\tvalidation_0-mlogloss:0.13329\n",
            "[43]\tvalidation_0-mlogloss:0.128789\n",
            "[44]\tvalidation_0-mlogloss:0.125754\n",
            "[45]\tvalidation_0-mlogloss:0.12139\n",
            "[46]\tvalidation_0-mlogloss:0.117338\n",
            "[47]\tvalidation_0-mlogloss:0.113593\n",
            "[48]\tvalidation_0-mlogloss:0.110168\n",
            "[49]\tvalidation_0-mlogloss:0.107381\n",
            "[50]\tvalidation_0-mlogloss:0.104188\n",
            "[51]\tvalidation_0-mlogloss:0.101713\n",
            "[52]\tvalidation_0-mlogloss:0.099438\n",
            "[53]\tvalidation_0-mlogloss:0.096591\n",
            "[54]\tvalidation_0-mlogloss:0.093987\n",
            "[55]\tvalidation_0-mlogloss:0.091896\n",
            "[56]\tvalidation_0-mlogloss:0.089873\n",
            "[57]\tvalidation_0-mlogloss:0.088362\n",
            "[58]\tvalidation_0-mlogloss:0.086473\n",
            "[59]\tvalidation_0-mlogloss:0.08471\n",
            "[60]\tvalidation_0-mlogloss:0.082442\n",
            "[61]\tvalidation_0-mlogloss:0.080955\n",
            "[62]\tvalidation_0-mlogloss:0.079351\n",
            "[63]\tvalidation_0-mlogloss:0.077617\n",
            "[64]\tvalidation_0-mlogloss:0.07609\n",
            "[65]\tvalidation_0-mlogloss:0.074872\n",
            "[66]\tvalidation_0-mlogloss:0.07356\n",
            "[67]\tvalidation_0-mlogloss:0.072476\n",
            "[68]\tvalidation_0-mlogloss:0.071379\n",
            "[69]\tvalidation_0-mlogloss:0.069942\n",
            "[70]\tvalidation_0-mlogloss:0.068789\n",
            "[71]\tvalidation_0-mlogloss:0.067565\n",
            "[72]\tvalidation_0-mlogloss:0.066606\n",
            "[73]\tvalidation_0-mlogloss:0.065609\n",
            "[74]\tvalidation_0-mlogloss:0.064747\n",
            "[75]\tvalidation_0-mlogloss:0.063743\n",
            "[76]\tvalidation_0-mlogloss:0.062754\n",
            "[77]\tvalidation_0-mlogloss:0.061485\n",
            "[78]\tvalidation_0-mlogloss:0.060506\n",
            "[79]\tvalidation_0-mlogloss:0.059589\n",
            "[80]\tvalidation_0-mlogloss:0.05885\n",
            "[81]\tvalidation_0-mlogloss:0.057978\n",
            "[82]\tvalidation_0-mlogloss:0.057292\n",
            "[83]\tvalidation_0-mlogloss:0.056344\n",
            "[84]\tvalidation_0-mlogloss:0.055678\n",
            "[85]\tvalidation_0-mlogloss:0.055141\n",
            "[86]\tvalidation_0-mlogloss:0.05455\n",
            "[87]\tvalidation_0-mlogloss:0.053782\n",
            "[88]\tvalidation_0-mlogloss:0.053372\n",
            "[89]\tvalidation_0-mlogloss:0.052762\n",
            "[90]\tvalidation_0-mlogloss:0.051772\n",
            "[91]\tvalidation_0-mlogloss:0.051041\n",
            "[92]\tvalidation_0-mlogloss:0.050349\n",
            "[93]\tvalidation_0-mlogloss:0.049674\n",
            "[94]\tvalidation_0-mlogloss:0.048885\n",
            "[95]\tvalidation_0-mlogloss:0.04841\n",
            "[96]\tvalidation_0-mlogloss:0.047665\n",
            "[97]\tvalidation_0-mlogloss:0.047087\n",
            "[98]\tvalidation_0-mlogloss:0.046409\n",
            "[99]\tvalidation_0-mlogloss:0.045719\n"
          ]
        }
      ]
    },
    {
      "cell_type": "code",
      "source": [
        "# 평가 지표 출력해보자\n",
        "# precision, recall, f1-score, support, accuracy가 한 번에 나오도록\n",
        "# https://scikit-learn.org/stable/modules/classes.html#module-sklearn.metrics\n",
        "# 위의 sklearn.metrics 사이트 참조\n",
        "from sklearn.metrics import _________\n",
        "\n",
        "print(________________) # 실제갑과 예측값을 이용"
      ],
      "metadata": {
        "colab": {
          "base_uri": "https://localhost:8080/"
        },
        "id": "fIgZn6qHYA1u",
        "outputId": "73c57e31-25af-47aa-c328-857c32f37c8a"
      },
      "execution_count": null,
      "outputs": [
        {
          "output_type": "stream",
          "name": "stdout",
          "text": [
            "              precision    recall  f1-score   support\n",
            "\n",
            "           1       0.93      0.99      0.96       496\n",
            "           2       0.92      0.93      0.92       471\n",
            "           3       0.98      0.90      0.94       420\n",
            "           4       0.93      0.86      0.89       491\n",
            "           5       0.88      0.94      0.91       532\n",
            "           6       1.00      1.00      1.00       537\n",
            "\n",
            "    accuracy                           0.94      2947\n",
            "   macro avg       0.94      0.94      0.94      2947\n",
            "weighted avg       0.94      0.94      0.94      2947\n",
            "\n"
          ]
        }
      ]
    },
    {
      "cell_type": "markdown",
      "source": [
        "평가 지표가 매우 좋네요!"
      ],
      "metadata": {
        "id": "X6ebXlX4prw4"
      }
    },
    {
      "cell_type": "markdown",
      "source": [
        "XGB Regression은 밑의 링크를 참조하세요!\n",
        "https://machinelearningmastery.com/xgboost-for-regression/"
      ],
      "metadata": {
        "id": "0No8BHvssotm"
      }
    },
    {
      "cell_type": "markdown",
      "source": [
        "#LGBM - 사용자 행동 인식 데이터"
      ],
      "metadata": {
        "id": "NuwoMsEFp3PW"
      }
    },
    {
      "cell_type": "code",
      "source": [
        "from lightgbm import LGBMClassifier\n",
        "\n",
        "# n_estimators = 100, learning_rate = 0.05, objective = 'multiclass', num_class = 6\n",
        "lgbm_wrapper = ___________\n",
        "\n",
        "evals = [(X_val, y_val)]\n",
        "# 모형 학습, eval_set = evals, verbose = True\n",
        "_________\n",
        "l_preds = _________ # 테스트 데이터에 대한 예측값"
      ],
      "metadata": {
        "colab": {
          "base_uri": "https://localhost:8080/"
        },
        "id": "Tq_A1IoeVtTj",
        "outputId": "5d3f9b1e-43bf-4b0c-e1c5-535adf5f0520"
      },
      "execution_count": null,
      "outputs": [
        {
          "output_type": "stream",
          "name": "stdout",
          "text": [
            "[1]\tvalid_0's multi_logloss: 1.65355\n",
            "[2]\tvalid_0's multi_logloss: 1.54333\n",
            "[3]\tvalid_0's multi_logloss: 1.44534\n",
            "[4]\tvalid_0's multi_logloss: 1.35807\n",
            "[5]\tvalid_0's multi_logloss: 1.27954\n",
            "[6]\tvalid_0's multi_logloss: 1.20759\n",
            "[7]\tvalid_0's multi_logloss: 1.14212\n",
            "[8]\tvalid_0's multi_logloss: 1.08099\n",
            "[9]\tvalid_0's multi_logloss: 1.02475\n",
            "[10]\tvalid_0's multi_logloss: 0.972712\n",
            "[11]\tvalid_0's multi_logloss: 0.924026\n",
            "[12]\tvalid_0's multi_logloss: 0.878711\n",
            "[13]\tvalid_0's multi_logloss: 0.836225\n",
            "[14]\tvalid_0's multi_logloss: 0.796585\n",
            "[15]\tvalid_0's multi_logloss: 0.759761\n",
            "[16]\tvalid_0's multi_logloss: 0.725224\n",
            "[17]\tvalid_0's multi_logloss: 0.692739\n",
            "[18]\tvalid_0's multi_logloss: 0.661734\n",
            "[19]\tvalid_0's multi_logloss: 0.63289\n",
            "[20]\tvalid_0's multi_logloss: 0.604954\n",
            "[21]\tvalid_0's multi_logloss: 0.578661\n",
            "[22]\tvalid_0's multi_logloss: 0.553534\n",
            "[23]\tvalid_0's multi_logloss: 0.530261\n",
            "[24]\tvalid_0's multi_logloss: 0.507886\n",
            "[25]\tvalid_0's multi_logloss: 0.486787\n",
            "[26]\tvalid_0's multi_logloss: 0.467246\n",
            "[27]\tvalid_0's multi_logloss: 0.448236\n",
            "[28]\tvalid_0's multi_logloss: 0.430113\n",
            "[29]\tvalid_0's multi_logloss: 0.413238\n",
            "[30]\tvalid_0's multi_logloss: 0.396822\n",
            "[31]\tvalid_0's multi_logloss: 0.381392\n",
            "[32]\tvalid_0's multi_logloss: 0.366777\n",
            "[33]\tvalid_0's multi_logloss: 0.352555\n",
            "[34]\tvalid_0's multi_logloss: 0.339158\n",
            "[35]\tvalid_0's multi_logloss: 0.326144\n",
            "[36]\tvalid_0's multi_logloss: 0.31374\n",
            "[37]\tvalid_0's multi_logloss: 0.301877\n",
            "[38]\tvalid_0's multi_logloss: 0.290667\n",
            "[39]\tvalid_0's multi_logloss: 0.279857\n",
            "[40]\tvalid_0's multi_logloss: 0.269742\n",
            "[41]\tvalid_0's multi_logloss: 0.259551\n",
            "[42]\tvalid_0's multi_logloss: 0.250066\n",
            "[43]\tvalid_0's multi_logloss: 0.241009\n",
            "[44]\tvalid_0's multi_logloss: 0.232304\n",
            "[45]\tvalid_0's multi_logloss: 0.224138\n",
            "[46]\tvalid_0's multi_logloss: 0.216165\n",
            "[47]\tvalid_0's multi_logloss: 0.208641\n",
            "[48]\tvalid_0's multi_logloss: 0.20165\n",
            "[49]\tvalid_0's multi_logloss: 0.194886\n",
            "[50]\tvalid_0's multi_logloss: 0.188173\n",
            "[51]\tvalid_0's multi_logloss: 0.182011\n",
            "[52]\tvalid_0's multi_logloss: 0.176031\n",
            "[53]\tvalid_0's multi_logloss: 0.170205\n",
            "[54]\tvalid_0's multi_logloss: 0.164704\n",
            "[55]\tvalid_0's multi_logloss: 0.159432\n",
            "[56]\tvalid_0's multi_logloss: 0.154371\n",
            "[57]\tvalid_0's multi_logloss: 0.149354\n",
            "[58]\tvalid_0's multi_logloss: 0.144569\n",
            "[59]\tvalid_0's multi_logloss: 0.140073\n",
            "[60]\tvalid_0's multi_logloss: 0.135838\n",
            "[61]\tvalid_0's multi_logloss: 0.131587\n",
            "[62]\tvalid_0's multi_logloss: 0.127485\n",
            "[63]\tvalid_0's multi_logloss: 0.123612\n",
            "[64]\tvalid_0's multi_logloss: 0.119919\n",
            "[65]\tvalid_0's multi_logloss: 0.116408\n",
            "[66]\tvalid_0's multi_logloss: 0.113168\n",
            "[67]\tvalid_0's multi_logloss: 0.109959\n",
            "[68]\tvalid_0's multi_logloss: 0.107078\n",
            "[69]\tvalid_0's multi_logloss: 0.104203\n",
            "[70]\tvalid_0's multi_logloss: 0.101426\n",
            "[71]\tvalid_0's multi_logloss: 0.0987598\n",
            "[72]\tvalid_0's multi_logloss: 0.0961651\n",
            "[73]\tvalid_0's multi_logloss: 0.0936272\n",
            "[74]\tvalid_0's multi_logloss: 0.091378\n",
            "[75]\tvalid_0's multi_logloss: 0.0890297\n",
            "[76]\tvalid_0's multi_logloss: 0.086833\n",
            "[77]\tvalid_0's multi_logloss: 0.0848006\n",
            "[78]\tvalid_0's multi_logloss: 0.0828324\n",
            "[79]\tvalid_0's multi_logloss: 0.0809574\n",
            "[80]\tvalid_0's multi_logloss: 0.0791408\n",
            "[81]\tvalid_0's multi_logloss: 0.0772743\n",
            "[82]\tvalid_0's multi_logloss: 0.0755252\n",
            "[83]\tvalid_0's multi_logloss: 0.0740005\n",
            "[84]\tvalid_0's multi_logloss: 0.0724658\n",
            "[85]\tvalid_0's multi_logloss: 0.0709435\n",
            "[86]\tvalid_0's multi_logloss: 0.069511\n",
            "[87]\tvalid_0's multi_logloss: 0.068188\n",
            "[88]\tvalid_0's multi_logloss: 0.0667741\n",
            "[89]\tvalid_0's multi_logloss: 0.0652587\n",
            "[90]\tvalid_0's multi_logloss: 0.0638623\n",
            "[91]\tvalid_0's multi_logloss: 0.0625092\n",
            "[92]\tvalid_0's multi_logloss: 0.0614365\n",
            "[93]\tvalid_0's multi_logloss: 0.0603065\n",
            "[94]\tvalid_0's multi_logloss: 0.0591643\n",
            "[95]\tvalid_0's multi_logloss: 0.0579871\n",
            "[96]\tvalid_0's multi_logloss: 0.0569662\n",
            "[97]\tvalid_0's multi_logloss: 0.0559476\n",
            "[98]\tvalid_0's multi_logloss: 0.0550944\n",
            "[99]\tvalid_0's multi_logloss: 0.0541109\n",
            "[100]\tvalid_0's multi_logloss: 0.0531837\n"
          ]
        }
      ]
    },
    {
      "cell_type": "code",
      "source": [
        "# 평가 지표 출력해보자\n",
        "# precision, recall, f1-score, support, accuracy가 한 번에 나오도록\n",
        "from sklearn.metrics import ___________\n",
        "\n",
        "print(________) # 실제값과 예측값 이용"
      ],
      "metadata": {
        "colab": {
          "base_uri": "https://localhost:8080/"
        },
        "id": "jpsaE9kVWi-R",
        "outputId": "b38222cb-4c27-46c6-e27e-6df42a4516a5"
      },
      "execution_count": null,
      "outputs": [
        {
          "output_type": "stream",
          "name": "stdout",
          "text": [
            "              precision    recall  f1-score   support\n",
            "\n",
            "           1       0.90      0.96      0.93       496\n",
            "           2       0.90      0.87      0.89       471\n",
            "           3       0.95      0.90      0.92       420\n",
            "           4       0.91      0.80      0.85       491\n",
            "           5       0.84      0.93      0.88       532\n",
            "           6       1.00      1.00      1.00       537\n",
            "\n",
            "    accuracy                           0.91      2947\n",
            "   macro avg       0.92      0.91      0.91      2947\n",
            "weighted avg       0.92      0.91      0.91      2947\n",
            "\n"
          ]
        }
      ]
    },
    {
      "cell_type": "markdown",
      "source": [
        "LGBM도 좋은 평가지표를 보이네요!"
      ],
      "metadata": {
        "id": "h5Pbw-m6rvY6"
      }
    },
    {
      "cell_type": "markdown",
      "source": [
        "LGBM Regression은 밑의 링크를 참조하세요!\n",
        "https://www.datatechnotes.com/2022/03/lightgbm-regression-example-in-python.html"
      ],
      "metadata": {
        "id": "78sXUn0VsIeD"
      }
    },
    {
      "cell_type": "markdown",
      "source": [
        "# 감사합니다!"
      ],
      "metadata": {
        "id": "WCxkv9xdAF7X"
      }
    },
    {
      "cell_type": "code",
      "source": [],
      "metadata": {
        "id": "t__D0M2uAHFP"
      },
      "execution_count": null,
      "outputs": []
    }
  ]
}